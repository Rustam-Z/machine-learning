{
 "cells": [
  {
   "cell_type": "markdown",
   "metadata": {},
   "source": [
    "# Classification\n",
    "\n",
    "* Binary Classification - predict two classes (True / False)\n",
    "* Multiclass Classification\n",
    "* Performance measure\n",
    "    - Measuring accuracy using cross-validation\n",
    "    - Confusion matrix\n",
    "    - Precision and recall trade-off\n",
    "    - ROC curve"
   ]
  },
  {
   "cell_type": "code",
   "execution_count": 1,
   "metadata": {},
   "outputs": [],
   "source": [
    "# Python ≥3.5 is required\n",
    "import sys\n",
    "assert sys.version_info >= (3, 5)\n",
    "\n",
    "# Scikit-Learn ≥0.20 is required\n",
    "import sklearn\n",
    "assert sklearn.__version__ >= \"0.20\"\n",
    "\n",
    "# Common imports\n",
    "import numpy as np\n",
    "import pandas as pd\n",
    "import os\n",
    "\n",
    "# to make this notebook's output stable across runs\n",
    "np.random.seed(42)\n",
    "\n",
    "# To plot pretty figures\n",
    "%matplotlib inline\n",
    "import matplotlib as mpl\n",
    "import matplotlib.pyplot as plt\n",
    "mpl.rc('axes', labelsize=14)\n",
    "mpl.rc('xtick', labelsize=12)\n",
    "mpl.rc('ytick', labelsize=12)\n",
    "\n",
    "# Where to save the figures\n",
    "PROJECT_ROOT_DIR = \".\"\n",
    "CHAPTER_ID = \"classification\"\n",
    "IMAGES_PATH = os.path.join(PROJECT_ROOT_DIR, \"img\", CHAPTER_ID)\n",
    "os.makedirs(IMAGES_PATH, exist_ok=True)\n",
    "\n",
    "def save_fig(fig_id, tight_layout=True, fig_extension=\"png\", resolution=300):\n",
    "    path = os.path.join(IMAGES_PATH, fig_id + \".\" + fig_extension)\n",
    "    print(\"Saving figure\", fig_id)\n",
    "    if tight_layout:\n",
    "        plt.tight_layout()\n",
    "    plt.savefig(path, format=fig_extension, dpi=resolution)"
   ]
  },
  {
   "cell_type": "code",
   "execution_count": 2,
   "metadata": {},
   "outputs": [],
   "source": [
    "from sklearn.datasets import fetch_openml\n",
    "\n",
    "# Training binary classifier\n",
    "from sklearn.linear_model import SGDClassifier\n",
    "\n",
    "# Performance measure\n",
    "from sklearn.model_selection import cross_val_score\n",
    "from sklearn.model_selection import StratifiedKFold\n",
    "from sklearn.base import BaseEstimator\n"
   ]
  },
  {
   "cell_type": "markdown",
   "metadata": {},
   "source": [
    "# MNIST"
   ]
  },
  {
   "cell_type": "code",
   "execution_count": 3,
   "metadata": {},
   "outputs": [
    {
     "output_type": "execute_result",
     "data": {
      "text/plain": [
       "dict_keys(['data', 'target', 'frame', 'categories', 'feature_names', 'target_names', 'DESCR', 'details', 'url'])"
      ]
     },
     "metadata": {},
     "execution_count": 3
    }
   ],
   "source": [
    "from sklearn.datasets import fetch_openml\n",
    "mnist = fetch_openml('mnist_784', version=1)\n",
    "mnist.keys()"
   ]
  },
  {
   "cell_type": "code",
   "execution_count": 4,
   "metadata": {},
   "outputs": [
    {
     "output_type": "execute_result",
     "data": {
      "text/plain": [
       "(70000, 784)"
      ]
     },
     "metadata": {},
     "execution_count": 4
    }
   ],
   "source": [
    "X, y = mnist[\"data\"], mnist[\"target\"]\n",
    "X.shape"
   ]
  },
  {
   "cell_type": "code",
   "execution_count": 5,
   "metadata": {},
   "outputs": [
    {
     "output_type": "execute_result",
     "data": {
      "text/plain": [
       "(70000,)"
      ]
     },
     "metadata": {},
     "execution_count": 5
    }
   ],
   "source": [
    "y.shape"
   ]
  },
  {
   "cell_type": "code",
   "execution_count": 6,
   "metadata": {},
   "outputs": [
    {
     "output_type": "execute_result",
     "data": {
      "text/plain": [
       "784"
      ]
     },
     "metadata": {},
     "execution_count": 6
    }
   ],
   "source": [
    "28 * 28"
   ]
  },
  {
   "cell_type": "code",
   "execution_count": 7,
   "metadata": {},
   "outputs": [
    {
     "output_type": "execute_result",
     "data": {
      "text/plain": [
       "0        618\n",
       "1        608\n",
       "2        664\n",
       "3        688\n",
       "4        642\n",
       "        ... \n",
       "69995    606\n",
       "69996    606\n",
       "69997    620\n",
       "69998    635\n",
       "69999    544\n",
       "Length: 70000, dtype: int64"
      ]
     },
     "metadata": {},
     "execution_count": 7
    }
   ],
   "source": [
    "(X == 0.0).sum(axis=1) # axis=1 row"
   ]
  },
  {
   "cell_type": "code",
   "execution_count": 8,
   "metadata": {},
   "outputs": [
    {
     "output_type": "execute_result",
     "data": {
      "text/plain": [
       "   pixel1  pixel2  pixel3  pixel4  pixel5  pixel6  pixel7  pixel8  pixel9  \\\n",
       "0     0.0     0.0     0.0     0.0     0.0     0.0     0.0     0.0     0.0   \n",
       "1     0.0     0.0     0.0     0.0     0.0     0.0     0.0     0.0     0.0   \n",
       "2     0.0     0.0     0.0     0.0     0.0     0.0     0.0     0.0     0.0   \n",
       "3     0.0     0.0     0.0     0.0     0.0     0.0     0.0     0.0     0.0   \n",
       "4     0.0     0.0     0.0     0.0     0.0     0.0     0.0     0.0     0.0   \n",
       "\n",
       "   pixel10  ...  pixel775  pixel776  pixel777  pixel778  pixel779  pixel780  \\\n",
       "0      0.0  ...       0.0       0.0       0.0       0.0       0.0       0.0   \n",
       "1      0.0  ...       0.0       0.0       0.0       0.0       0.0       0.0   \n",
       "2      0.0  ...       0.0       0.0       0.0       0.0       0.0       0.0   \n",
       "3      0.0  ...       0.0       0.0       0.0       0.0       0.0       0.0   \n",
       "4      0.0  ...       0.0       0.0       0.0       0.0       0.0       0.0   \n",
       "\n",
       "   pixel781  pixel782  pixel783  pixel784  \n",
       "0       0.0       0.0       0.0       0.0  \n",
       "1       0.0       0.0       0.0       0.0  \n",
       "2       0.0       0.0       0.0       0.0  \n",
       "3       0.0       0.0       0.0       0.0  \n",
       "4       0.0       0.0       0.0       0.0  \n",
       "\n",
       "[5 rows x 784 columns]"
      ],
      "text/html": "<div>\n<style scoped>\n    .dataframe tbody tr th:only-of-type {\n        vertical-align: middle;\n    }\n\n    .dataframe tbody tr th {\n        vertical-align: top;\n    }\n\n    .dataframe thead th {\n        text-align: right;\n    }\n</style>\n<table border=\"1\" class=\"dataframe\">\n  <thead>\n    <tr style=\"text-align: right;\">\n      <th></th>\n      <th>pixel1</th>\n      <th>pixel2</th>\n      <th>pixel3</th>\n      <th>pixel4</th>\n      <th>pixel5</th>\n      <th>pixel6</th>\n      <th>pixel7</th>\n      <th>pixel8</th>\n      <th>pixel9</th>\n      <th>pixel10</th>\n      <th>...</th>\n      <th>pixel775</th>\n      <th>pixel776</th>\n      <th>pixel777</th>\n      <th>pixel778</th>\n      <th>pixel779</th>\n      <th>pixel780</th>\n      <th>pixel781</th>\n      <th>pixel782</th>\n      <th>pixel783</th>\n      <th>pixel784</th>\n    </tr>\n  </thead>\n  <tbody>\n    <tr>\n      <th>0</th>\n      <td>0.0</td>\n      <td>0.0</td>\n      <td>0.0</td>\n      <td>0.0</td>\n      <td>0.0</td>\n      <td>0.0</td>\n      <td>0.0</td>\n      <td>0.0</td>\n      <td>0.0</td>\n      <td>0.0</td>\n      <td>...</td>\n      <td>0.0</td>\n      <td>0.0</td>\n      <td>0.0</td>\n      <td>0.0</td>\n      <td>0.0</td>\n      <td>0.0</td>\n      <td>0.0</td>\n      <td>0.0</td>\n      <td>0.0</td>\n      <td>0.0</td>\n    </tr>\n    <tr>\n      <th>1</th>\n      <td>0.0</td>\n      <td>0.0</td>\n      <td>0.0</td>\n      <td>0.0</td>\n      <td>0.0</td>\n      <td>0.0</td>\n      <td>0.0</td>\n      <td>0.0</td>\n      <td>0.0</td>\n      <td>0.0</td>\n      <td>...</td>\n      <td>0.0</td>\n      <td>0.0</td>\n      <td>0.0</td>\n      <td>0.0</td>\n      <td>0.0</td>\n      <td>0.0</td>\n      <td>0.0</td>\n      <td>0.0</td>\n      <td>0.0</td>\n      <td>0.0</td>\n    </tr>\n    <tr>\n      <th>2</th>\n      <td>0.0</td>\n      <td>0.0</td>\n      <td>0.0</td>\n      <td>0.0</td>\n      <td>0.0</td>\n      <td>0.0</td>\n      <td>0.0</td>\n      <td>0.0</td>\n      <td>0.0</td>\n      <td>0.0</td>\n      <td>...</td>\n      <td>0.0</td>\n      <td>0.0</td>\n      <td>0.0</td>\n      <td>0.0</td>\n      <td>0.0</td>\n      <td>0.0</td>\n      <td>0.0</td>\n      <td>0.0</td>\n      <td>0.0</td>\n      <td>0.0</td>\n    </tr>\n    <tr>\n      <th>3</th>\n      <td>0.0</td>\n      <td>0.0</td>\n      <td>0.0</td>\n      <td>0.0</td>\n      <td>0.0</td>\n      <td>0.0</td>\n      <td>0.0</td>\n      <td>0.0</td>\n      <td>0.0</td>\n      <td>0.0</td>\n      <td>...</td>\n      <td>0.0</td>\n      <td>0.0</td>\n      <td>0.0</td>\n      <td>0.0</td>\n      <td>0.0</td>\n      <td>0.0</td>\n      <td>0.0</td>\n      <td>0.0</td>\n      <td>0.0</td>\n      <td>0.0</td>\n    </tr>\n    <tr>\n      <th>4</th>\n      <td>0.0</td>\n      <td>0.0</td>\n      <td>0.0</td>\n      <td>0.0</td>\n      <td>0.0</td>\n      <td>0.0</td>\n      <td>0.0</td>\n      <td>0.0</td>\n      <td>0.0</td>\n      <td>0.0</td>\n      <td>...</td>\n      <td>0.0</td>\n      <td>0.0</td>\n      <td>0.0</td>\n      <td>0.0</td>\n      <td>0.0</td>\n      <td>0.0</td>\n      <td>0.0</td>\n      <td>0.0</td>\n      <td>0.0</td>\n      <td>0.0</td>\n    </tr>\n  </tbody>\n</table>\n<p>5 rows × 784 columns</p>\n</div>"
     },
     "metadata": {},
     "execution_count": 8
    }
   ],
   "source": [
    "X.head()"
   ]
  },
  {
   "cell_type": "code",
   "execution_count": 9,
   "metadata": {},
   "outputs": [
    {
     "output_type": "execute_result",
     "data": {
      "text/plain": [
       "0    5\n",
       "1    0\n",
       "2    4\n",
       "3    1\n",
       "4    9\n",
       "Name: class, dtype: category\n",
       "Categories (10, object): ['0', '1', '2', '3', ..., '6', '7', '8', '9']"
      ]
     },
     "metadata": {},
     "execution_count": 9
    }
   ],
   "source": [
    "y.head()"
   ]
  },
  {
   "cell_type": "code",
   "execution_count": 10,
   "metadata": {},
   "outputs": [
    {
     "output_type": "execute_result",
     "data": {
      "text/plain": [
       "(70000, 784)"
      ]
     },
     "metadata": {},
     "execution_count": 10
    }
   ],
   "source": [
    "X = np.array(X)\n",
    "np.array(X).shape"
   ]
  },
  {
   "cell_type": "code",
   "execution_count": 11,
   "metadata": {},
   "outputs": [
    {
     "output_type": "stream",
     "name": "stdout",
     "text": [
      "Saving figure some_digit_plot\n"
     ]
    },
    {
     "output_type": "display_data",
     "data": {
      "text/plain": "<Figure size 432x288 with 1 Axes>",
      "image/svg+xml": "<?xml version=\"1.0\" encoding=\"utf-8\" standalone=\"no\"?>\n<!DOCTYPE svg PUBLIC \"-//W3C//DTD SVG 1.1//EN\"\n  \"http://www.w3.org/Graphics/SVG/1.1/DTD/svg11.dtd\">\n<svg height=\"280.8pt\" version=\"1.1\" viewBox=\"0 0 280.8 280.8\" width=\"280.8pt\" xmlns=\"http://www.w3.org/2000/svg\" xmlns:xlink=\"http://www.w3.org/1999/xlink\">\n <metadata>\n  <rdf:RDF xmlns:cc=\"http://creativecommons.org/ns#\" xmlns:dc=\"http://purl.org/dc/elements/1.1/\" xmlns:rdf=\"http://www.w3.org/1999/02/22-rdf-syntax-ns#\">\n   <cc:Work>\n    <dc:type rdf:resource=\"http://purl.org/dc/dcmitype/StillImage\"/>\n    <dc:date>2021-06-30T09:47:29.681727</dc:date>\n    <dc:format>image/svg+xml</dc:format>\n    <dc:creator>\n     <cc:Agent>\n      <dc:title>Matplotlib v3.4.1, https://matplotlib.org/</dc:title>\n     </cc:Agent>\n    </dc:creator>\n   </cc:Work>\n  </rdf:RDF>\n </metadata>\n <defs>\n  <style type=\"text/css\">*{stroke-linecap:butt;stroke-linejoin:round;}</style>\n </defs>\n <g id=\"figure_1\">\n  <g id=\"patch_1\">\n   <path d=\"M 0 280.8 \nL 280.8 280.8 \nL 280.8 0 \nL 0 0 \nz\n\" style=\"fill:none;\"/>\n  </g>\n  <g id=\"axes_1\">\n   <g clip-path=\"url(#p1834e5c726)\">\n    <image height=\"267\" id=\"image83601a9c21\" transform=\"scale(1 -1)translate(0 -267)\" width=\"267\" x=\"7.2\" xlink:href=\"data:image/png;base64,\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\" y=\"-6.6\"/>\n   </g>\n  </g>\n </g>\n <defs>\n  <clipPath id=\"p1834e5c726\">\n   <rect height=\"266.4\" width=\"266.4\" x=\"7.2\" y=\"7.2\"/>\n  </clipPath>\n </defs>\n</svg>\n",
      "image/png": "[encoded data removed]"
     },
     "metadata": {
      "needs_background": "light"
     }
    }
   ],
   "source": [
    "%matplotlib inline\n",
    "import matplotlib as mpl\n",
    "import matplotlib.pyplot as plt\n",
    "\n",
    "some_digit = X[0]\n",
    "some_digit_image = some_digit.reshape(28, 28)\n",
    "plt.imshow(some_digit_image, cmap=mpl.cm.binary)\n",
    "plt.axis(\"off\")\n",
    "\n",
    "save_fig(\"some_digit_plot\")\n",
    "plt.show()"
   ]
  },
  {
   "cell_type": "code",
   "execution_count": 12,
   "metadata": {},
   "outputs": [
    {
     "output_type": "execute_result",
     "data": {
      "text/plain": [
       "'5'"
      ]
     },
     "metadata": {},
     "execution_count": 12
    }
   ],
   "source": [
    "y[0]"
   ]
  },
  {
   "source": [
    "As you see the label is a string. We need to change it to Integer:"
   ],
   "cell_type": "markdown",
   "metadata": {}
  },
  {
   "cell_type": "code",
   "execution_count": 13,
   "metadata": {},
   "outputs": [],
   "source": [
    "y = y.astype(np.uint8)"
   ]
  },
  {
   "cell_type": "code",
   "execution_count": 14,
   "metadata": {},
   "outputs": [],
   "source": [
    "def plot_digit(data):\n",
    "    image = data.reshape(28, 28)\n",
    "    plt.imshow(image, cmap = mpl.cm.binary, interpolation=\"nearest\")\n",
    "    plt.axis(\"off\")"
   ]
  },
  {
   "cell_type": "code",
   "execution_count": 15,
   "metadata": {},
   "outputs": [],
   "source": [
    "# EXTRA\n",
    "def plot_digits(instances, images_per_row=10, **options):\n",
    "    size = 28\n",
    "    images_per_row = min(len(instances), images_per_row)\n",
    "    images = [instance.reshape(size,size) for instance in instances]\n",
    "    n_rows = (len(instances) - 1) // images_per_row + 1\n",
    "    row_images = []\n",
    "    n_empty = n_rows * images_per_row - len(instances)\n",
    "    images.append(np.zeros((size, size * n_empty)))\n",
    "    for row in range(n_rows):\n",
    "        rimages = images[row * images_per_row : (row + 1) * images_per_row]\n",
    "        row_images.append(np.concatenate(rimages, axis=1))\n",
    "    image = np.concatenate(row_images, axis=0)\n",
    "    plt.imshow(image, cmap = mpl.cm.binary, **options)\n",
    "    plt.axis(\"off\")"
   ]
  },
  {
   "cell_type": "code",
   "execution_count": 16,
   "metadata": {},
   "outputs": [
    {
     "output_type": "stream",
     "name": "stdout",
     "text": [
      "Saving figure more_digits_plot\n"
     ]
    },
    {
     "output_type": "display_data",
     "data": {
      "text/plain": "<Figure size 648x648 with 1 Axes>",
      "image/svg+xml": "<?xml version=\"1.0\" encoding=\"utf-8\" standalone=\"no\"?>\n<!DOCTYPE svg PUBLIC \"-//W3C//DTD SVG 1.1//EN\"\n  \"http://www.w3.org/Graphics/SVG/1.1/DTD/svg11.dtd\">\n<svg height=\"640.8pt\" version=\"1.1\" viewBox=\"0 0 640.8 640.8\" width=\"640.8pt\" xmlns=\"http://www.w3.org/2000/svg\" xmlns:xlink=\"http://www.w3.org/1999/xlink\">\n <metadata>\n  <rdf:RDF xmlns:cc=\"http://creativecommons.org/ns#\" xmlns:dc=\"http://purl.org/dc/elements/1.1/\" xmlns:rdf=\"http://www.w3.org/1999/02/22-rdf-syntax-ns#\">\n   <cc:Work>\n    <dc:type rdf:resource=\"http://purl.org/dc/dcmitype/StillImage\"/>\n    <dc:date>2021-06-30T09:50:59.248697</dc:date>\n    <dc:format>image/svg+xml</dc:format>\n    <dc:creator>\n     <cc:Agent>\n      <dc:title>Matplotlib v3.4.1, https://matplotlib.org/</dc:title>\n     </cc:Agent>\n    </dc:creator>\n   </cc:Work>\n  </rdf:RDF>\n </metadata>\n <defs>\n  <style type=\"text/css\">*{stroke-linecap:butt;stroke-linejoin:round;}</style>\n </defs>\n <g id=\"figure_1\">\n  <g id=\"patch_1\">\n   <path d=\"M 0 640.8 \nL 640.8 640.8 \nL 640.8 0 \nL 0 0 \nz\n\" style=\"fill:none;\"/>\n  </g>\n  <g id=\"axes_1\">\n   <g clip-path=\"url(#p1796a27208)\">\n    <image height=\"627\" id=\"image7d05bb6a43\" transform=\"scale(1 -1)translate(0 -627)\" width=\"627\" x=\"7.2\" xlink:href=\"data:image/png;base64,\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\" y=\"-6.6\"/>\n   </g>\n  </g>\n </g>\n <defs>\n  <clipPath id=\"p1796a27208\">\n   <rect height=\"626.4\" width=\"626.4\" x=\"7.2\" y=\"7.2\"/>\n  </clipPath>\n </defs>\n</svg>\n",
      "image/png": "[encoded data removed]"
     },
     "metadata": {
      "needs_background": "light"
     }
    }
   ],
   "source": [
    "plt.figure(figsize=(9,9))\n",
    "example_images = X[:100]\n",
    "plot_digits(example_images, images_per_row=10)\n",
    "save_fig(\"more_digits_plot\")\n",
    "plt.show()"
   ]
  },
  {
   "cell_type": "code",
   "execution_count": 17,
   "metadata": {},
   "outputs": [
    {
     "output_type": "execute_result",
     "data": {
      "text/plain": [
       "5"
      ]
     },
     "metadata": {},
     "execution_count": 17
    }
   ],
   "source": [
    "y[0]"
   ]
  },
  {
   "cell_type": "code",
   "execution_count": 18,
   "metadata": {},
   "outputs": [],
   "source": [
    "X_train, X_test, y_train, y_test = X[:60000], X[60000:], y[:60000], y[60000:]"
   ]
  },
  {
   "cell_type": "markdown",
   "metadata": {},
   "source": [
    "# Binary classifier"
   ]
  },
  {
   "cell_type": "code",
   "execution_count": 21,
   "metadata": {},
   "outputs": [],
   "source": [
    "y_train_5 = (y_train == 5)\n",
    "y_test_5 = (y_test == 5)"
   ]
  },
  {
   "cell_type": "code",
   "execution_count": 35,
   "metadata": {},
   "outputs": [
    {
     "output_type": "execute_result",
     "data": {
      "text/plain": [
       "0         True\n",
       "1        False\n",
       "2        False\n",
       "3        False\n",
       "4        False\n",
       "         ...  \n",
       "59995    False\n",
       "59996    False\n",
       "59997     True\n",
       "59998    False\n",
       "59999    False\n",
       "Name: class, Length: 60000, dtype: bool"
      ]
     },
     "metadata": {},
     "execution_count": 35
    }
   ],
   "source": [
    "y_train == 5"
   ]
  },
  {
   "cell_type": "code",
   "execution_count": 32,
   "metadata": {},
   "outputs": [
    {
     "output_type": "execute_result",
     "data": {
      "text/plain": [
       "60000"
      ]
     },
     "metadata": {},
     "execution_count": 32
    }
   ],
   "source": [
    "len(y_train_5)"
   ]
  },
  {
   "cell_type": "markdown",
   "metadata": {},
   "source": [
    "**Note**: some hyperparameters will have a different defaut value in future versions of Scikit-Learn, such as `max_iter` and `tol`. To be future-proof, we explicitly set these hyperparameters to their future default values. For simplicity, this is not shown in the book."
   ]
  },
  {
   "cell_type": "code",
   "execution_count": 22,
   "metadata": {},
   "outputs": [
    {
     "output_type": "execute_result",
     "data": {
      "text/plain": [
       "SGDClassifier(random_state=42)"
      ]
     },
     "metadata": {},
     "execution_count": 22
    }
   ],
   "source": [
    "from sklearn.linear_model import SGDClassifier\n",
    "\n",
    "sgd_clf = SGDClassifier(max_iter=1000, tol=1e-3, random_state=42)\n",
    "sgd_clf.fit(X_train, y_train_5)"
   ]
  },
  {
   "cell_type": "code",
   "execution_count": 23,
   "metadata": {},
   "outputs": [
    {
     "output_type": "execute_result",
     "data": {
      "text/plain": [
       "array([ True])"
      ]
     },
     "metadata": {},
     "execution_count": 23
    }
   ],
   "source": [
    "sgd_clf.predict([some_digit])"
   ]
  },
  {
   "cell_type": "code",
   "execution_count": 31,
   "metadata": {},
   "outputs": [
    {
     "output_type": "execute_result",
     "data": {
      "text/plain": [
       "array([0.95035, 0.96035, 0.9604 ])"
      ]
     },
     "metadata": {},
     "execution_count": 31
    }
   ],
   "source": [
    "from sklearn.model_selection import cross_val_score\n",
    "cross_val_score(sgd_clf, X_train, y_train_5, cv=3, scoring=\"accuracy\")"
   ]
  },
  {
   "cell_type": "code",
   "execution_count": 30,
   "metadata": {},
   "outputs": [
    {
     "output_type": "stream",
     "name": "stdout",
     "text": [
      "0.9669\n",
      "0.91625\n",
      "0.96785\n"
     ]
    }
   ],
   "source": [
    "from sklearn.model_selection import StratifiedKFold\n",
    "from sklearn.base import clone\n",
    "\n",
    "skfolds = StratifiedKFold(n_splits=3, shuffle=True, random_state=42)\n",
    "\n",
    "for train_index, test_index in skfolds.split(X_train, y_train_5):\n",
    "    clone_clf = clone(sgd_clf)\n",
    "    X_train_folds = X_train[train_index]\n",
    "    y_train_folds = y_train_5[train_index]\n",
    "    X_test_fold = X_train[test_index]\n",
    "    y_test_fold = y_train_5[test_index]\n",
    "\n",
    "    clone_clf.fit(X_train_folds, y_train_folds)\n",
    "    y_pred = clone_clf.predict(X_test_fold)\n",
    "    n_correct = sum(y_pred == y_test_fold)\n",
    "    print(n_correct / len(y_pred))"
   ]
  },
  {
   "cell_type": "code",
   "execution_count": 19,
   "metadata": {},
   "outputs": [],
   "source": [
    "from sklearn.base import BaseEstimator\n",
    "\n",
    "class Never5Classifier(BaseEstimator):\n",
    "    def fit(self, X, y=None):\n",
    "        pass\n",
    "    def predict(self, X):\n",
    "        return np.zeros((len(X), 1), dtype=bool)"
   ]
  },
  {
   "cell_type": "code",
   "execution_count": 20,
   "metadata": {},
   "outputs": [
    {
     "data": {
      "text/plain": [
       "array([0.91125, 0.90855, 0.90915])"
      ]
     },
     "execution_count": 20,
     "metadata": {},
     "output_type": "execute_result"
    }
   ],
   "source": [
    "never_5_clf = Never5Classifier()\n",
    "cross_val_score(never_5_clf, X_train, y_train_5, cv=3, scoring=\"accuracy\")"
   ]
  },
  {
   "cell_type": "code",
   "execution_count": 21,
   "metadata": {},
   "outputs": [],
   "source": [
    "from sklearn.model_selection import cross_val_predict\n",
    "\n",
    "y_train_pred = cross_val_predict(sgd_clf, X_train, y_train_5, cv=3)"
   ]
  },
  {
   "cell_type": "code",
   "execution_count": 22,
   "metadata": {},
   "outputs": [
    {
     "data": {
      "text/plain": [
       "array([[53057,  1522],\n",
       "       [ 1325,  4096]])"
      ]
     },
     "execution_count": 22,
     "metadata": {},
     "output_type": "execute_result"
    }
   ],
   "source": [
    "from sklearn.metrics import confusion_matrix\n",
    "\n",
    "confusion_matrix(y_train_5, y_train_pred)"
   ]
  },
  {
   "cell_type": "code",
   "execution_count": 23,
   "metadata": {},
   "outputs": [
    {
     "data": {
      "text/plain": [
       "array([[54579,     0],\n",
       "       [    0,  5421]])"
      ]
     },
     "execution_count": 23,
     "metadata": {},
     "output_type": "execute_result"
    }
   ],
   "source": [
    "y_train_perfect_predictions = y_train_5  # pretend we reached perfection\n",
    "confusion_matrix(y_train_5, y_train_perfect_predictions)"
   ]
  },
  {
   "cell_type": "code",
   "execution_count": 24,
   "metadata": {},
   "outputs": [
    {
     "data": {
      "text/plain": [
       "0.7290850836596654"
      ]
     },
     "execution_count": 24,
     "metadata": {},
     "output_type": "execute_result"
    }
   ],
   "source": [
    "from sklearn.metrics import precision_score, recall_score\n",
    "\n",
    "precision_score(y_train_5, y_train_pred)"
   ]
  },
  {
   "cell_type": "code",
   "execution_count": 25,
   "metadata": {},
   "outputs": [
    {
     "data": {
      "text/plain": [
       "0.7290850836596654"
      ]
     },
     "execution_count": 25,
     "metadata": {},
     "output_type": "execute_result"
    }
   ],
   "source": [
    "4096 / (4096 + 1522)"
   ]
  },
  {
   "cell_type": "code",
   "execution_count": 26,
   "metadata": {},
   "outputs": [
    {
     "data": {
      "text/plain": [
       "0.7555801512636044"
      ]
     },
     "execution_count": 26,
     "metadata": {},
     "output_type": "execute_result"
    }
   ],
   "source": [
    "recall_score(y_train_5, y_train_pred)"
   ]
  },
  {
   "cell_type": "code",
   "execution_count": 27,
   "metadata": {},
   "outputs": [
    {
     "data": {
      "text/plain": [
       "0.7555801512636044"
      ]
     },
     "execution_count": 27,
     "metadata": {},
     "output_type": "execute_result"
    }
   ],
   "source": [
    "4096 / (4096 + 1325)"
   ]
  },
  {
   "cell_type": "code",
   "execution_count": 28,
   "metadata": {},
   "outputs": [
    {
     "data": {
      "text/plain": [
       "0.7420962043663375"
      ]
     },
     "execution_count": 28,
     "metadata": {},
     "output_type": "execute_result"
    }
   ],
   "source": [
    "from sklearn.metrics import f1_score\n",
    "\n",
    "f1_score(y_train_5, y_train_pred)"
   ]
  },
  {
   "cell_type": "code",
   "execution_count": 29,
   "metadata": {},
   "outputs": [
    {
     "data": {
      "text/plain": [
       "0.7420962043663375"
      ]
     },
     "execution_count": 29,
     "metadata": {},
     "output_type": "execute_result"
    }
   ],
   "source": [
    "4096 / (4096 + (1522 + 1325) / 2)"
   ]
  },
  {
   "cell_type": "code",
   "execution_count": 30,
   "metadata": {},
   "outputs": [
    {
     "data": {
      "text/plain": [
       "array([2412.53175101])"
      ]
     },
     "execution_count": 30,
     "metadata": {},
     "output_type": "execute_result"
    }
   ],
   "source": [
    "y_scores = sgd_clf.decision_function([some_digit])\n",
    "y_scores"
   ]
  },
  {
   "cell_type": "code",
   "execution_count": 31,
   "metadata": {},
   "outputs": [],
   "source": [
    "threshold = 0\n",
    "y_some_digit_pred = (y_scores > threshold)"
   ]
  },
  {
   "cell_type": "code",
   "execution_count": 32,
   "metadata": {},
   "outputs": [
    {
     "data": {
      "text/plain": [
       "array([ True])"
      ]
     },
     "execution_count": 32,
     "metadata": {},
     "output_type": "execute_result"
    }
   ],
   "source": [
    "y_some_digit_pred"
   ]
  },
  {
   "cell_type": "code",
   "execution_count": 33,
   "metadata": {},
   "outputs": [
    {
     "data": {
      "text/plain": [
       "array([False])"
      ]
     },
     "execution_count": 33,
     "metadata": {},
     "output_type": "execute_result"
    }
   ],
   "source": [
    "threshold = 8000\n",
    "y_some_digit_pred = (y_scores > threshold)\n",
    "y_some_digit_pred"
   ]
  },
  {
   "cell_type": "code",
   "execution_count": 34,
   "metadata": {},
   "outputs": [],
   "source": [
    "y_scores = cross_val_predict(sgd_clf, X_train, y_train_5, cv=3,\n",
    "                             method=\"decision_function\")"
   ]
  },
  {
   "cell_type": "code",
   "execution_count": 35,
   "metadata": {},
   "outputs": [],
   "source": [
    "from sklearn.metrics import precision_recall_curve\n",
    "\n",
    "precisions, recalls, thresholds = precision_recall_curve(y_train_5, y_scores)"
   ]
  },
  {
   "cell_type": "code",
   "execution_count": 36,
   "metadata": {},
   "outputs": [
    {
     "name": "stdout",
     "output_type": "stream",
     "text": [
      "Saving figure precision_recall_vs_threshold_plot\n"
     ]
    },
    {
     "data": {
      "image/png": "[encoded data removed]",
      "text/plain": [
       "<Figure size 576x288 with 1 Axes>"
      ]
     },
     "metadata": {
      "needs_background": "light"
     },
     "output_type": "display_data"
    }
   ],
   "source": [
    "def plot_precision_recall_vs_threshold(precisions, recalls, thresholds):\n",
    "    plt.plot(thresholds, precisions[:-1], \"b--\", label=\"Precision\", linewidth=2)\n",
    "    plt.plot(thresholds, recalls[:-1], \"g-\", label=\"Recall\", linewidth=2)\n",
    "    plt.legend(loc=\"center right\", fontsize=16) # Not shown in the book\n",
    "    plt.xlabel(\"Threshold\", fontsize=16)        # Not shown\n",
    "    plt.grid(True)                              # Not shown\n",
    "    plt.axis([-50000, 50000, 0, 1])             # Not shown\n",
    "\n",
    "\n",
    "\n",
    "recall_90_precision = recalls[np.argmax(precisions >= 0.90)]\n",
    "threshold_90_precision = thresholds[np.argmax(precisions >= 0.90)]\n",
    "\n",
    "\n",
    "plt.figure(figsize=(8, 4))                                                                  # Not shown\n",
    "plot_precision_recall_vs_threshold(precisions, recalls, thresholds)\n",
    "plt.plot([threshold_90_precision, threshold_90_precision], [0., 0.9], \"r:\")                 # Not shown\n",
    "plt.plot([-50000, threshold_90_precision], [0.9, 0.9], \"r:\")                                # Not shown\n",
    "plt.plot([-50000, threshold_90_precision], [recall_90_precision, recall_90_precision], \"r:\")# Not shown\n",
    "plt.plot([threshold_90_precision], [0.9], \"ro\")                                             # Not shown\n",
    "plt.plot([threshold_90_precision], [recall_90_precision], \"ro\")                             # Not shown\n",
    "save_fig(\"precision_recall_vs_threshold_plot\")                                              # Not shown\n",
    "plt.show()"
   ]
  },
  {
   "cell_type": "code",
   "execution_count": 37,
   "metadata": {},
   "outputs": [
    {
     "data": {
      "text/plain": [
       "True"
      ]
     },
     "execution_count": 37,
     "metadata": {},
     "output_type": "execute_result"
    }
   ],
   "source": [
    "(y_train_pred == (y_scores > 0)).all()"
   ]
  },
  {
   "cell_type": "code",
   "execution_count": 38,
   "metadata": {},
   "outputs": [
    {
     "name": "stdout",
     "output_type": "stream",
     "text": [
      "Saving figure precision_vs_recall_plot\n"
     ]
    },
    {
     "data": {
      "image/png": "[encoded data removed]",
      "text/plain": [
       "<Figure size 576x432 with 1 Axes>"
      ]
     },
     "metadata": {
      "needs_background": "light"
     },
     "output_type": "display_data"
    }
   ],
   "source": [
    "def plot_precision_vs_recall(precisions, recalls):\n",
    "    plt.plot(recalls, precisions, \"b-\", linewidth=2)\n",
    "    plt.xlabel(\"Recall\", fontsize=16)\n",
    "    plt.ylabel(\"Precision\", fontsize=16)\n",
    "    plt.axis([0, 1, 0, 1])\n",
    "    plt.grid(True)\n",
    "\n",
    "plt.figure(figsize=(8, 6))\n",
    "plot_precision_vs_recall(precisions, recalls)\n",
    "plt.plot([0.4368, 0.4368], [0., 0.9], \"r:\")\n",
    "plt.plot([0.0, 0.4368], [0.9, 0.9], \"r:\")\n",
    "plt.plot([0.4368], [0.9], \"ro\")\n",
    "save_fig(\"precision_vs_recall_plot\")\n",
    "plt.show()"
   ]
  },
  {
   "cell_type": "code",
   "execution_count": 39,
   "metadata": {},
   "outputs": [],
   "source": [
    "threshold_90_precision = thresholds[np.argmax(precisions >= 0.90)]"
   ]
  },
  {
   "cell_type": "code",
   "execution_count": 40,
   "metadata": {},
   "outputs": [
    {
     "data": {
      "text/plain": [
       "7816.1555236825225"
      ]
     },
     "execution_count": 40,
     "metadata": {},
     "output_type": "execute_result"
    }
   ],
   "source": [
    "threshold_90_precision"
   ]
  },
  {
   "cell_type": "code",
   "execution_count": 41,
   "metadata": {},
   "outputs": [],
   "source": [
    "y_train_pred_90 = (y_scores >= threshold_90_precision)"
   ]
  },
  {
   "cell_type": "code",
   "execution_count": 42,
   "metadata": {},
   "outputs": [
    {
     "data": {
      "text/plain": [
       "0.9000380083618396"
      ]
     },
     "execution_count": 42,
     "metadata": {},
     "output_type": "execute_result"
    }
   ],
   "source": [
    "precision_score(y_train_5, y_train_pred_90)"
   ]
  },
  {
   "cell_type": "code",
   "execution_count": 43,
   "metadata": {},
   "outputs": [
    {
     "data": {
      "text/plain": [
       "0.4368197749492714"
      ]
     },
     "execution_count": 43,
     "metadata": {},
     "output_type": "execute_result"
    }
   ],
   "source": [
    "recall_score(y_train_5, y_train_pred_90)"
   ]
  },
  {
   "cell_type": "markdown",
   "metadata": {},
   "source": [
    "# ROC curves"
   ]
  },
  {
   "cell_type": "code",
   "execution_count": 44,
   "metadata": {},
   "outputs": [],
   "source": [
    "from sklearn.metrics import roc_curve\n",
    "\n",
    "fpr, tpr, thresholds = roc_curve(y_train_5, y_scores)"
   ]
  },
  {
   "cell_type": "code",
   "execution_count": 45,
   "metadata": {},
   "outputs": [
    {
     "name": "stdout",
     "output_type": "stream",
     "text": [
      "Saving figure roc_curve_plot\n"
     ]
    },
    {
     "data": {
      "image/png": "[encoded data removed]",
      "text/plain": [
       "<Figure size 576x432 with 1 Axes>"
      ]
     },
     "metadata": {
      "needs_background": "light"
     },
     "output_type": "display_data"
    }
   ],
   "source": [
    "def plot_roc_curve(fpr, tpr, label=None):\n",
    "    plt.plot(fpr, tpr, linewidth=2, label=label)\n",
    "    plt.plot([0, 1], [0, 1], 'k--') # dashed diagonal\n",
    "    plt.axis([0, 1, 0, 1])                                    # Not shown in the book\n",
    "    plt.xlabel('False Positive Rate (Fall-Out)', fontsize=16) # Not shown\n",
    "    plt.ylabel('True Positive Rate (Recall)', fontsize=16)    # Not shown\n",
    "    plt.grid(True)                                            # Not shown\n",
    "\n",
    "plt.figure(figsize=(8, 6))                         # Not shown\n",
    "plot_roc_curve(fpr, tpr)\n",
    "plt.plot([4.837e-3, 4.837e-3], [0., 0.4368], \"r:\") # Not shown\n",
    "plt.plot([0.0, 4.837e-3], [0.4368, 0.4368], \"r:\")  # Not shown\n",
    "plt.plot([4.837e-3], [0.4368], \"ro\")               # Not shown\n",
    "save_fig(\"roc_curve_plot\")                         # Not shown\n",
    "plt.show()"
   ]
  },
  {
   "cell_type": "code",
   "execution_count": 46,
   "metadata": {},
   "outputs": [
    {
     "data": {
      "text/plain": [
       "0.9611778893101814"
      ]
     },
     "execution_count": 46,
     "metadata": {},
     "output_type": "execute_result"
    }
   ],
   "source": [
    "from sklearn.metrics import roc_auc_score\n",
    "\n",
    "roc_auc_score(y_train_5, y_scores)"
   ]
  },
  {
   "cell_type": "markdown",
   "metadata": {},
   "source": [
    "**Note**: we set `n_estimators=100` to be future-proof since this will be the default value in Scikit-Learn 0.22."
   ]
  },
  {
   "cell_type": "code",
   "execution_count": 47,
   "metadata": {},
   "outputs": [],
   "source": [
    "from sklearn.ensemble import RandomForestClassifier\n",
    "forest_clf = RandomForestClassifier(n_estimators=100, random_state=42)\n",
    "y_probas_forest = cross_val_predict(forest_clf, X_train, y_train_5, cv=3,\n",
    "                                    method=\"predict_proba\")"
   ]
  },
  {
   "cell_type": "code",
   "execution_count": 48,
   "metadata": {},
   "outputs": [],
   "source": [
    "y_scores_forest = y_probas_forest[:, 1] # score = proba of positive class\n",
    "fpr_forest, tpr_forest, thresholds_forest = roc_curve(y_train_5,y_scores_forest)"
   ]
  },
  {
   "cell_type": "code",
   "execution_count": 49,
   "metadata": {},
   "outputs": [
    {
     "name": "stdout",
     "output_type": "stream",
     "text": [
      "Saving figure roc_curve_comparison_plot\n"
     ]
    },
    {
     "data": {
      "image/png": "[encoded data removed]",
      "text/plain": [
       "<Figure size 576x432 with 1 Axes>"
      ]
     },
     "metadata": {
      "needs_background": "light"
     },
     "output_type": "display_data"
    }
   ],
   "source": [
    "plt.figure(figsize=(8, 6))\n",
    "plt.plot(fpr, tpr, \"b:\", linewidth=2, label=\"SGD\")\n",
    "plot_roc_curve(fpr_forest, tpr_forest, \"Random Forest\")\n",
    "plt.plot([4.837e-3, 4.837e-3], [0., 0.4368], \"r:\")\n",
    "plt.plot([0.0, 4.837e-3], [0.4368, 0.4368], \"r:\")\n",
    "plt.plot([4.837e-3], [0.4368], \"ro\")\n",
    "plt.plot([4.837e-3, 4.837e-3], [0., 0.9487], \"r:\")\n",
    "plt.plot([4.837e-3], [0.9487], \"ro\")\n",
    "plt.grid(True)\n",
    "plt.legend(loc=\"lower right\", fontsize=16)\n",
    "save_fig(\"roc_curve_comparison_plot\")\n",
    "plt.show()"
   ]
  },
  {
   "cell_type": "code",
   "execution_count": 50,
   "metadata": {},
   "outputs": [
    {
     "data": {
      "text/plain": [
       "0.9983436731328145"
      ]
     },
     "execution_count": 50,
     "metadata": {},
     "output_type": "execute_result"
    }
   ],
   "source": [
    "roc_auc_score(y_train_5, y_scores_forest)"
   ]
  },
  {
   "cell_type": "code",
   "execution_count": 51,
   "metadata": {},
   "outputs": [
    {
     "data": {
      "text/plain": [
       "0.9905083315756169"
      ]
     },
     "execution_count": 51,
     "metadata": {},
     "output_type": "execute_result"
    }
   ],
   "source": [
    "y_train_pred_forest = cross_val_predict(forest_clf, X_train, y_train_5, cv=3)\n",
    "precision_score(y_train_5, y_train_pred_forest)"
   ]
  },
  {
   "cell_type": "code",
   "execution_count": 52,
   "metadata": {},
   "outputs": [
    {
     "data": {
      "text/plain": [
       "0.8662608374838591"
      ]
     },
     "execution_count": 52,
     "metadata": {},
     "output_type": "execute_result"
    }
   ],
   "source": [
    "recall_score(y_train_5, y_train_pred_forest)"
   ]
  },
  {
   "cell_type": "markdown",
   "metadata": {},
   "source": [
    "# Multiclass classification"
   ]
  },
  {
   "cell_type": "code",
   "execution_count": 53,
   "metadata": {},
   "outputs": [
    {
     "data": {
      "text/plain": [
       "array([5], dtype=uint8)"
      ]
     },
     "execution_count": 53,
     "metadata": {},
     "output_type": "execute_result"
    }
   ],
   "source": [
    "from sklearn.svm import SVC\n",
    "\n",
    "svm_clf = SVC(gamma=\"auto\", random_state=42)\n",
    "svm_clf.fit(X_train[:1000], y_train[:1000]) # y_train, not y_train_5\n",
    "svm_clf.predict([some_digit])"
   ]
  },
  {
   "cell_type": "code",
   "execution_count": 54,
   "metadata": {},
   "outputs": [
    {
     "data": {
      "text/plain": [
       "array([[ 2.92492871,  7.02307409,  3.93648529,  0.90117363,  5.96945908,\n",
       "         9.5       ,  1.90718593,  8.02755089, -0.13202708,  4.94216947]])"
      ]
     },
     "execution_count": 54,
     "metadata": {},
     "output_type": "execute_result"
    }
   ],
   "source": [
    "some_digit_scores = svm_clf.decision_function([some_digit])\n",
    "some_digit_scores"
   ]
  },
  {
   "cell_type": "code",
   "execution_count": 55,
   "metadata": {},
   "outputs": [
    {
     "data": {
      "text/plain": [
       "5"
      ]
     },
     "execution_count": 55,
     "metadata": {},
     "output_type": "execute_result"
    }
   ],
   "source": [
    "np.argmax(some_digit_scores)"
   ]
  },
  {
   "cell_type": "code",
   "execution_count": 56,
   "metadata": {},
   "outputs": [
    {
     "data": {
      "text/plain": [
       "array([0, 1, 2, 3, 4, 5, 6, 7, 8, 9], dtype=uint8)"
      ]
     },
     "execution_count": 56,
     "metadata": {},
     "output_type": "execute_result"
    }
   ],
   "source": [
    "svm_clf.classes_"
   ]
  },
  {
   "cell_type": "code",
   "execution_count": 57,
   "metadata": {},
   "outputs": [
    {
     "data": {
      "text/plain": [
       "5"
      ]
     },
     "execution_count": 57,
     "metadata": {},
     "output_type": "execute_result"
    }
   ],
   "source": [
    "svm_clf.classes_[5]"
   ]
  },
  {
   "cell_type": "code",
   "execution_count": 58,
   "metadata": {},
   "outputs": [
    {
     "data": {
      "text/plain": [
       "array([5], dtype=uint8)"
      ]
     },
     "execution_count": 58,
     "metadata": {},
     "output_type": "execute_result"
    }
   ],
   "source": [
    "from sklearn.multiclass import OneVsRestClassifier\n",
    "ovr_clf = OneVsRestClassifier(SVC(gamma=\"auto\", random_state=42))\n",
    "ovr_clf.fit(X_train[:1000], y_train[:1000])\n",
    "ovr_clf.predict([some_digit])"
   ]
  },
  {
   "cell_type": "code",
   "execution_count": 59,
   "metadata": {},
   "outputs": [
    {
     "data": {
      "text/plain": [
       "10"
      ]
     },
     "execution_count": 59,
     "metadata": {},
     "output_type": "execute_result"
    }
   ],
   "source": [
    "len(ovr_clf.estimators_)"
   ]
  },
  {
   "cell_type": "code",
   "execution_count": 60,
   "metadata": {},
   "outputs": [
    {
     "data": {
      "text/plain": [
       "array([5], dtype=uint8)"
      ]
     },
     "execution_count": 60,
     "metadata": {},
     "output_type": "execute_result"
    }
   ],
   "source": [
    "sgd_clf.fit(X_train, y_train)\n",
    "sgd_clf.predict([some_digit])"
   ]
  },
  {
   "cell_type": "code",
   "execution_count": 61,
   "metadata": {},
   "outputs": [
    {
     "data": {
      "text/plain": [
       "array([[-15955.22627845, -38080.96296175, -13326.66694897,\n",
       "           573.52692379, -17680.6846644 ,   2412.53175101,\n",
       "        -25526.86498156, -12290.15704709,  -7946.05205023,\n",
       "        -10631.35888549]])"
      ]
     },
     "execution_count": 61,
     "metadata": {},
     "output_type": "execute_result"
    }
   ],
   "source": [
    "sgd_clf.decision_function([some_digit])"
   ]
  },
  {
   "cell_type": "code",
   "execution_count": 62,
   "metadata": {},
   "outputs": [
    {
     "data": {
      "text/plain": [
       "array([0.8489802 , 0.87129356, 0.86988048])"
      ]
     },
     "execution_count": 62,
     "metadata": {},
     "output_type": "execute_result"
    }
   ],
   "source": [
    "cross_val_score(sgd_clf, X_train, y_train, cv=3, scoring=\"accuracy\")"
   ]
  },
  {
   "cell_type": "code",
   "execution_count": 63,
   "metadata": {},
   "outputs": [
    {
     "data": {
      "text/plain": [
       "array([0.89707059, 0.8960948 , 0.90693604])"
      ]
     },
     "execution_count": 63,
     "metadata": {},
     "output_type": "execute_result"
    }
   ],
   "source": [
    "from sklearn.preprocessing import StandardScaler\n",
    "scaler = StandardScaler()\n",
    "X_train_scaled = scaler.fit_transform(X_train.astype(np.float64))\n",
    "cross_val_score(sgd_clf, X_train_scaled, y_train, cv=3, scoring=\"accuracy\")"
   ]
  },
  {
   "cell_type": "code",
   "execution_count": 64,
   "metadata": {},
   "outputs": [
    {
     "data": {
      "text/plain": [
       "array([[5578,    0,   22,    7,    8,   45,   35,    5,  222,    1],\n",
       "       [   0, 6410,   35,   26,    4,   44,    4,    8,  198,   13],\n",
       "       [  28,   27, 5232,  100,   74,   27,   68,   37,  354,   11],\n",
       "       [  23,   18,  115, 5254,    2,  209,   26,   38,  373,   73],\n",
       "       [  11,   14,   45,   12, 5219,   11,   33,   26,  299,  172],\n",
       "       [  26,   16,   31,  173,   54, 4484,   76,   14,  482,   65],\n",
       "       [  31,   17,   45,    2,   42,   98, 5556,    3,  123,    1],\n",
       "       [  20,   10,   53,   27,   50,   13,    3, 5696,  173,  220],\n",
       "       [  17,   64,   47,   91,    3,  125,   24,   11, 5421,   48],\n",
       "       [  24,   18,   29,   67,  116,   39,    1,  174,  329, 5152]])"
      ]
     },
     "execution_count": 64,
     "metadata": {},
     "output_type": "execute_result"
    }
   ],
   "source": [
    "y_train_pred = cross_val_predict(sgd_clf, X_train_scaled, y_train, cv=3)\n",
    "conf_mx = confusion_matrix(y_train, y_train_pred)\n",
    "conf_mx"
   ]
  },
  {
   "cell_type": "code",
   "execution_count": 65,
   "metadata": {},
   "outputs": [],
   "source": [
    "def plot_confusion_matrix(matrix):\n",
    "    \"\"\"If you prefer color and a colorbar\"\"\"\n",
    "    fig = plt.figure(figsize=(8,8))\n",
    "    ax = fig.add_subplot(111)\n",
    "    cax = ax.matshow(matrix)\n",
    "    fig.colorbar(cax)"
   ]
  },
  {
   "cell_type": "code",
   "execution_count": 66,
   "metadata": {},
   "outputs": [
    {
     "name": "stdout",
     "output_type": "stream",
     "text": [
      "Saving figure confusion_matrix_plot\n"
     ]
    },
    {
     "data": {
      "image/png": "[encoded data removed]",
      "text/plain": [
       "<Figure size 288x288 with 1 Axes>"
      ]
     },
     "metadata": {
      "needs_background": "light"
     },
     "output_type": "display_data"
    }
   ],
   "source": [
    "plt.matshow(conf_mx, cmap=plt.cm.gray)\n",
    "save_fig(\"confusion_matrix_plot\", tight_layout=False)\n",
    "plt.show()"
   ]
  },
  {
   "cell_type": "code",
   "execution_count": 67,
   "metadata": {},
   "outputs": [],
   "source": [
    "row_sums = conf_mx.sum(axis=1, keepdims=True)\n",
    "norm_conf_mx = conf_mx / row_sums"
   ]
  },
  {
   "cell_type": "code",
   "execution_count": 68,
   "metadata": {},
   "outputs": [
    {
     "name": "stdout",
     "output_type": "stream",
     "text": [
      "Saving figure confusion_matrix_errors_plot\n"
     ]
    },
    {
     "data": {
      "image/png": "[encoded data removed]",
      "text/plain": [
       "<Figure size 288x288 with 1 Axes>"
      ]
     },
     "metadata": {
      "needs_background": "light"
     },
     "output_type": "display_data"
    }
   ],
   "source": [
    "np.fill_diagonal(norm_conf_mx, 0)\n",
    "plt.matshow(norm_conf_mx, cmap=plt.cm.gray)\n",
    "save_fig(\"confusion_matrix_errors_plot\", tight_layout=False)\n",
    "plt.show()"
   ]
  },
  {
   "cell_type": "code",
   "execution_count": 69,
   "metadata": {},
   "outputs": [
    {
     "name": "stdout",
     "output_type": "stream",
     "text": [
      "Saving figure error_analysis_digits_plot\n"
     ]
    },
    {
     "data": {
      "image/png": "[encoded data removed]",
      "text/plain": [
       "<Figure size 576x576 with 4 Axes>"
      ]
     },
     "metadata": {
      "needs_background": "light"
     },
     "output_type": "display_data"
    }
   ],
   "source": [
    "cl_a, cl_b = 3, 5\n",
    "X_aa = X_train[(y_train == cl_a) & (y_train_pred == cl_a)]\n",
    "X_ab = X_train[(y_train == cl_a) & (y_train_pred == cl_b)]\n",
    "X_ba = X_train[(y_train == cl_b) & (y_train_pred == cl_a)]\n",
    "X_bb = X_train[(y_train == cl_b) & (y_train_pred == cl_b)]\n",
    "\n",
    "plt.figure(figsize=(8,8))\n",
    "plt.subplot(221); plot_digits(X_aa[:25], images_per_row=5)\n",
    "plt.subplot(222); plot_digits(X_ab[:25], images_per_row=5)\n",
    "plt.subplot(223); plot_digits(X_ba[:25], images_per_row=5)\n",
    "plt.subplot(224); plot_digits(X_bb[:25], images_per_row=5)\n",
    "save_fig(\"error_analysis_digits_plot\")\n",
    "plt.show()"
   ]
  },
  {
   "cell_type": "markdown",
   "metadata": {},
   "source": [
    "# Multilabel classification"
   ]
  },
  {
   "cell_type": "code",
   "execution_count": 70,
   "metadata": {},
   "outputs": [
    {
     "data": {
      "text/plain": [
       "KNeighborsClassifier(algorithm='auto', leaf_size=30, metric='minkowski',\n",
       "           metric_params=None, n_jobs=None, n_neighbors=5, p=2,\n",
       "           weights='uniform')"
      ]
     },
     "execution_count": 70,
     "metadata": {},
     "output_type": "execute_result"
    }
   ],
   "source": [
    "from sklearn.neighbors import KNeighborsClassifier\n",
    "\n",
    "y_train_large = (y_train >= 7)\n",
    "y_train_odd = (y_train % 2 == 1)\n",
    "y_multilabel = np.c_[y_train_large, y_train_odd]\n",
    "\n",
    "knn_clf = KNeighborsClassifier()\n",
    "knn_clf.fit(X_train, y_multilabel)"
   ]
  },
  {
   "cell_type": "code",
   "execution_count": 71,
   "metadata": {},
   "outputs": [
    {
     "data": {
      "text/plain": [
       "array([[False,  True]])"
      ]
     },
     "execution_count": 71,
     "metadata": {},
     "output_type": "execute_result"
    }
   ],
   "source": [
    "knn_clf.predict([some_digit])"
   ]
  },
  {
   "cell_type": "markdown",
   "metadata": {},
   "source": [
    "**Warning**: the following cell may take a very long time (possibly hours depending on your hardware)."
   ]
  },
  {
   "cell_type": "code",
   "execution_count": 72,
   "metadata": {},
   "outputs": [
    {
     "data": {
      "text/plain": [
       "0.976410265560605"
      ]
     },
     "execution_count": 72,
     "metadata": {},
     "output_type": "execute_result"
    }
   ],
   "source": [
    "y_train_knn_pred = cross_val_predict(knn_clf, X_train, y_multilabel, cv=3)\n",
    "f1_score(y_multilabel, y_train_knn_pred, average=\"macro\")"
   ]
  },
  {
   "cell_type": "markdown",
   "metadata": {},
   "source": [
    "# Multioutput classification"
   ]
  },
  {
   "cell_type": "code",
   "execution_count": 73,
   "metadata": {},
   "outputs": [],
   "source": [
    "noise = np.random.randint(0, 100, (len(X_train), 784))\n",
    "X_train_mod = X_train + noise\n",
    "noise = np.random.randint(0, 100, (len(X_test), 784))\n",
    "X_test_mod = X_test + noise\n",
    "y_train_mod = X_train\n",
    "y_test_mod = X_test"
   ]
  },
  {
   "cell_type": "code",
   "execution_count": 74,
   "metadata": {},
   "outputs": [
    {
     "name": "stdout",
     "output_type": "stream",
     "text": [
      "Saving figure noisy_digit_example_plot\n"
     ]
    },
    {
     "data": {
      "image/png": "[encoded data removed]",
      "text/plain": [
       "<Figure size 432x288 with 2 Axes>"
      ]
     },
     "metadata": {
      "needs_background": "light"
     },
     "output_type": "display_data"
    }
   ],
   "source": [
    "some_index = 0\n",
    "plt.subplot(121); plot_digit(X_test_mod[some_index])\n",
    "plt.subplot(122); plot_digit(y_test_mod[some_index])\n",
    "save_fig(\"noisy_digit_example_plot\")\n",
    "plt.show()"
   ]
  },
  {
   "cell_type": "code",
   "execution_count": 75,
   "metadata": {},
   "outputs": [
    {
     "name": "stdout",
     "output_type": "stream",
     "text": [
      "Saving figure cleaned_digit_example_plot\n"
     ]
    },
    {
     "data": {
      "image/png": "[encoded data removed]",
      "text/plain": [
       "<Figure size 432x288 with 1 Axes>"
      ]
     },
     "metadata": {
      "needs_background": "light"
     },
     "output_type": "display_data"
    }
   ],
   "source": [
    "knn_clf.fit(X_train_mod, y_train_mod)\n",
    "clean_digit = knn_clf.predict([X_test_mod[some_index]])\n",
    "plot_digit(clean_digit)\n",
    "save_fig(\"cleaned_digit_example_plot\")"
   ]
  },
  {
   "cell_type": "markdown",
   "metadata": {},
   "source": [
    "# Extra material"
   ]
  },
  {
   "cell_type": "markdown",
   "metadata": {},
   "source": [
    "## Dummy (ie. random) classifier"
   ]
  },
  {
   "cell_type": "code",
   "execution_count": 76,
   "metadata": {},
   "outputs": [],
   "source": [
    "from sklearn.dummy import DummyClassifier\n",
    "dmy_clf = DummyClassifier()\n",
    "y_probas_dmy = cross_val_predict(dmy_clf, X_train, y_train_5, cv=3, method=\"predict_proba\")\n",
    "y_scores_dmy = y_probas_dmy[:, 1]"
   ]
  },
  {
   "cell_type": "code",
   "execution_count": 77,
   "metadata": {
    "scrolled": true
   },
   "outputs": [
    {
     "data": {
      "image/png": "[encoded data removed]",
      "text/plain": [
       "<Figure size 432x288 with 1 Axes>"
      ]
     },
     "metadata": {
      "needs_background": "light"
     },
     "output_type": "display_data"
    }
   ],
   "source": [
    "fprr, tprr, thresholdsr = roc_curve(y_train_5, y_scores_dmy)\n",
    "plot_roc_curve(fprr, tprr)"
   ]
  },
  {
   "cell_type": "markdown",
   "metadata": {},
   "source": [
    "## KNN classifier"
   ]
  },
  {
   "cell_type": "code",
   "execution_count": 78,
   "metadata": {},
   "outputs": [
    {
     "data": {
      "text/plain": [
       "KNeighborsClassifier(algorithm='auto', leaf_size=30, metric='minkowski',\n",
       "           metric_params=None, n_jobs=None, n_neighbors=4, p=2,\n",
       "           weights='distance')"
      ]
     },
     "execution_count": 78,
     "metadata": {},
     "output_type": "execute_result"
    }
   ],
   "source": [
    "from sklearn.neighbors import KNeighborsClassifier\n",
    "knn_clf = KNeighborsClassifier(weights='distance', n_neighbors=4)\n",
    "knn_clf.fit(X_train, y_train)"
   ]
  },
  {
   "cell_type": "code",
   "execution_count": 79,
   "metadata": {},
   "outputs": [],
   "source": [
    "y_knn_pred = knn_clf.predict(X_test)"
   ]
  },
  {
   "cell_type": "code",
   "execution_count": 80,
   "metadata": {},
   "outputs": [
    {
     "data": {
      "text/plain": [
       "0.9714"
      ]
     },
     "execution_count": 80,
     "metadata": {},
     "output_type": "execute_result"
    }
   ],
   "source": [
    "from sklearn.metrics import accuracy_score\n",
    "accuracy_score(y_test, y_knn_pred)"
   ]
  },
  {
   "cell_type": "code",
   "execution_count": 81,
   "metadata": {},
   "outputs": [
    {
     "data": {
      "image/png": "[encoded data removed]",
      "text/plain": [
       "<Figure size 432x288 with 1 Axes>"
      ]
     },
     "metadata": {
      "needs_background": "light"
     },
     "output_type": "display_data"
    }
   ],
   "source": [
    "from scipy.ndimage.interpolation import shift\n",
    "def shift_digit(digit_array, dx, dy, new=0):\n",
    "    return shift(digit_array.reshape(28, 28), [dy, dx], cval=new).reshape(784)\n",
    "\n",
    "plot_digit(shift_digit(some_digit, 5, 1, new=100))"
   ]
  },
  {
   "cell_type": "code",
   "execution_count": 82,
   "metadata": {},
   "outputs": [
    {
     "data": {
      "text/plain": [
       "((300000, 784), (300000,))"
      ]
     },
     "execution_count": 82,
     "metadata": {},
     "output_type": "execute_result"
    }
   ],
   "source": [
    "X_train_expanded = [X_train]\n",
    "y_train_expanded = [y_train]\n",
    "for dx, dy in ((1, 0), (-1, 0), (0, 1), (0, -1)):\n",
    "    shifted_images = np.apply_along_axis(shift_digit, axis=1, arr=X_train, dx=dx, dy=dy)\n",
    "    X_train_expanded.append(shifted_images)\n",
    "    y_train_expanded.append(y_train)\n",
    "\n",
    "X_train_expanded = np.concatenate(X_train_expanded)\n",
    "y_train_expanded = np.concatenate(y_train_expanded)\n",
    "X_train_expanded.shape, y_train_expanded.shape"
   ]
  },
  {
   "cell_type": "code",
   "execution_count": 83,
   "metadata": {},
   "outputs": [
    {
     "data": {
      "text/plain": [
       "KNeighborsClassifier(algorithm='auto', leaf_size=30, metric='minkowski',\n",
       "           metric_params=None, n_jobs=None, n_neighbors=4, p=2,\n",
       "           weights='distance')"
      ]
     },
     "execution_count": 83,
     "metadata": {},
     "output_type": "execute_result"
    }
   ],
   "source": [
    "knn_clf.fit(X_train_expanded, y_train_expanded)"
   ]
  },
  {
   "cell_type": "code",
   "execution_count": 84,
   "metadata": {},
   "outputs": [],
   "source": [
    "y_knn_expanded_pred = knn_clf.predict(X_test)"
   ]
  },
  {
   "cell_type": "code",
   "execution_count": 85,
   "metadata": {},
   "outputs": [
    {
     "data": {
      "text/plain": [
       "0.9763"
      ]
     },
     "execution_count": 85,
     "metadata": {},
     "output_type": "execute_result"
    }
   ],
   "source": [
    "accuracy_score(y_test, y_knn_expanded_pred)"
   ]
  },
  {
   "cell_type": "code",
   "execution_count": 86,
   "metadata": {},
   "outputs": [
    {
     "data": {
      "text/plain": [
       "array([[0.24579675, 0.        , 0.        , 0.        , 0.        ,\n",
       "        0.        , 0.        , 0.        , 0.        , 0.75420325]])"
      ]
     },
     "execution_count": 86,
     "metadata": {},
     "output_type": "execute_result"
    }
   ],
   "source": [
    "ambiguous_digit = X_test[2589]\n",
    "knn_clf.predict_proba([ambiguous_digit])"
   ]
  },
  {
   "cell_type": "code",
   "execution_count": 87,
   "metadata": {},
   "outputs": [
    {
     "data": {
      "image/png": "[encoded data removed]",
      "text/plain": [
       "<Figure size 432x288 with 1 Axes>"
      ]
     },
     "metadata": {
      "needs_background": "light"
     },
     "output_type": "display_data"
    }
   ],
   "source": [
    "plot_digit(ambiguous_digit)"
   ]
  },
  {
   "cell_type": "markdown",
   "metadata": {
    "collapsed": true
   },
   "source": [
    "# Exercise solutions"
   ]
  },
  {
   "cell_type": "markdown",
   "metadata": {},
   "source": [
    "## 1. An MNIST Classifier With Over 97% Accuracy"
   ]
  },
  {
   "cell_type": "markdown",
   "metadata": {},
   "source": [
    "**Warning**: the next cell may take hours to run, depending on your hardware."
   ]
  },
  {
   "cell_type": "code",
   "execution_count": 88,
   "metadata": {},
   "outputs": [
    {
     "name": "stdout",
     "output_type": "stream",
     "text": [
      "Fitting 5 folds for each of 6 candidates, totalling 30 fits\n",
      "[CV] n_neighbors=3, weights=uniform ..................................\n"
     ]
    },
    {
     "name": "stderr",
     "output_type": "stream",
     "text": [
      "[Parallel(n_jobs=1)]: Using backend SequentialBackend with 1 concurrent workers.\n"
     ]
    },
    {
     "name": "stdout",
     "output_type": "stream",
     "text": [
      "[CV]  n_neighbors=3, weights=uniform, score=0.9717617659308622, total=10.9min\n",
      "[CV] n_neighbors=3, weights=uniform ..................................\n"
     ]
    },
    {
     "name": "stderr",
     "output_type": "stream",
     "text": [
      "[Parallel(n_jobs=1)]: Done   1 out of   1 | elapsed: 52.2min remaining:    0.0s\n"
     ]
    },
    {
     "name": "stdout",
     "output_type": "stream",
     "text": [
      "[CV]  n_neighbors=3, weights=uniform, score=0.9706715547408765, total=10.7min\n",
      "[CV] n_neighbors=3, weights=uniform ..................................\n"
     ]
    },
    {
     "name": "stderr",
     "output_type": "stream",
     "text": [
      "[Parallel(n_jobs=1)]: Done   2 out of   2 | elapsed: 103.2min remaining:    0.0s\n"
     ]
    },
    {
     "name": "stdout",
     "output_type": "stream",
     "text": [
      "[CV]  n_neighbors=3, weights=uniform, score=0.9689166666666666, total=10.1min\n",
      "[CV] n_neighbors=3, weights=uniform ..................................\n",
      "[CV]  n_neighbors=3, weights=uniform, score=0.968575477202634, total=11.0min\n",
      "[CV] n_neighbors=3, weights=uniform ..................................\n",
      "[CV]  n_neighbors=3, weights=uniform, score=0.9704068022674225, total=11.0min\n",
      "[CV] n_neighbors=3, weights=distance .................................\n",
      "[CV]  n_neighbors=3, weights=distance, score=0.9723448563098709, total=10.9min\n",
      "[CV] n_neighbors=3, weights=distance .................................\n",
      "[CV]  n_neighbors=3, weights=distance, score=0.9716713881019831, total=11.2min\n",
      "[CV] n_neighbors=3, weights=distance .................................\n",
      "[CV]  n_neighbors=3, weights=distance, score=0.9700833333333333, total= 9.9min\n",
      "[CV] n_neighbors=3, weights=distance .................................\n",
      "[CV]  n_neighbors=3, weights=distance, score=0.9700758522964075, total=10.0min\n",
      "[CV] n_neighbors=3, weights=distance .................................\n",
      "[CV]  n_neighbors=3, weights=distance, score=0.971407135711904, total= 9.9min\n",
      "[CV] n_neighbors=4, weights=uniform ..................................\n",
      "[CV]  n_neighbors=4, weights=uniform, score=0.9690129112869638, total= 9.9min\n",
      "[CV] n_neighbors=4, weights=uniform ..................................\n",
      "[CV]  n_neighbors=4, weights=uniform, score=0.9682552907848692, total= 9.9min\n",
      "[CV] n_neighbors=4, weights=uniform ..................................\n",
      "[CV]  n_neighbors=4, weights=uniform, score=0.9675833333333334, total= 9.9min\n",
      "[CV] n_neighbors=4, weights=uniform ..................................\n",
      "[CV]  n_neighbors=4, weights=uniform, score=0.9673251646244895, total= 9.9min\n",
      "[CV] n_neighbors=4, weights=uniform ..................................\n",
      "[CV]  n_neighbors=4, weights=uniform, score=0.970323441147049, total= 9.9min\n",
      "[CV] n_neighbors=4, weights=distance .................................\n",
      "[CV]  n_neighbors=4, weights=distance, score=0.9730112453144523, total= 9.9min\n",
      "[CV] n_neighbors=4, weights=distance .................................\n",
      "[CV]  n_neighbors=4, weights=distance, score=0.9722546242292951, total= 9.9min\n",
      "[CV] n_neighbors=4, weights=distance .................................\n",
      "[CV]  n_neighbors=4, weights=distance, score=0.9699166666666666, total= 9.9min\n",
      "[CV] n_neighbors=4, weights=distance .................................\n",
      "[CV]  n_neighbors=4, weights=distance, score=0.9709093940151705, total=10.5min\n",
      "[CV] n_neighbors=4, weights=distance .................................\n",
      "[CV]  n_neighbors=4, weights=distance, score=0.9719906635545181, total=10.7min\n",
      "[CV] n_neighbors=5, weights=uniform ..................................\n",
      "[CV]  n_neighbors=5, weights=uniform, score=0.9697625989171179, total=10.9min\n",
      "[CV] n_neighbors=5, weights=uniform ..................................\n",
      "[CV]  n_neighbors=5, weights=uniform, score=0.9701716380603232, total=10.5min\n",
      "[CV] n_neighbors=5, weights=uniform ..................................\n",
      "[CV]  n_neighbors=5, weights=uniform, score=0.9694166666666667, total=10.5min\n",
      "[CV] n_neighbors=5, weights=uniform ..................................\n",
      "[CV]  n_neighbors=5, weights=uniform, score=0.9681587063432525, total=10.7min\n",
      "[CV] n_neighbors=5, weights=uniform ..................................\n",
      "[CV]  n_neighbors=5, weights=uniform, score=0.9689896632210737, total=10.6min\n",
      "[CV] n_neighbors=5, weights=distance .................................\n",
      "[CV]  n_neighbors=5, weights=distance, score=0.9703456892961266, total=10.6min\n",
      "[CV] n_neighbors=5, weights=distance .................................\n",
      "[CV]  n_neighbors=5, weights=distance, score=0.9713381103149475, total=11.1min\n",
      "[CV] n_neighbors=5, weights=distance .................................\n",
      "[CV]  n_neighbors=5, weights=distance, score=0.9704166666666667, total=10.4min\n",
      "[CV] n_neighbors=5, weights=distance .................................\n",
      "[CV]  n_neighbors=5, weights=distance, score=0.969409018921397, total=10.6min\n",
      "[CV] n_neighbors=5, weights=distance .................................\n",
      "[CV]  n_neighbors=5, weights=distance, score=0.9706568856285428, total=12.7min\n"
     ]
    },
    {
     "name": "stderr",
     "output_type": "stream",
     "text": [
      "[Parallel(n_jobs=1)]: Done  30 out of  30 | elapsed: 1523.6min finished\n"
     ]
    },
    {
     "data": {
      "text/plain": [
       "GridSearchCV(cv=5, error_score='raise-deprecating',\n",
       "       estimator=KNeighborsClassifier(algorithm='auto', leaf_size=30, metric='minkowski',\n",
       "           metric_params=None, n_jobs=None, n_neighbors=5, p=2,\n",
       "           weights='uniform'),\n",
       "       fit_params=None, iid='warn', n_jobs=None,\n",
       "       param_grid=[{'weights': ['uniform', 'distance'], 'n_neighbors': [3, 4, 5]}],\n",
       "       pre_dispatch='2*n_jobs', refit=True, return_train_score='warn',\n",
       "       scoring=None, verbose=3)"
      ]
     },
     "execution_count": 88,
     "metadata": {},
     "output_type": "execute_result"
    }
   ],
   "source": [
    "from sklearn.model_selection import GridSearchCV\n",
    "\n",
    "param_grid = [{'weights': [\"uniform\", \"distance\"], 'n_neighbors': [3, 4, 5]}]\n",
    "\n",
    "knn_clf = KNeighborsClassifier()\n",
    "grid_search = GridSearchCV(knn_clf, param_grid, cv=5, verbose=3)\n",
    "grid_search.fit(X_train, y_train)"
   ]
  },
  {
   "cell_type": "code",
   "execution_count": 89,
   "metadata": {},
   "outputs": [
    {
     "data": {
      "text/plain": [
       "{'n_neighbors': 4, 'weights': 'distance'}"
      ]
     },
     "execution_count": 89,
     "metadata": {},
     "output_type": "execute_result"
    }
   ],
   "source": [
    "grid_search.best_params_"
   ]
  },
  {
   "cell_type": "code",
   "execution_count": 90,
   "metadata": {},
   "outputs": [
    {
     "data": {
      "text/plain": [
       "0.9716166666666667"
      ]
     },
     "execution_count": 90,
     "metadata": {},
     "output_type": "execute_result"
    }
   ],
   "source": [
    "grid_search.best_score_"
   ]
  },
  {
   "cell_type": "code",
   "execution_count": 91,
   "metadata": {},
   "outputs": [
    {
     "data": {
      "text/plain": [
       "0.9714"
      ]
     },
     "execution_count": 91,
     "metadata": {},
     "output_type": "execute_result"
    }
   ],
   "source": [
    "from sklearn.metrics import accuracy_score\n",
    "\n",
    "y_pred = grid_search.predict(X_test)\n",
    "accuracy_score(y_test, y_pred)"
   ]
  },
  {
   "cell_type": "markdown",
   "metadata": {},
   "source": [
    "## 2. Data Augmentation"
   ]
  },
  {
   "cell_type": "code",
   "execution_count": 92,
   "metadata": {},
   "outputs": [],
   "source": [
    "from scipy.ndimage.interpolation import shift"
   ]
  },
  {
   "cell_type": "code",
   "execution_count": 93,
   "metadata": {},
   "outputs": [],
   "source": [
    "def shift_image(image, dx, dy):\n",
    "    image = image.reshape((28, 28))\n",
    "    shifted_image = shift(image, [dy, dx], cval=0, mode=\"constant\")\n",
    "    return shifted_image.reshape([-1])"
   ]
  },
  {
   "cell_type": "code",
   "execution_count": 94,
   "metadata": {},
   "outputs": [
    {
     "data": {
      "image/png": "[encoded data removed]",
      "text/plain": [
       "<Figure size 864x216 with 3 Axes>"
      ]
     },
     "metadata": {
      "needs_background": "light"
     },
     "output_type": "display_data"
    }
   ],
   "source": [
    "image = X_train[1000]\n",
    "shifted_image_down = shift_image(image, 0, 5)\n",
    "shifted_image_left = shift_image(image, -5, 0)\n",
    "\n",
    "plt.figure(figsize=(12,3))\n",
    "plt.subplot(131)\n",
    "plt.title(\"Original\", fontsize=14)\n",
    "plt.imshow(image.reshape(28, 28), interpolation=\"nearest\", cmap=\"Greys\")\n",
    "plt.subplot(132)\n",
    "plt.title(\"Shifted down\", fontsize=14)\n",
    "plt.imshow(shifted_image_down.reshape(28, 28), interpolation=\"nearest\", cmap=\"Greys\")\n",
    "plt.subplot(133)\n",
    "plt.title(\"Shifted left\", fontsize=14)\n",
    "plt.imshow(shifted_image_left.reshape(28, 28), interpolation=\"nearest\", cmap=\"Greys\")\n",
    "plt.show()"
   ]
  },
  {
   "cell_type": "code",
   "execution_count": 95,
   "metadata": {},
   "outputs": [],
   "source": [
    "X_train_augmented = [image for image in X_train]\n",
    "y_train_augmented = [label for label in y_train]\n",
    "\n",
    "for dx, dy in ((1, 0), (-1, 0), (0, 1), (0, -1)):\n",
    "    for image, label in zip(X_train, y_train):\n",
    "        X_train_augmented.append(shift_image(image, dx, dy))\n",
    "        y_train_augmented.append(label)\n",
    "\n",
    "X_train_augmented = np.array(X_train_augmented)\n",
    "y_train_augmented = np.array(y_train_augmented)"
   ]
  },
  {
   "cell_type": "code",
   "execution_count": 96,
   "metadata": {},
   "outputs": [],
   "source": [
    "shuffle_idx = np.random.permutation(len(X_train_augmented))\n",
    "X_train_augmented = X_train_augmented[shuffle_idx]\n",
    "y_train_augmented = y_train_augmented[shuffle_idx]"
   ]
  },
  {
   "cell_type": "code",
   "execution_count": 97,
   "metadata": {},
   "outputs": [],
   "source": [
    "knn_clf = KNeighborsClassifier(**grid_search.best_params_)"
   ]
  },
  {
   "cell_type": "code",
   "execution_count": 98,
   "metadata": {},
   "outputs": [
    {
     "data": {
      "text/plain": [
       "KNeighborsClassifier(algorithm='auto', leaf_size=30, metric='minkowski',\n",
       "           metric_params=None, n_jobs=None, n_neighbors=4, p=2,\n",
       "           weights='distance')"
      ]
     },
     "execution_count": 98,
     "metadata": {},
     "output_type": "execute_result"
    }
   ],
   "source": [
    "knn_clf.fit(X_train_augmented, y_train_augmented)"
   ]
  },
  {
   "cell_type": "code",
   "execution_count": 99,
   "metadata": {},
   "outputs": [
    {
     "data": {
      "text/plain": [
       "0.9763"
      ]
     },
     "execution_count": 99,
     "metadata": {},
     "output_type": "execute_result"
    }
   ],
   "source": [
    "y_pred = knn_clf.predict(X_test)\n",
    "accuracy_score(y_test, y_pred)"
   ]
  },
  {
   "cell_type": "markdown",
   "metadata": {},
   "source": [
    "By simply augmenting the data, we got a 0.5% accuracy boost. :)"
   ]
  },
  {
   "cell_type": "markdown",
   "metadata": {},
   "source": [
    "## 3. Tackle the Titanic dataset"
   ]
  },
  {
   "cell_type": "markdown",
   "metadata": {},
   "source": [
    "The goal is to predict whether or not a passenger survived based on attributes such as their age, sex, passenger class, where they embarked and so on."
   ]
  },
  {
   "cell_type": "markdown",
   "metadata": {},
   "source": [
    "First, login to [Kaggle](https://www.kaggle.com/) and go to the [Titanic challenge](https://www.kaggle.com/c/titanic) to download `train.csv` and `test.csv`. Save them to the `datasets/titanic` directory."
   ]
  },
  {
   "cell_type": "markdown",
   "metadata": {},
   "source": [
    "Next, let's load the data:"
   ]
  },
  {
   "cell_type": "code",
   "execution_count": 100,
   "metadata": {},
   "outputs": [],
   "source": [
    "import os\n",
    "\n",
    "TITANIC_PATH = os.path.join(\"datasets\", \"titanic\")"
   ]
  },
  {
   "cell_type": "code",
   "execution_count": 101,
   "metadata": {},
   "outputs": [],
   "source": [
    "import pandas as pd\n",
    "\n",
    "def load_titanic_data(filename, titanic_path=TITANIC_PATH):\n",
    "    csv_path = os.path.join(titanic_path, filename)\n",
    "    return pd.read_csv(csv_path)"
   ]
  },
  {
   "cell_type": "code",
   "execution_count": 102,
   "metadata": {},
   "outputs": [],
   "source": [
    "train_data = load_titanic_data(\"train.csv\")\n",
    "test_data = load_titanic_data(\"test.csv\")"
   ]
  },
  {
   "cell_type": "markdown",
   "metadata": {},
   "source": [
    "The data is already split into a training set and a test set. However, the test data does *not* contain the labels: your goal is to train the best model you can using the training data, then make your predictions on the test data and upload them to Kaggle to see your final score."
   ]
  },
  {
   "cell_type": "markdown",
   "metadata": {},
   "source": [
    "Let's take a peek at the top few rows of the training set:"
   ]
  },
  {
   "cell_type": "code",
   "execution_count": 103,
   "metadata": {},
   "outputs": [
    {
     "data": {
      "text/html": [
       "<div>\n",
       "<style scoped>\n",
       "    .dataframe tbody tr th:only-of-type {\n",
       "        vertical-align: middle;\n",
       "    }\n",
       "\n",
       "    .dataframe tbody tr th {\n",
       "        vertical-align: top;\n",
       "    }\n",
       "\n",
       "    .dataframe thead th {\n",
       "        text-align: right;\n",
       "    }\n",
       "</style>\n",
       "<table border=\"1\" class=\"dataframe\">\n",
       "  <thead>\n",
       "    <tr style=\"text-align: right;\">\n",
       "      <th></th>\n",
       "      <th>PassengerId</th>\n",
       "      <th>Survived</th>\n",
       "      <th>Pclass</th>\n",
       "      <th>Name</th>\n",
       "      <th>Sex</th>\n",
       "      <th>Age</th>\n",
       "      <th>SibSp</th>\n",
       "      <th>Parch</th>\n",
       "      <th>Ticket</th>\n",
       "      <th>Fare</th>\n",
       "      <th>Cabin</th>\n",
       "      <th>Embarked</th>\n",
       "    </tr>\n",
       "  </thead>\n",
       "  <tbody>\n",
       "    <tr>\n",
       "      <th>0</th>\n",
       "      <td>1</td>\n",
       "      <td>0</td>\n",
       "      <td>3</td>\n",
       "      <td>Braund, Mr. Owen Harris</td>\n",
       "      <td>male</td>\n",
       "      <td>22.0</td>\n",
       "      <td>1</td>\n",
       "      <td>0</td>\n",
       "      <td>A/5 21171</td>\n",
       "      <td>7.2500</td>\n",
       "      <td>NaN</td>\n",
       "      <td>S</td>\n",
       "    </tr>\n",
       "    <tr>\n",
       "      <th>1</th>\n",
       "      <td>2</td>\n",
       "      <td>1</td>\n",
       "      <td>1</td>\n",
       "      <td>Cumings, Mrs. John Bradley (Florence Briggs Th...</td>\n",
       "      <td>female</td>\n",
       "      <td>38.0</td>\n",
       "      <td>1</td>\n",
       "      <td>0</td>\n",
       "      <td>PC 17599</td>\n",
       "      <td>71.2833</td>\n",
       "      <td>C85</td>\n",
       "      <td>C</td>\n",
       "    </tr>\n",
       "    <tr>\n",
       "      <th>2</th>\n",
       "      <td>3</td>\n",
       "      <td>1</td>\n",
       "      <td>3</td>\n",
       "      <td>Heikkinen, Miss. Laina</td>\n",
       "      <td>female</td>\n",
       "      <td>26.0</td>\n",
       "      <td>0</td>\n",
       "      <td>0</td>\n",
       "      <td>STON/O2. 3101282</td>\n",
       "      <td>7.9250</td>\n",
       "      <td>NaN</td>\n",
       "      <td>S</td>\n",
       "    </tr>\n",
       "    <tr>\n",
       "      <th>3</th>\n",
       "      <td>4</td>\n",
       "      <td>1</td>\n",
       "      <td>1</td>\n",
       "      <td>Futrelle, Mrs. Jacques Heath (Lily May Peel)</td>\n",
       "      <td>female</td>\n",
       "      <td>35.0</td>\n",
       "      <td>1</td>\n",
       "      <td>0</td>\n",
       "      <td>113803</td>\n",
       "      <td>53.1000</td>\n",
       "      <td>C123</td>\n",
       "      <td>S</td>\n",
       "    </tr>\n",
       "    <tr>\n",
       "      <th>4</th>\n",
       "      <td>5</td>\n",
       "      <td>0</td>\n",
       "      <td>3</td>\n",
       "      <td>Allen, Mr. William Henry</td>\n",
       "      <td>male</td>\n",
       "      <td>35.0</td>\n",
       "      <td>0</td>\n",
       "      <td>0</td>\n",
       "      <td>373450</td>\n",
       "      <td>8.0500</td>\n",
       "      <td>NaN</td>\n",
       "      <td>S</td>\n",
       "    </tr>\n",
       "  </tbody>\n",
       "</table>\n",
       "</div>"
      ],
      "text/plain": [
       "   PassengerId  Survived  Pclass  \\\n",
       "0            1         0       3   \n",
       "1            2         1       1   \n",
       "2            3         1       3   \n",
       "3            4         1       1   \n",
       "4            5         0       3   \n",
       "\n",
       "                                                Name     Sex   Age  SibSp  \\\n",
       "0                            Braund, Mr. Owen Harris    male  22.0      1   \n",
       "1  Cumings, Mrs. John Bradley (Florence Briggs Th...  female  38.0      1   \n",
       "2                             Heikkinen, Miss. Laina  female  26.0      0   \n",
       "3       Futrelle, Mrs. Jacques Heath (Lily May Peel)  female  35.0      1   \n",
       "4                           Allen, Mr. William Henry    male  35.0      0   \n",
       "\n",
       "   Parch            Ticket     Fare Cabin Embarked  \n",
       "0      0         A/5 21171   7.2500   NaN        S  \n",
       "1      0          PC 17599  71.2833   C85        C  \n",
       "2      0  STON/O2. 3101282   7.9250   NaN        S  \n",
       "3      0            113803  53.1000  C123        S  \n",
       "4      0            373450   8.0500   NaN        S  "
      ]
     },
     "execution_count": 103,
     "metadata": {},
     "output_type": "execute_result"
    }
   ],
   "source": [
    "train_data.head()"
   ]
  },
  {
   "cell_type": "markdown",
   "metadata": {},
   "source": [
    "The attributes have the following meaning:\n",
    "* **Survived**: that's the target, 0 means the passenger did not survive, while 1 means he/she survived.\n",
    "* **Pclass**: passenger class.\n",
    "* **Name**, **Sex**, **Age**: self-explanatory\n",
    "* **SibSp**: how many siblings & spouses of the passenger aboard the Titanic.\n",
    "* **Parch**: how many children & parents of the passenger aboard the Titanic.\n",
    "* **Ticket**: ticket id\n",
    "* **Fare**: price paid (in pounds)\n",
    "* **Cabin**: passenger's cabin number\n",
    "* **Embarked**: where the passenger embarked the Titanic"
   ]
  },
  {
   "cell_type": "markdown",
   "metadata": {},
   "source": [
    "Let's get more info to see how much data is missing:"
   ]
  },
  {
   "cell_type": "code",
   "execution_count": 104,
   "metadata": {},
   "outputs": [
    {
     "name": "stdout",
     "output_type": "stream",
     "text": [
      "<class 'pandas.core.frame.DataFrame'>\n",
      "RangeIndex: 891 entries, 0 to 890\n",
      "Data columns (total 12 columns):\n",
      "PassengerId    891 non-null int64\n",
      "Survived       891 non-null int64\n",
      "Pclass         891 non-null int64\n",
      "Name           891 non-null object\n",
      "Sex            891 non-null object\n",
      "Age            714 non-null float64\n",
      "SibSp          891 non-null int64\n",
      "Parch          891 non-null int64\n",
      "Ticket         891 non-null object\n",
      "Fare           891 non-null float64\n",
      "Cabin          204 non-null object\n",
      "Embarked       889 non-null object\n",
      "dtypes: float64(2), int64(5), object(5)\n",
      "memory usage: 83.6+ KB\n"
     ]
    }
   ],
   "source": [
    "train_data.info()"
   ]
  },
  {
   "cell_type": "markdown",
   "metadata": {},
   "source": [
    "Okay, the **Age**, **Cabin** and **Embarked** attributes are sometimes null (less than 891 non-null), especially the **Cabin** (77% are null). We will ignore the **Cabin** for now and focus on the rest. The **Age** attribute has about 19% null values, so we will need to decide what to do with them. Replacing null values with the median age seems reasonable."
   ]
  },
  {
   "cell_type": "markdown",
   "metadata": {},
   "source": [
    "The **Name** and **Ticket** attributes may have some value, but they will be a bit tricky to convert into useful numbers that a model can consume. So for now, we will ignore them."
   ]
  },
  {
   "cell_type": "markdown",
   "metadata": {},
   "source": [
    "Let's take a look at the numerical attributes:"
   ]
  },
  {
   "cell_type": "code",
   "execution_count": 105,
   "metadata": {},
   "outputs": [
    {
     "data": {
      "text/html": [
       "<div>\n",
       "<style scoped>\n",
       "    .dataframe tbody tr th:only-of-type {\n",
       "        vertical-align: middle;\n",
       "    }\n",
       "\n",
       "    .dataframe tbody tr th {\n",
       "        vertical-align: top;\n",
       "    }\n",
       "\n",
       "    .dataframe thead th {\n",
       "        text-align: right;\n",
       "    }\n",
       "</style>\n",
       "<table border=\"1\" class=\"dataframe\">\n",
       "  <thead>\n",
       "    <tr style=\"text-align: right;\">\n",
       "      <th></th>\n",
       "      <th>PassengerId</th>\n",
       "      <th>Survived</th>\n",
       "      <th>Pclass</th>\n",
       "      <th>Age</th>\n",
       "      <th>SibSp</th>\n",
       "      <th>Parch</th>\n",
       "      <th>Fare</th>\n",
       "    </tr>\n",
       "  </thead>\n",
       "  <tbody>\n",
       "    <tr>\n",
       "      <th>count</th>\n",
       "      <td>891.000000</td>\n",
       "      <td>891.000000</td>\n",
       "      <td>891.000000</td>\n",
       "      <td>714.000000</td>\n",
       "      <td>891.000000</td>\n",
       "      <td>891.000000</td>\n",
       "      <td>891.000000</td>\n",
       "    </tr>\n",
       "    <tr>\n",
       "      <th>mean</th>\n",
       "      <td>446.000000</td>\n",
       "      <td>0.383838</td>\n",
       "      <td>2.308642</td>\n",
       "      <td>29.699118</td>\n",
       "      <td>0.523008</td>\n",
       "      <td>0.381594</td>\n",
       "      <td>32.204208</td>\n",
       "    </tr>\n",
       "    <tr>\n",
       "      <th>std</th>\n",
       "      <td>257.353842</td>\n",
       "      <td>0.486592</td>\n",
       "      <td>0.836071</td>\n",
       "      <td>14.526497</td>\n",
       "      <td>1.102743</td>\n",
       "      <td>0.806057</td>\n",
       "      <td>49.693429</td>\n",
       "    </tr>\n",
       "    <tr>\n",
       "      <th>min</th>\n",
       "      <td>1.000000</td>\n",
       "      <td>0.000000</td>\n",
       "      <td>1.000000</td>\n",
       "      <td>0.420000</td>\n",
       "      <td>0.000000</td>\n",
       "      <td>0.000000</td>\n",
       "      <td>0.000000</td>\n",
       "    </tr>\n",
       "    <tr>\n",
       "      <th>25%</th>\n",
       "      <td>223.500000</td>\n",
       "      <td>0.000000</td>\n",
       "      <td>2.000000</td>\n",
       "      <td>20.125000</td>\n",
       "      <td>0.000000</td>\n",
       "      <td>0.000000</td>\n",
       "      <td>7.910400</td>\n",
       "    </tr>\n",
       "    <tr>\n",
       "      <th>50%</th>\n",
       "      <td>446.000000</td>\n",
       "      <td>0.000000</td>\n",
       "      <td>3.000000</td>\n",
       "      <td>28.000000</td>\n",
       "      <td>0.000000</td>\n",
       "      <td>0.000000</td>\n",
       "      <td>14.454200</td>\n",
       "    </tr>\n",
       "    <tr>\n",
       "      <th>75%</th>\n",
       "      <td>668.500000</td>\n",
       "      <td>1.000000</td>\n",
       "      <td>3.000000</td>\n",
       "      <td>38.000000</td>\n",
       "      <td>1.000000</td>\n",
       "      <td>0.000000</td>\n",
       "      <td>31.000000</td>\n",
       "    </tr>\n",
       "    <tr>\n",
       "      <th>max</th>\n",
       "      <td>891.000000</td>\n",
       "      <td>1.000000</td>\n",
       "      <td>3.000000</td>\n",
       "      <td>80.000000</td>\n",
       "      <td>8.000000</td>\n",
       "      <td>6.000000</td>\n",
       "      <td>512.329200</td>\n",
       "    </tr>\n",
       "  </tbody>\n",
       "</table>\n",
       "</div>"
      ],
      "text/plain": [
       "       PassengerId    Survived      Pclass         Age       SibSp  \\\n",
       "count   891.000000  891.000000  891.000000  714.000000  891.000000   \n",
       "mean    446.000000    0.383838    2.308642   29.699118    0.523008   \n",
       "std     257.353842    0.486592    0.836071   14.526497    1.102743   \n",
       "min       1.000000    0.000000    1.000000    0.420000    0.000000   \n",
       "25%     223.500000    0.000000    2.000000   20.125000    0.000000   \n",
       "50%     446.000000    0.000000    3.000000   28.000000    0.000000   \n",
       "75%     668.500000    1.000000    3.000000   38.000000    1.000000   \n",
       "max     891.000000    1.000000    3.000000   80.000000    8.000000   \n",
       "\n",
       "            Parch        Fare  \n",
       "count  891.000000  891.000000  \n",
       "mean     0.381594   32.204208  \n",
       "std      0.806057   49.693429  \n",
       "min      0.000000    0.000000  \n",
       "25%      0.000000    7.910400  \n",
       "50%      0.000000   14.454200  \n",
       "75%      0.000000   31.000000  \n",
       "max      6.000000  512.329200  "
      ]
     },
     "execution_count": 105,
     "metadata": {},
     "output_type": "execute_result"
    }
   ],
   "source": [
    "train_data.describe()"
   ]
  },
  {
   "cell_type": "markdown",
   "metadata": {},
   "source": [
    "* Yikes, only 38% **Survived**. :(  That's close enough to 40%, so accuracy will be a reasonable metric to evaluate our model.\n",
    "* The mean **Fare** was £32.20, which does not seem so expensive (but it was probably a lot of money back then).\n",
    "* The mean **Age** was less than 30 years old."
   ]
  },
  {
   "cell_type": "markdown",
   "metadata": {},
   "source": [
    "Let's check that the target is indeed 0 or 1:"
   ]
  },
  {
   "cell_type": "code",
   "execution_count": 106,
   "metadata": {},
   "outputs": [
    {
     "data": {
      "text/plain": [
       "0    549\n",
       "1    342\n",
       "Name: Survived, dtype: int64"
      ]
     },
     "execution_count": 106,
     "metadata": {},
     "output_type": "execute_result"
    }
   ],
   "source": [
    "train_data[\"Survived\"].value_counts()"
   ]
  },
  {
   "cell_type": "markdown",
   "metadata": {},
   "source": [
    "Now let's take a quick look at all the categorical attributes:"
   ]
  },
  {
   "cell_type": "code",
   "execution_count": 107,
   "metadata": {},
   "outputs": [
    {
     "data": {
      "text/plain": [
       "3    491\n",
       "1    216\n",
       "2    184\n",
       "Name: Pclass, dtype: int64"
      ]
     },
     "execution_count": 107,
     "metadata": {},
     "output_type": "execute_result"
    }
   ],
   "source": [
    "train_data[\"Pclass\"].value_counts()"
   ]
  },
  {
   "cell_type": "code",
   "execution_count": 108,
   "metadata": {},
   "outputs": [
    {
     "data": {
      "text/plain": [
       "male      577\n",
       "female    314\n",
       "Name: Sex, dtype: int64"
      ]
     },
     "execution_count": 108,
     "metadata": {},
     "output_type": "execute_result"
    }
   ],
   "source": [
    "train_data[\"Sex\"].value_counts()"
   ]
  },
  {
   "cell_type": "code",
   "execution_count": 109,
   "metadata": {},
   "outputs": [
    {
     "data": {
      "text/plain": [
       "S    644\n",
       "C    168\n",
       "Q     77\n",
       "Name: Embarked, dtype: int64"
      ]
     },
     "execution_count": 109,
     "metadata": {},
     "output_type": "execute_result"
    }
   ],
   "source": [
    "train_data[\"Embarked\"].value_counts()"
   ]
  },
  {
   "cell_type": "markdown",
   "metadata": {},
   "source": [
    "The Embarked attribute tells us where the passenger embarked: C=Cherbourg, Q=Queenstown, S=Southampton."
   ]
  },
  {
   "cell_type": "markdown",
   "metadata": {},
   "source": [
    "**Note**: the code below uses a mix of `Pipeline`, `FeatureUnion` and a custom `DataFrameSelector` to preprocess some columns differently.  Since Scikit-Learn 0.20, it is preferable to use a `ColumnTransformer`, like in the previous chapter."
   ]
  },
  {
   "cell_type": "markdown",
   "metadata": {},
   "source": [
    "Now let's build our preprocessing pipelines. We will reuse the `DataframeSelector` we built in the previous chapter to select specific attributes from the `DataFrame`:"
   ]
  },
  {
   "cell_type": "code",
   "execution_count": 110,
   "metadata": {},
   "outputs": [],
   "source": [
    "from sklearn.base import BaseEstimator, TransformerMixin\n",
    "\n",
    "class DataFrameSelector(BaseEstimator, TransformerMixin):\n",
    "    def __init__(self, attribute_names):\n",
    "        self.attribute_names = attribute_names\n",
    "    def fit(self, X, y=None):\n",
    "        return self\n",
    "    def transform(self, X):\n",
    "        return X[self.attribute_names]"
   ]
  },
  {
   "cell_type": "markdown",
   "metadata": {},
   "source": [
    "Let's build the pipeline for the numerical attributes:"
   ]
  },
  {
   "cell_type": "code",
   "execution_count": 111,
   "metadata": {},
   "outputs": [],
   "source": [
    "from sklearn.pipeline import Pipeline\n",
    "from sklearn.impute import SimpleImputer\n",
    "\n",
    "num_pipeline = Pipeline([\n",
    "        (\"select_numeric\", DataFrameSelector([\"Age\", \"SibSp\", \"Parch\", \"Fare\"])),\n",
    "        (\"imputer\", SimpleImputer(strategy=\"median\")),\n",
    "    ])"
   ]
  },
  {
   "cell_type": "code",
   "execution_count": 112,
   "metadata": {},
   "outputs": [
    {
     "data": {
      "text/plain": [
       "array([[22.    ,  1.    ,  0.    ,  7.25  ],\n",
       "       [38.    ,  1.    ,  0.    , 71.2833],\n",
       "       [26.    ,  0.    ,  0.    ,  7.925 ],\n",
       "       ...,\n",
       "       [28.    ,  1.    ,  2.    , 23.45  ],\n",
       "       [26.    ,  0.    ,  0.    , 30.    ],\n",
       "       [32.    ,  0.    ,  0.    ,  7.75  ]])"
      ]
     },
     "execution_count": 112,
     "metadata": {},
     "output_type": "execute_result"
    }
   ],
   "source": [
    "num_pipeline.fit_transform(train_data)"
   ]
  },
  {
   "cell_type": "markdown",
   "metadata": {},
   "source": [
    "We will also need an imputer for the string categorical columns (the regular `SimpleImputer` does not work on those):"
   ]
  },
  {
   "cell_type": "code",
   "execution_count": 113,
   "metadata": {},
   "outputs": [],
   "source": [
    "# Inspired from stackoverflow.com/questions/25239958\n",
    "class MostFrequentImputer(BaseEstimator, TransformerMixin):\n",
    "    def fit(self, X, y=None):\n",
    "        self.most_frequent_ = pd.Series([X[c].value_counts().index[0] for c in X],\n",
    "                                        index=X.columns)\n",
    "        return self\n",
    "    def transform(self, X, y=None):\n",
    "        return X.fillna(self.most_frequent_)"
   ]
  },
  {
   "cell_type": "code",
   "execution_count": 114,
   "metadata": {},
   "outputs": [],
   "source": [
    "from sklearn.preprocessing import OneHotEncoder"
   ]
  },
  {
   "cell_type": "markdown",
   "metadata": {},
   "source": [
    "Now we can build the pipeline for the categorical attributes:"
   ]
  },
  {
   "cell_type": "code",
   "execution_count": 115,
   "metadata": {},
   "outputs": [],
   "source": [
    "cat_pipeline = Pipeline([\n",
    "        (\"select_cat\", DataFrameSelector([\"Pclass\", \"Sex\", \"Embarked\"])),\n",
    "        (\"imputer\", MostFrequentImputer()),\n",
    "        (\"cat_encoder\", OneHotEncoder(sparse=False)),\n",
    "    ])"
   ]
  },
  {
   "cell_type": "code",
   "execution_count": 116,
   "metadata": {},
   "outputs": [
    {
     "data": {
      "text/plain": [
       "array([[0., 0., 1., ..., 0., 0., 1.],\n",
       "       [1., 0., 0., ..., 1., 0., 0.],\n",
       "       [0., 0., 1., ..., 0., 0., 1.],\n",
       "       ...,\n",
       "       [0., 0., 1., ..., 0., 0., 1.],\n",
       "       [1., 0., 0., ..., 1., 0., 0.],\n",
       "       [0., 0., 1., ..., 0., 1., 0.]])"
      ]
     },
     "execution_count": 116,
     "metadata": {},
     "output_type": "execute_result"
    }
   ],
   "source": [
    "cat_pipeline.fit_transform(train_data)"
   ]
  },
  {
   "cell_type": "markdown",
   "metadata": {},
   "source": [
    "Finally, let's join the numerical and categorical pipelines:"
   ]
  },
  {
   "cell_type": "code",
   "execution_count": 117,
   "metadata": {},
   "outputs": [],
   "source": [
    "from sklearn.pipeline import FeatureUnion\n",
    "preprocess_pipeline = FeatureUnion(transformer_list=[\n",
    "        (\"num_pipeline\", num_pipeline),\n",
    "        (\"cat_pipeline\", cat_pipeline),\n",
    "    ])"
   ]
  },
  {
   "cell_type": "markdown",
   "metadata": {},
   "source": [
    "Cool! Now we have a nice preprocessing pipeline that takes the raw data and outputs numerical input features that we can feed to any Machine Learning model we want."
   ]
  },
  {
   "cell_type": "code",
   "execution_count": 118,
   "metadata": {},
   "outputs": [
    {
     "data": {
      "text/plain": [
       "array([[22.,  1.,  0., ...,  0.,  0.,  1.],\n",
       "       [38.,  1.,  0., ...,  1.,  0.,  0.],\n",
       "       [26.,  0.,  0., ...,  0.,  0.,  1.],\n",
       "       ...,\n",
       "       [28.,  1.,  2., ...,  0.,  0.,  1.],\n",
       "       [26.,  0.,  0., ...,  1.,  0.,  0.],\n",
       "       [32.,  0.,  0., ...,  0.,  1.,  0.]])"
      ]
     },
     "execution_count": 118,
     "metadata": {},
     "output_type": "execute_result"
    }
   ],
   "source": [
    "X_train = preprocess_pipeline.fit_transform(train_data)\n",
    "X_train"
   ]
  },
  {
   "cell_type": "markdown",
   "metadata": {},
   "source": [
    "Let's not forget to get the labels:"
   ]
  },
  {
   "cell_type": "code",
   "execution_count": 119,
   "metadata": {},
   "outputs": [],
   "source": [
    "y_train = train_data[\"Survived\"]"
   ]
  },
  {
   "cell_type": "markdown",
   "metadata": {},
   "source": [
    "We are now ready to train a classifier. Let's start with an `SVC`:"
   ]
  },
  {
   "cell_type": "code",
   "execution_count": 120,
   "metadata": {},
   "outputs": [
    {
     "data": {
      "text/plain": [
       "SVC(C=1.0, cache_size=200, class_weight=None, coef0=0.0,\n",
       "  decision_function_shape='ovr', degree=3, gamma='auto', kernel='rbf',\n",
       "  max_iter=-1, probability=False, random_state=None, shrinking=True,\n",
       "  tol=0.001, verbose=False)"
      ]
     },
     "execution_count": 120,
     "metadata": {},
     "output_type": "execute_result"
    }
   ],
   "source": [
    "from sklearn.svm import SVC\n",
    "\n",
    "svm_clf = SVC(gamma=\"auto\")\n",
    "svm_clf.fit(X_train, y_train)"
   ]
  },
  {
   "cell_type": "markdown",
   "metadata": {},
   "source": [
    "Great, our model is trained, let's use it to make predictions on the test set:"
   ]
  },
  {
   "cell_type": "code",
   "execution_count": 121,
   "metadata": {},
   "outputs": [],
   "source": [
    "X_test = preprocess_pipeline.transform(test_data)\n",
    "y_pred = svm_clf.predict(X_test)"
   ]
  },
  {
   "cell_type": "markdown",
   "metadata": {},
   "source": [
    "And now we could just build a CSV file with these predictions (respecting the format excepted by Kaggle), then upload it and hope for the best. But wait! We can do better than hope. Why don't we use cross-validation to have an idea of how good our model is?"
   ]
  },
  {
   "cell_type": "code",
   "execution_count": 122,
   "metadata": {},
   "outputs": [
    {
     "data": {
      "text/plain": [
       "0.7365250822835092"
      ]
     },
     "execution_count": 122,
     "metadata": {},
     "output_type": "execute_result"
    }
   ],
   "source": [
    "from sklearn.model_selection import cross_val_score\n",
    "\n",
    "svm_scores = cross_val_score(svm_clf, X_train, y_train, cv=10)\n",
    "svm_scores.mean()"
   ]
  },
  {
   "cell_type": "markdown",
   "metadata": {},
   "source": [
    "Okay, over 73% accuracy, clearly better than random chance, but it's not a great score. Looking at the [leaderboard](https://www.kaggle.com/c/titanic/leaderboard) for the Titanic competition on Kaggle, you can see that you need to reach above 80% accuracy to be within the top 10% Kagglers. Some reached 100%, but since you can easily find the [list of victims](https://www.encyclopedia-titanica.org/titanic-victims/) of the Titanic, it seems likely that there was little Machine Learning involved in their performance! ;-) So let's try to build a model that reaches 80% accuracy."
   ]
  },
  {
   "cell_type": "markdown",
   "metadata": {},
   "source": [
    "Let's try a `RandomForestClassifier`:"
   ]
  },
  {
   "cell_type": "code",
   "execution_count": 123,
   "metadata": {},
   "outputs": [
    {
     "data": {
      "text/plain": [
       "0.8149526160481217"
      ]
     },
     "execution_count": 123,
     "metadata": {},
     "output_type": "execute_result"
    }
   ],
   "source": [
    "from sklearn.ensemble import RandomForestClassifier\n",
    "\n",
    "forest_clf = RandomForestClassifier(n_estimators=100, random_state=42)\n",
    "forest_scores = cross_val_score(forest_clf, X_train, y_train, cv=10)\n",
    "forest_scores.mean()"
   ]
  },
  {
   "cell_type": "markdown",
   "metadata": {},
   "source": [
    "That's much better!"
   ]
  },
  {
   "cell_type": "markdown",
   "metadata": {},
   "source": [
    "Instead of just looking at the mean accuracy across the 10 cross-validation folds, let's plot all 10 scores for each model, along with a box plot highlighting the lower and upper quartiles, and \"whiskers\" showing the extent of the scores (thanks to Nevin Yilmaz for suggesting this visualization). Note that the `boxplot()` function detects outliers (called \"fliers\") and does not include them within the whiskers. Specifically, if the lower quartile is $Q_1$ and the upper quartile is $Q_3$, then the interquartile range $IQR = Q_3 - Q_1$ (this is the box's height), and any score lower than $Q_1 - 1.5 \\times IQR$ is a flier, and so is any score greater than $Q3 + 1.5 \\times IQR$."
   ]
  },
  {
   "cell_type": "code",
   "execution_count": 124,
   "metadata": {},
   "outputs": [
    {
     "data": {
      "image/png": "[encoded data removed]",
      "text/plain": [
       "<Figure size 576x288 with 1 Axes>"
      ]
     },
     "metadata": {
      "needs_background": "light"
     },
     "output_type": "display_data"
    }
   ],
   "source": [
    "plt.figure(figsize=(8, 4))\n",
    "plt.plot([1]*10, svm_scores, \".\")\n",
    "plt.plot([2]*10, forest_scores, \".\")\n",
    "plt.boxplot([svm_scores, forest_scores], labels=(\"SVM\",\"Random Forest\"))\n",
    "plt.ylabel(\"Accuracy\", fontsize=14)\n",
    "plt.show()"
   ]
  },
  {
   "cell_type": "markdown",
   "metadata": {},
   "source": [
    "To improve this result further, you could:\n",
    "* Compare many more models and tune hyperparameters using cross validation and grid search,\n",
    "* Do more feature engineering, for example:\n",
    "  * replace **SibSp** and **Parch** with their sum,\n",
    "  * try to identify parts of names that correlate well with the **Survived** attribute (e.g. if the name contains \"Countess\", then survival seems more likely),\n",
    "* try to convert numerical attributes to categorical attributes: for example, different age groups had very different survival rates (see below), so it may help to create an age bucket category and use it instead of the age. Similarly, it may be useful to have a special category for people traveling alone since only 30% of them survived (see below)."
   ]
  },
  {
   "cell_type": "code",
   "execution_count": 125,
   "metadata": {},
   "outputs": [
    {
     "data": {
      "text/html": [
       "<div>\n",
       "<style scoped>\n",
       "    .dataframe tbody tr th:only-of-type {\n",
       "        vertical-align: middle;\n",
       "    }\n",
       "\n",
       "    .dataframe tbody tr th {\n",
       "        vertical-align: top;\n",
       "    }\n",
       "\n",
       "    .dataframe thead th {\n",
       "        text-align: right;\n",
       "    }\n",
       "</style>\n",
       "<table border=\"1\" class=\"dataframe\">\n",
       "  <thead>\n",
       "    <tr style=\"text-align: right;\">\n",
       "      <th></th>\n",
       "      <th>Survived</th>\n",
       "    </tr>\n",
       "    <tr>\n",
       "      <th>AgeBucket</th>\n",
       "      <th></th>\n",
       "    </tr>\n",
       "  </thead>\n",
       "  <tbody>\n",
       "    <tr>\n",
       "      <th>0.0</th>\n",
       "      <td>0.576923</td>\n",
       "    </tr>\n",
       "    <tr>\n",
       "      <th>15.0</th>\n",
       "      <td>0.362745</td>\n",
       "    </tr>\n",
       "    <tr>\n",
       "      <th>30.0</th>\n",
       "      <td>0.423256</td>\n",
       "    </tr>\n",
       "    <tr>\n",
       "      <th>45.0</th>\n",
       "      <td>0.404494</td>\n",
       "    </tr>\n",
       "    <tr>\n",
       "      <th>60.0</th>\n",
       "      <td>0.240000</td>\n",
       "    </tr>\n",
       "    <tr>\n",
       "      <th>75.0</th>\n",
       "      <td>1.000000</td>\n",
       "    </tr>\n",
       "  </tbody>\n",
       "</table>\n",
       "</div>"
      ],
      "text/plain": [
       "           Survived\n",
       "AgeBucket          \n",
       "0.0        0.576923\n",
       "15.0       0.362745\n",
       "30.0       0.423256\n",
       "45.0       0.404494\n",
       "60.0       0.240000\n",
       "75.0       1.000000"
      ]
     },
     "execution_count": 125,
     "metadata": {},
     "output_type": "execute_result"
    }
   ],
   "source": [
    "train_data[\"AgeBucket\"] = train_data[\"Age\"] // 15 * 15\n",
    "train_data[[\"AgeBucket\", \"Survived\"]].groupby(['AgeBucket']).mean()"
   ]
  },
  {
   "cell_type": "code",
   "execution_count": 126,
   "metadata": {},
   "outputs": [
    {
     "data": {
      "text/html": [
       "<div>\n",
       "<style scoped>\n",
       "    .dataframe tbody tr th:only-of-type {\n",
       "        vertical-align: middle;\n",
       "    }\n",
       "\n",
       "    .dataframe tbody tr th {\n",
       "        vertical-align: top;\n",
       "    }\n",
       "\n",
       "    .dataframe thead th {\n",
       "        text-align: right;\n",
       "    }\n",
       "</style>\n",
       "<table border=\"1\" class=\"dataframe\">\n",
       "  <thead>\n",
       "    <tr style=\"text-align: right;\">\n",
       "      <th></th>\n",
       "      <th>Survived</th>\n",
       "    </tr>\n",
       "    <tr>\n",
       "      <th>RelativesOnboard</th>\n",
       "      <th></th>\n",
       "    </tr>\n",
       "  </thead>\n",
       "  <tbody>\n",
       "    <tr>\n",
       "      <th>0</th>\n",
       "      <td>0.303538</td>\n",
       "    </tr>\n",
       "    <tr>\n",
       "      <th>1</th>\n",
       "      <td>0.552795</td>\n",
       "    </tr>\n",
       "    <tr>\n",
       "      <th>2</th>\n",
       "      <td>0.578431</td>\n",
       "    </tr>\n",
       "    <tr>\n",
       "      <th>3</th>\n",
       "      <td>0.724138</td>\n",
       "    </tr>\n",
       "    <tr>\n",
       "      <th>4</th>\n",
       "      <td>0.200000</td>\n",
       "    </tr>\n",
       "    <tr>\n",
       "      <th>5</th>\n",
       "      <td>0.136364</td>\n",
       "    </tr>\n",
       "    <tr>\n",
       "      <th>6</th>\n",
       "      <td>0.333333</td>\n",
       "    </tr>\n",
       "    <tr>\n",
       "      <th>7</th>\n",
       "      <td>0.000000</td>\n",
       "    </tr>\n",
       "    <tr>\n",
       "      <th>10</th>\n",
       "      <td>0.000000</td>\n",
       "    </tr>\n",
       "  </tbody>\n",
       "</table>\n",
       "</div>"
      ],
      "text/plain": [
       "                  Survived\n",
       "RelativesOnboard          \n",
       "0                 0.303538\n",
       "1                 0.552795\n",
       "2                 0.578431\n",
       "3                 0.724138\n",
       "4                 0.200000\n",
       "5                 0.136364\n",
       "6                 0.333333\n",
       "7                 0.000000\n",
       "10                0.000000"
      ]
     },
     "execution_count": 126,
     "metadata": {},
     "output_type": "execute_result"
    }
   ],
   "source": [
    "train_data[\"RelativesOnboard\"] = train_data[\"SibSp\"] + train_data[\"Parch\"]\n",
    "train_data[[\"RelativesOnboard\", \"Survived\"]].groupby(['RelativesOnboard']).mean()"
   ]
  },
  {
   "cell_type": "markdown",
   "metadata": {},
   "source": [
    "## 4. Spam classifier"
   ]
  },
  {
   "cell_type": "markdown",
   "metadata": {},
   "source": [
    "First, let's fetch the data:"
   ]
  },
  {
   "cell_type": "code",
   "execution_count": 127,
   "metadata": {},
   "outputs": [],
   "source": [
    "import os\n",
    "import tarfile\n",
    "import urllib\n",
    "\n",
    "DOWNLOAD_ROOT = \"http://spamassassin.apache.org/old/publiccorpus/\"\n",
    "HAM_URL = DOWNLOAD_ROOT + \"20030228_easy_ham.tar.bz2\"\n",
    "SPAM_URL = DOWNLOAD_ROOT + \"20030228_spam.tar.bz2\"\n",
    "SPAM_PATH = os.path.join(\"datasets\", \"spam\")\n",
    "\n",
    "def fetch_spam_data(spam_url=SPAM_URL, spam_path=SPAM_PATH):\n",
    "    if not os.path.isdir(spam_path):\n",
    "        os.makedirs(spam_path)\n",
    "    for filename, url in ((\"ham.tar.bz2\", HAM_URL), (\"spam.tar.bz2\", SPAM_URL)):\n",
    "        path = os.path.join(spam_path, filename)\n",
    "        if not os.path.isfile(path):\n",
    "            urllib.request.urlretrieve(url, path)\n",
    "        tar_bz2_file = tarfile.open(path)\n",
    "        tar_bz2_file.extractall(path=SPAM_PATH)\n",
    "        tar_bz2_file.close()"
   ]
  },
  {
   "cell_type": "code",
   "execution_count": 128,
   "metadata": {},
   "outputs": [],
   "source": [
    "fetch_spam_data()"
   ]
  },
  {
   "cell_type": "markdown",
   "metadata": {},
   "source": [
    "Next, let's load all the emails:"
   ]
  },
  {
   "cell_type": "code",
   "execution_count": 129,
   "metadata": {},
   "outputs": [],
   "source": [
    "HAM_DIR = os.path.join(SPAM_PATH, \"easy_ham\")\n",
    "SPAM_DIR = os.path.join(SPAM_PATH, \"spam\")\n",
    "ham_filenames = [name for name in sorted(os.listdir(HAM_DIR)) if len(name) > 20]\n",
    "spam_filenames = [name for name in sorted(os.listdir(SPAM_DIR)) if len(name) > 20]"
   ]
  },
  {
   "cell_type": "code",
   "execution_count": 130,
   "metadata": {},
   "outputs": [
    {
     "data": {
      "text/plain": [
       "2500"
      ]
     },
     "execution_count": 130,
     "metadata": {},
     "output_type": "execute_result"
    }
   ],
   "source": [
    "len(ham_filenames)"
   ]
  },
  {
   "cell_type": "code",
   "execution_count": 131,
   "metadata": {},
   "outputs": [
    {
     "data": {
      "text/plain": [
       "500"
      ]
     },
     "execution_count": 131,
     "metadata": {},
     "output_type": "execute_result"
    }
   ],
   "source": [
    "len(spam_filenames)"
   ]
  },
  {
   "cell_type": "markdown",
   "metadata": {},
   "source": [
    "We can use Python's `email` module to parse these emails (this handles headers, encoding, and so on):"
   ]
  },
  {
   "cell_type": "code",
   "execution_count": 132,
   "metadata": {},
   "outputs": [],
   "source": [
    "import email\n",
    "import email.policy\n",
    "\n",
    "def load_email(is_spam, filename, spam_path=SPAM_PATH):\n",
    "    directory = \"spam\" if is_spam else \"easy_ham\"\n",
    "    with open(os.path.join(spam_path, directory, filename), \"rb\") as f:\n",
    "        return email.parser.BytesParser(policy=email.policy.default).parse(f)"
   ]
  },
  {
   "cell_type": "code",
   "execution_count": 133,
   "metadata": {},
   "outputs": [],
   "source": [
    "ham_emails = [load_email(is_spam=False, filename=name) for name in ham_filenames]\n",
    "spam_emails = [load_email(is_spam=True, filename=name) for name in spam_filenames]"
   ]
  },
  {
   "cell_type": "markdown",
   "metadata": {},
   "source": [
    "Let's look at one example of ham and one example of spam, to get a feel of what the data looks like:"
   ]
  },
  {
   "cell_type": "code",
   "execution_count": 134,
   "metadata": {},
   "outputs": [
    {
     "name": "stdout",
     "output_type": "stream",
     "text": [
      "Martin A posted:\n",
      "Tassos Papadopoulos, the Greek sculptor behind the plan, judged that the\n",
      " limestone of Mount Kerdylio, 70 miles east of Salonika and not far from the\n",
      " Mount Athos monastic community, was ideal for the patriotic sculpture. \n",
      " \n",
      " As well as Alexander's granite features, 240 ft high and 170 ft wide, a\n",
      " museum, a restored amphitheatre and car park for admiring crowds are\n",
      "planned\n",
      "---------------------\n",
      "So is this mountain limestone or granite?\n",
      "If it's limestone, it'll weather pretty fast.\n",
      "\n",
      "------------------------ Yahoo! Groups Sponsor ---------------------~-->\n",
      "4 DVDs Free +s&p Join Now\n",
      "http://us.click.yahoo.com/pt6YBB/NXiEAA/mG3HAA/7gSolB/TM\n",
      "---------------------------------------------------------------------~->\n",
      "\n",
      "To unsubscribe from this group, send an email to:\n",
      "forteana-unsubscribe@egroups.com\n",
      "\n",
      " \n",
      "\n",
      "Your use of Yahoo! Groups is subject to http://docs.yahoo.com/info/terms/\n"
     ]
    }
   ],
   "source": [
    "print(ham_emails[1].get_content().strip())"
   ]
  },
  {
   "cell_type": "code",
   "execution_count": 135,
   "metadata": {},
   "outputs": [
    {
     "name": "stdout",
     "output_type": "stream",
     "text": [
      "Help wanted.  We are a 14 year old fortune 500 company, that is\n",
      "growing at a tremendous rate.  We are looking for individuals who\n",
      "want to work from home.\n",
      "\n",
      "This is an opportunity to make an excellent income.  No experience\n",
      "is required.  We will train you.\n",
      "\n",
      "So if you are looking to be employed from home with a career that has\n",
      "vast opportunities, then go:\n",
      "\n",
      "http://www.basetel.com/wealthnow\n",
      "\n",
      "We are looking for energetic and self motivated people.  If that is you\n",
      "than click on the link and fill out the form, and one of our\n",
      "employement specialist will contact you.\n",
      "\n",
      "To be removed from our link simple go to:\n",
      "\n",
      "http://www.basetel.com/remove.html\n",
      "\n",
      "\n",
      "4139vOLW7-758DoDY1425FRhM1-764SMFc8513fCsLl40\n"
     ]
    }
   ],
   "source": [
    "print(spam_emails[6].get_content().strip())"
   ]
  },
  {
   "cell_type": "markdown",
   "metadata": {},
   "source": [
    "Some emails are actually multipart, with images and attachments (which can have their own attachments). Let's look at the various types of structures we have:"
   ]
  },
  {
   "cell_type": "code",
   "execution_count": 136,
   "metadata": {},
   "outputs": [],
   "source": [
    "def get_email_structure(email):\n",
    "    if isinstance(email, str):\n",
    "        return email\n",
    "    payload = email.get_payload()\n",
    "    if isinstance(payload, list):\n",
    "        return \"multipart({})\".format(\", \".join([\n",
    "            get_email_structure(sub_email)\n",
    "            for sub_email in payload\n",
    "        ]))\n",
    "    else:\n",
    "        return email.get_content_type()"
   ]
  },
  {
   "cell_type": "code",
   "execution_count": 137,
   "metadata": {},
   "outputs": [],
   "source": [
    "from collections import Counter\n",
    "\n",
    "def structures_counter(emails):\n",
    "    structures = Counter()\n",
    "    for email in emails:\n",
    "        structure = get_email_structure(email)\n",
    "        structures[structure] += 1\n",
    "    return structures"
   ]
  },
  {
   "cell_type": "code",
   "execution_count": 138,
   "metadata": {},
   "outputs": [
    {
     "data": {
      "text/plain": [
       "[('text/plain', 2408),\n",
       " ('multipart(text/plain, application/pgp-signature)', 66),\n",
       " ('multipart(text/plain, text/html)', 8),\n",
       " ('multipart(text/plain, text/plain)', 4),\n",
       " ('multipart(text/plain)', 3),\n",
       " ('multipart(text/plain, application/octet-stream)', 2),\n",
       " ('multipart(text/plain, text/enriched)', 1),\n",
       " ('multipart(text/plain, application/ms-tnef, text/plain)', 1),\n",
       " ('multipart(multipart(text/plain, text/plain, text/plain), application/pgp-signature)',\n",
       "  1),\n",
       " ('multipart(text/plain, video/mng)', 1),\n",
       " ('multipart(text/plain, multipart(text/plain))', 1),\n",
       " ('multipart(text/plain, application/x-pkcs7-signature)', 1),\n",
       " ('multipart(text/plain, multipart(text/plain, text/plain), text/rfc822-headers)',\n",
       "  1),\n",
       " ('multipart(text/plain, multipart(text/plain, text/plain), multipart(multipart(text/plain, application/x-pkcs7-signature)))',\n",
       "  1),\n",
       " ('multipart(text/plain, application/x-java-applet)', 1)]"
      ]
     },
     "execution_count": 138,
     "metadata": {},
     "output_type": "execute_result"
    }
   ],
   "source": [
    "structures_counter(ham_emails).most_common()"
   ]
  },
  {
   "cell_type": "code",
   "execution_count": 139,
   "metadata": {},
   "outputs": [
    {
     "data": {
      "text/plain": [
       "[('text/plain', 218),\n",
       " ('text/html', 183),\n",
       " ('multipart(text/plain, text/html)', 45),\n",
       " ('multipart(text/html)', 20),\n",
       " ('multipart(text/plain)', 19),\n",
       " ('multipart(multipart(text/html))', 5),\n",
       " ('multipart(text/plain, image/jpeg)', 3),\n",
       " ('multipart(text/html, application/octet-stream)', 2),\n",
       " ('multipart(text/plain, application/octet-stream)', 1),\n",
       " ('multipart(text/html, text/plain)', 1),\n",
       " ('multipart(multipart(text/html), application/octet-stream, image/jpeg)', 1),\n",
       " ('multipart(multipart(text/plain, text/html), image/gif)', 1),\n",
       " ('multipart/alternative', 1)]"
      ]
     },
     "execution_count": 139,
     "metadata": {},
     "output_type": "execute_result"
    }
   ],
   "source": [
    "structures_counter(spam_emails).most_common()"
   ]
  },
  {
   "cell_type": "markdown",
   "metadata": {},
   "source": [
    "It seems that the ham emails are more often plain text, while spam has quite a lot of HTML. Moreover, quite a few ham emails are signed using PGP, while no spam is. In short, it seems that the email structure is useful information to have."
   ]
  },
  {
   "cell_type": "markdown",
   "metadata": {},
   "source": [
    "Now let's take a look at the email headers:"
   ]
  },
  {
   "cell_type": "code",
   "execution_count": 140,
   "metadata": {},
   "outputs": [
    {
     "name": "stdout",
     "output_type": "stream",
     "text": [
      "Return-Path : <12a1mailbot1@web.de>\n",
      "Delivered-To : zzzz@localhost.spamassassin.taint.org\n",
      "Received : from localhost (localhost [127.0.0.1])\tby phobos.labs.spamassassin.taint.org (Postfix) with ESMTP id 136B943C32\tfor <zzzz@localhost>; Thu, 22 Aug 2002 08:17:21 -0400 (EDT)\n",
      "Received : from mail.webnote.net [193.120.211.219]\tby localhost with POP3 (fetchmail-5.9.0)\tfor zzzz@localhost (single-drop); Thu, 22 Aug 2002 13:17:21 +0100 (IST)\n",
      "Received : from dd_it7 ([210.97.77.167])\tby webnote.net (8.9.3/8.9.3) with ESMTP id NAA04623\tfor <zzzz@spamassassin.taint.org>; Thu, 22 Aug 2002 13:09:41 +0100\n",
      "From : 12a1mailbot1@web.de\n",
      "Received : from r-smtp.korea.com - 203.122.2.197 by dd_it7  with Microsoft SMTPSVC(5.5.1775.675.6);\t Sat, 24 Aug 2002 09:42:10 +0900\n",
      "To : dcek1a1@netsgo.com\n",
      "Subject : Life Insurance - Why Pay More?\n",
      "Date : Wed, 21 Aug 2002 20:31:57 -1600\n",
      "MIME-Version : 1.0\n",
      "Message-ID : <0103c1042001882DD_IT7@dd_it7>\n",
      "Content-Type : text/html; charset=\"iso-8859-1\"\n",
      "Content-Transfer-Encoding : quoted-printable\n"
     ]
    }
   ],
   "source": [
    "for header, value in spam_emails[0].items():\n",
    "    print(header,\":\",value)"
   ]
  },
  {
   "cell_type": "markdown",
   "metadata": {},
   "source": [
    "There's probably a lot of useful information in there, such as the sender's email address (12a1mailbot1@web.de looks fishy), but we will just focus on the `Subject` header:"
   ]
  },
  {
   "cell_type": "code",
   "execution_count": 141,
   "metadata": {},
   "outputs": [
    {
     "data": {
      "text/plain": [
       "'Life Insurance - Why Pay More?'"
      ]
     },
     "execution_count": 141,
     "metadata": {},
     "output_type": "execute_result"
    }
   ],
   "source": [
    "spam_emails[0][\"Subject\"]"
   ]
  },
  {
   "cell_type": "markdown",
   "metadata": {},
   "source": [
    "Okay, before we learn too much about the data, let's not forget to split it into a training set and a test set:"
   ]
  },
  {
   "cell_type": "code",
   "execution_count": 142,
   "metadata": {},
   "outputs": [],
   "source": [
    "import numpy as np\n",
    "from sklearn.model_selection import train_test_split\n",
    "\n",
    "X = np.array(ham_emails + spam_emails)\n",
    "y = np.array([0] * len(ham_emails) + [1] * len(spam_emails))\n",
    "\n",
    "X_train, X_test, y_train, y_test = train_test_split(X, y, test_size=0.2, random_state=42)"
   ]
  },
  {
   "cell_type": "markdown",
   "metadata": {},
   "source": [
    "Okay, let's start writing the preprocessing functions. First, we will need a function to convert HTML to plain text. Arguably the best way to do this would be to use the great [BeautifulSoup](https://www.crummy.com/software/BeautifulSoup/) library, but I would like to avoid adding another dependency to this project, so let's hack a quick & dirty solution using regular expressions (at the risk of [un̨ho͞ly radiańcé destro҉ying all enli̍̈́̂̈́ghtenment](https://stackoverflow.com/a/1732454/38626)). The following function first drops the `<head>` section, then converts all `<a>` tags to the word HYPERLINK, then it gets rid of all HTML tags, leaving only the plain text. For readability, it also replaces multiple newlines with single newlines, and finally it unescapes html entities (such as `&gt;` or `&nbsp;`):"
   ]
  },
  {
   "cell_type": "code",
   "execution_count": 143,
   "metadata": {},
   "outputs": [],
   "source": [
    "import re\n",
    "from html import unescape\n",
    "\n",
    "def html_to_plain_text(html):\n",
    "    text = re.sub('<head.*?>.*?</head>', '', html, flags=re.M | re.S | re.I)\n",
    "    text = re.sub('<a\\s.*?>', ' HYPERLINK ', text, flags=re.M | re.S | re.I)\n",
    "    text = re.sub('<.*?>', '', text, flags=re.M | re.S)\n",
    "    text = re.sub(r'(\\s*\\n)+', '\\n', text, flags=re.M | re.S)\n",
    "    return unescape(text)"
   ]
  },
  {
   "cell_type": "markdown",
   "metadata": {},
   "source": [
    "Let's see if it works. This is HTML spam:"
   ]
  },
  {
   "cell_type": "code",
   "execution_count": 144,
   "metadata": {},
   "outputs": [
    {
     "name": "stdout",
     "output_type": "stream",
     "text": [
      "<HTML><HEAD><TITLE></TITLE><META http-equiv=\"Content-Type\" content=\"text/html; charset=windows-1252\"><STYLE>A:link {TEX-DECORATION: none}A:active {TEXT-DECORATION: none}A:visited {TEXT-DECORATION: none}A:hover {COLOR: #0033ff; TEXT-DECORATION: underline}</STYLE><META content=\"MSHTML 6.00.2713.1100\" name=\"GENERATOR\"></HEAD>\n",
      "<BODY text=\"#000000\" vLink=\"#0033ff\" link=\"#0033ff\" bgColor=\"#CCCC99\"><TABLE borderColor=\"#660000\" cellSpacing=\"0\" cellPadding=\"0\" border=\"0\" width=\"100%\"><TR><TD bgColor=\"#CCCC99\" valign=\"top\" colspan=\"2\" height=\"27\">\n",
      "<font size=\"6\" face=\"Arial, Helvetica, sans-serif\" color=\"#660000\">\n",
      "<b>OTC</b></font></TD></TR><TR><TD height=\"2\" bgcolor=\"#6a694f\">\n",
      "<font size=\"5\" face=\"Times New Roman, Times, serif\" color=\"#FFFFFF\">\n",
      "<b>&nbsp;Newsletter</b></font></TD><TD height=\"2\" bgcolor=\"#6a694f\"><div align=\"right\"><font color=\"#FFFFFF\">\n",
      "<b>Discover Tomorrow's Winners&nbsp;</b></font></div></TD></TR><TR><TD height=\"25\" colspan=\"2\" bgcolor=\"#CCCC99\"><table width=\"100%\" border=\"0\"  ...\n"
     ]
    }
   ],
   "source": [
    "html_spam_emails = [email for email in X_train[y_train==1]\n",
    "                    if get_email_structure(email) == \"text/html\"]\n",
    "sample_html_spam = html_spam_emails[7]\n",
    "print(sample_html_spam.get_content().strip()[:1000], \"...\")"
   ]
  },
  {
   "cell_type": "markdown",
   "metadata": {},
   "source": [
    "And this is the resulting plain text:"
   ]
  },
  {
   "cell_type": "code",
   "execution_count": 145,
   "metadata": {},
   "outputs": [
    {
     "name": "stdout",
     "output_type": "stream",
     "text": [
      "\n",
      "OTC\n",
      " Newsletter\n",
      "Discover Tomorrow's Winners \n",
      "For Immediate Release\n",
      "Cal-Bay (Stock Symbol: CBYI)\n",
      "Watch for analyst \"Strong Buy Recommendations\" and several advisory newsletters picking CBYI.  CBYI has filed to be traded on the OTCBB, share prices historically INCREASE when companies get listed on this larger trading exchange. CBYI is trading around 25 cents and should skyrocket to $2.66 - $3.25 a share in the near future.\n",
      "Put CBYI on your watch list, acquire a position TODAY.\n",
      "REASONS TO INVEST IN CBYI\n",
      "A profitable company and is on track to beat ALL earnings estimates!\n",
      "One of the FASTEST growing distributors in environmental & safety equipment instruments.\n",
      "Excellent management team, several EXCLUSIVE contracts.  IMPRESSIVE client list including the U.S. Air Force, Anheuser-Busch, Chevron Refining and Mitsubishi Heavy Industries, GE-Energy & Environmental Research.\n",
      "RAPIDLY GROWING INDUSTRY\n",
      "Industry revenues exceed $900 million, estimates indicate that there could be as much as $25 billi ...\n"
     ]
    }
   ],
   "source": [
    "print(html_to_plain_text(sample_html_spam.get_content())[:1000], \"...\")"
   ]
  },
  {
   "cell_type": "markdown",
   "metadata": {},
   "source": [
    "Great! Now let's write a function that takes an email as input and returns its content as plain text, whatever its format is:"
   ]
  },
  {
   "cell_type": "code",
   "execution_count": 146,
   "metadata": {},
   "outputs": [],
   "source": [
    "def email_to_text(email):\n",
    "    html = None\n",
    "    for part in email.walk():\n",
    "        ctype = part.get_content_type()\n",
    "        if not ctype in (\"text/plain\", \"text/html\"):\n",
    "            continue\n",
    "        try:\n",
    "            content = part.get_content()\n",
    "        except: # in case of encoding issues\n",
    "            content = str(part.get_payload())\n",
    "        if ctype == \"text/plain\":\n",
    "            return content\n",
    "        else:\n",
    "            html = content\n",
    "    if html:\n",
    "        return html_to_plain_text(html)"
   ]
  },
  {
   "cell_type": "code",
   "execution_count": 147,
   "metadata": {},
   "outputs": [
    {
     "name": "stdout",
     "output_type": "stream",
     "text": [
      "\n",
      "OTC\n",
      " Newsletter\n",
      "Discover Tomorrow's Winners \n",
      "For Immediate Release\n",
      "Cal-Bay (Stock Symbol: CBYI)\n",
      "Wat ...\n"
     ]
    }
   ],
   "source": [
    "print(email_to_text(sample_html_spam)[:100], \"...\")"
   ]
  },
  {
   "cell_type": "markdown",
   "metadata": {},
   "source": [
    "Let's throw in some stemming! For this to work, you need to install the Natural Language Toolkit ([NLTK](http://www.nltk.org/)). It's as simple as running the following command (don't forget to activate your virtualenv first; if you don't have one, you will likely need administrator rights, or use the `--user` option):\n",
    "\n",
    "`$ pip3 install nltk`"
   ]
  },
  {
   "cell_type": "code",
   "execution_count": 148,
   "metadata": {},
   "outputs": [
    {
     "name": "stdout",
     "output_type": "stream",
     "text": [
      "Computations => comput\n",
      "Computation => comput\n",
      "Computing => comput\n",
      "Computed => comput\n",
      "Compute => comput\n",
      "Compulsive => compuls\n"
     ]
    }
   ],
   "source": [
    "try:\n",
    "    import nltk\n",
    "\n",
    "    stemmer = nltk.PorterStemmer()\n",
    "    for word in (\"Computations\", \"Computation\", \"Computing\", \"Computed\", \"Compute\", \"Compulsive\"):\n",
    "        print(word, \"=>\", stemmer.stem(word))\n",
    "except ImportError:\n",
    "    print(\"Error: stemming requires the NLTK module.\")\n",
    "    stemmer = None"
   ]
  },
  {
   "cell_type": "markdown",
   "metadata": {},
   "source": [
    "We will also need a way to replace URLs with the word \"URL\". For this, we could use hard core [regular expressions](https://mathiasbynens.be/demo/url-regex) but we will just use the [urlextract](https://github.com/lipoja/URLExtract) library. You can install it with the following command (don't forget to activate your virtualenv first; if you don't have one, you will likely need administrator rights, or use the `--user` option):\n",
    "\n",
    "`$ pip3 install urlextract`"
   ]
  },
  {
   "cell_type": "code",
   "execution_count": 149,
   "metadata": {},
   "outputs": [],
   "source": [
    "# if running this notebook on Colab, we just pip install urlextract\n",
    "try:\n",
    "    import google.colab\n",
    "    !pip install -q -U urlextract\n",
    "except ImportError:\n",
    "    pass # not running on Colab"
   ]
  },
  {
   "cell_type": "code",
   "execution_count": 150,
   "metadata": {},
   "outputs": [
    {
     "name": "stdout",
     "output_type": "stream",
     "text": [
      "['github.com', 'https://youtu.be/7Pq-S557XQU?t=3m32s']\n"
     ]
    }
   ],
   "source": [
    "try:\n",
    "    import urlextract # may require an Internet connection to download root domain names\n",
    "    \n",
    "    url_extractor = urlextract.URLExtract()\n",
    "    print(url_extractor.find_urls(\"Will it detect github.com and https://youtu.be/7Pq-S557XQU?t=3m32s\"))\n",
    "except ImportError:\n",
    "    print(\"Error: replacing URLs requires the urlextract module.\")\n",
    "    url_extractor = None"
   ]
  },
  {
   "cell_type": "markdown",
   "metadata": {},
   "source": [
    "We are ready to put all this together into a transformer that we will use to convert emails to word counters. Note that we split sentences into words using Python's `split()` method, which uses whitespaces for word boundaries. This works for many written languages, but not all. For example, Chinese and Japanese scripts generally don't use spaces between words, and Vietnamese often uses spaces even between syllables. It's okay in this exercise, because the dataset is (mostly) in English."
   ]
  },
  {
   "cell_type": "code",
   "execution_count": 151,
   "metadata": {},
   "outputs": [],
   "source": [
    "from sklearn.base import BaseEstimator, TransformerMixin\n",
    "\n",
    "class EmailToWordCounterTransformer(BaseEstimator, TransformerMixin):\n",
    "    def __init__(self, strip_headers=True, lower_case=True, remove_punctuation=True,\n",
    "                 replace_urls=True, replace_numbers=True, stemming=True):\n",
    "        self.strip_headers = strip_headers\n",
    "        self.lower_case = lower_case\n",
    "        self.remove_punctuation = remove_punctuation\n",
    "        self.replace_urls = replace_urls\n",
    "        self.replace_numbers = replace_numbers\n",
    "        self.stemming = stemming\n",
    "    def fit(self, X, y=None):\n",
    "        return self\n",
    "    def transform(self, X, y=None):\n",
    "        X_transformed = []\n",
    "        for email in X:\n",
    "            text = email_to_text(email) or \"\"\n",
    "            if self.lower_case:\n",
    "                text = text.lower()\n",
    "            if self.replace_urls and url_extractor is not None:\n",
    "                urls = list(set(url_extractor.find_urls(text)))\n",
    "                urls.sort(key=lambda url: len(url), reverse=True)\n",
    "                for url in urls:\n",
    "                    text = text.replace(url, \" URL \")\n",
    "            if self.replace_numbers:\n",
    "                text = re.sub(r'\\d+(?:\\.\\d*(?:[eE]\\d+))?', 'NUMBER', text)\n",
    "            if self.remove_punctuation:\n",
    "                text = re.sub(r'\\W+', ' ', text, flags=re.M)\n",
    "            word_counts = Counter(text.split())\n",
    "            if self.stemming and stemmer is not None:\n",
    "                stemmed_word_counts = Counter()\n",
    "                for word, count in word_counts.items():\n",
    "                    stemmed_word = stemmer.stem(word)\n",
    "                    stemmed_word_counts[stemmed_word] += count\n",
    "                word_counts = stemmed_word_counts\n",
    "            X_transformed.append(word_counts)\n",
    "        return np.array(X_transformed)"
   ]
  },
  {
   "cell_type": "markdown",
   "metadata": {},
   "source": [
    "Let's try this transformer on a few emails:"
   ]
  },
  {
   "cell_type": "code",
   "execution_count": 152,
   "metadata": {},
   "outputs": [
    {
     "data": {
      "text/plain": [
       "array([Counter({'chuck': 1, 'murcko': 1, 'wrote': 1, 'stuff': 1, 'yawn': 1, 'r': 1}),\n",
       "       Counter({'the': 11, 'of': 9, 'and': 8, 'all': 3, 'christian': 3, 'to': 3, 'by': 3, 'jefferson': 2, 'i': 2, 'have': 2, 'superstit': 2, 'one': 2, 'on': 2, 'been': 2, 'ha': 2, 'half': 2, 'rogueri': 2, 'teach': 2, 'jesu': 2, 'some': 1, 'interest': 1, 'quot': 1, 'url': 1, 'thoma': 1, 'examin': 1, 'known': 1, 'word': 1, 'do': 1, 'not': 1, 'find': 1, 'in': 1, 'our': 1, 'particular': 1, 'redeem': 1, 'featur': 1, 'they': 1, 'are': 1, 'alik': 1, 'found': 1, 'fabl': 1, 'mytholog': 1, 'million': 1, 'innoc': 1, 'men': 1, 'women': 1, 'children': 1, 'sinc': 1, 'introduct': 1, 'burnt': 1, 'tortur': 1, 'fine': 1, 'imprison': 1, 'what': 1, 'effect': 1, 'thi': 1, 'coercion': 1, 'make': 1, 'world': 1, 'fool': 1, 'other': 1, 'hypocrit': 1, 'support': 1, 'error': 1, 'over': 1, 'earth': 1, 'six': 1, 'histor': 1, 'american': 1, 'john': 1, 'e': 1, 'remsburg': 1, 'letter': 1, 'william': 1, 'short': 1, 'again': 1, 'becom': 1, 'most': 1, 'pervert': 1, 'system': 1, 'that': 1, 'ever': 1, 'shone': 1, 'man': 1, 'absurd': 1, 'untruth': 1, 'were': 1, 'perpetr': 1, 'upon': 1, 'a': 1, 'larg': 1, 'band': 1, 'dupe': 1, 'import': 1, 'led': 1, 'paul': 1, 'first': 1, 'great': 1, 'corrupt': 1}),\n",
       "       Counter({'url': 5, 's': 3, 'group': 3, 'to': 3, 'in': 2, 'forteana': 2, 'martin': 2, 'an': 2, 'and': 2, 'we': 2, 'is': 2, 'yahoo': 2, 'unsubscrib': 2, 'y': 1, 'adamson': 1, 'wrote': 1, 'for': 1, 'altern': 1, 'rather': 1, 'more': 1, 'factual': 1, 'base': 1, 'rundown': 1, 'on': 1, 'hamza': 1, 'career': 1, 'includ': 1, 'hi': 1, 'belief': 1, 'that': 1, 'all': 1, 'non': 1, 'muslim': 1, 'yemen': 1, 'should': 1, 'be': 1, 'murder': 1, 'outright': 1, 'know': 1, 'how': 1, 'unbias': 1, 'memri': 1, 'don': 1, 't': 1, 'html': 1, 'rob': 1, 'sponsor': 1, 'number': 1, 'dvd': 1, 'free': 1, 'p': 1, 'join': 1, 'now': 1, 'from': 1, 'thi': 1, 'send': 1, 'email': 1, 'your': 1, 'use': 1, 'of': 1, 'subject': 1})],\n",
       "      dtype=object)"
      ]
     },
     "execution_count": 152,
     "metadata": {},
     "output_type": "execute_result"
    }
   ],
   "source": [
    "X_few = X_train[:3]\n",
    "X_few_wordcounts = EmailToWordCounterTransformer().fit_transform(X_few)\n",
    "X_few_wordcounts"
   ]
  },
  {
   "cell_type": "markdown",
   "metadata": {},
   "source": [
    "This looks about right!"
   ]
  },
  {
   "cell_type": "markdown",
   "metadata": {},
   "source": [
    "Now we have the word counts, and we need to convert them to vectors. For this, we will build another transformer whose `fit()` method will build the vocabulary (an ordered list of the most common words) and whose `transform()` method will use the vocabulary to convert word counts to vectors. The output is a sparse matrix."
   ]
  },
  {
   "cell_type": "code",
   "execution_count": 153,
   "metadata": {},
   "outputs": [],
   "source": [
    "from scipy.sparse import csr_matrix\n",
    "\n",
    "class WordCounterToVectorTransformer(BaseEstimator, TransformerMixin):\n",
    "    def __init__(self, vocabulary_size=1000):\n",
    "        self.vocabulary_size = vocabulary_size\n",
    "    def fit(self, X, y=None):\n",
    "        total_count = Counter()\n",
    "        for word_count in X:\n",
    "            for word, count in word_count.items():\n",
    "                total_count[word] += min(count, 10)\n",
    "        most_common = total_count.most_common()[:self.vocabulary_size]\n",
    "        self.most_common_ = most_common\n",
    "        self.vocabulary_ = {word: index + 1 for index, (word, count) in enumerate(most_common)}\n",
    "        return self\n",
    "    def transform(self, X, y=None):\n",
    "        rows = []\n",
    "        cols = []\n",
    "        data = []\n",
    "        for row, word_count in enumerate(X):\n",
    "            for word, count in word_count.items():\n",
    "                rows.append(row)\n",
    "                cols.append(self.vocabulary_.get(word, 0))\n",
    "                data.append(count)\n",
    "        return csr_matrix((data, (rows, cols)), shape=(len(X), self.vocabulary_size + 1))"
   ]
  },
  {
   "cell_type": "code",
   "execution_count": 154,
   "metadata": {},
   "outputs": [
    {
     "data": {
      "text/plain": [
       "<3x11 sparse matrix of type '<class 'numpy.int64'>'\n",
       "\twith 20 stored elements in Compressed Sparse Row format>"
      ]
     },
     "execution_count": 154,
     "metadata": {},
     "output_type": "execute_result"
    }
   ],
   "source": [
    "vocab_transformer = WordCounterToVectorTransformer(vocabulary_size=10)\n",
    "X_few_vectors = vocab_transformer.fit_transform(X_few_wordcounts)\n",
    "X_few_vectors"
   ]
  },
  {
   "cell_type": "code",
   "execution_count": 155,
   "metadata": {},
   "outputs": [
    {
     "data": {
      "text/plain": [
       "array([[ 6,  0,  0,  0,  0,  0,  0,  0,  0,  0,  0],\n",
       "       [99, 11,  9,  8,  1,  3,  3,  1,  3,  2,  3],\n",
       "       [65,  0,  1,  2,  5,  3,  1,  2,  0,  1,  0]], dtype=int64)"
      ]
     },
     "execution_count": 155,
     "metadata": {},
     "output_type": "execute_result"
    }
   ],
   "source": [
    "X_few_vectors.toarray()"
   ]
  },
  {
   "cell_type": "markdown",
   "metadata": {},
   "source": [
    "What does this matrix mean? Well, the 99 in the second row, first column, means that the second email contains 99 words that are not part of the vocabulary. The 11 next to it means that the first word in the vocabulary is present 11 times in this email. The 9 next to it means that the second word is present 9 times, and so on. You can look at the vocabulary to know which words we are talking about. The first word is \"the\", the second word is \"of\", etc."
   ]
  },
  {
   "cell_type": "code",
   "execution_count": 156,
   "metadata": {},
   "outputs": [
    {
     "data": {
      "text/plain": [
       "{'the': 1,\n",
       " 'of': 2,\n",
       " 'and': 3,\n",
       " 'url': 4,\n",
       " 'to': 5,\n",
       " 'all': 6,\n",
       " 'in': 7,\n",
       " 'christian': 8,\n",
       " 'on': 9,\n",
       " 'by': 10}"
      ]
     },
     "execution_count": 156,
     "metadata": {},
     "output_type": "execute_result"
    }
   ],
   "source": [
    "vocab_transformer.vocabulary_"
   ]
  },
  {
   "cell_type": "markdown",
   "metadata": {},
   "source": [
    "We are now ready to train our first spam classifier! Let's transform the whole dataset:"
   ]
  },
  {
   "cell_type": "code",
   "execution_count": 157,
   "metadata": {},
   "outputs": [],
   "source": [
    "from sklearn.pipeline import Pipeline\n",
    "\n",
    "preprocess_pipeline = Pipeline([\n",
    "    (\"email_to_wordcount\", EmailToWordCounterTransformer()),\n",
    "    (\"wordcount_to_vector\", WordCounterToVectorTransformer()),\n",
    "])\n",
    "\n",
    "X_train_transformed = preprocess_pipeline.fit_transform(X_train)"
   ]
  },
  {
   "cell_type": "markdown",
   "metadata": {},
   "source": [
    "**Note**: to be future-proof, we set `solver=\"lbfgs\"` since this will be the default value in Scikit-Learn 0.22."
   ]
  },
  {
   "cell_type": "code",
   "execution_count": 158,
   "metadata": {},
   "outputs": [
    {
     "name": "stderr",
     "output_type": "stream",
     "text": [
      "[Parallel(n_jobs=1)]: Using backend SequentialBackend with 1 concurrent workers.\n",
      "/Users/ageron/.virtualenvs/tf2/lib/python3.6/site-packages/sklearn/linear_model/logistic.py:758: ConvergenceWarning: lbfgs failed to converge. Increase the number of iterations.\n",
      "  \"of iterations.\", ConvergenceWarning)\n",
      "[Parallel(n_jobs=1)]: Done   1 out of   1 | elapsed:    0.1s remaining:    0.0s\n"
     ]
    },
    {
     "name": "stdout",
     "output_type": "stream",
     "text": [
      "[CV]  ................................................................\n",
      "[CV] .................................... , score=0.985, total=   0.1s\n",
      "[CV]  ................................................................\n",
      "[CV] .................................... , score=0.985, total=   0.1s\n",
      "[CV]  ................................................................\n",
      "[CV] ................................... , score=0.9925, total=   0.1s\n"
     ]
    },
    {
     "name": "stderr",
     "output_type": "stream",
     "text": [
      "/Users/ageron/.virtualenvs/tf2/lib/python3.6/site-packages/sklearn/linear_model/logistic.py:758: ConvergenceWarning: lbfgs failed to converge. Increase the number of iterations.\n",
      "  \"of iterations.\", ConvergenceWarning)\n",
      "[Parallel(n_jobs=1)]: Done   2 out of   2 | elapsed:    0.2s remaining:    0.0s\n",
      "/Users/ageron/.virtualenvs/tf2/lib/python3.6/site-packages/sklearn/linear_model/logistic.py:758: ConvergenceWarning: lbfgs failed to converge. Increase the number of iterations.\n",
      "  \"of iterations.\", ConvergenceWarning)\n",
      "[Parallel(n_jobs=1)]: Done   3 out of   3 | elapsed:    0.4s finished\n"
     ]
    },
    {
     "data": {
      "text/plain": [
       "0.9874999999999999"
      ]
     },
     "execution_count": 158,
     "metadata": {},
     "output_type": "execute_result"
    }
   ],
   "source": [
    "from sklearn.linear_model import LogisticRegression\n",
    "from sklearn.model_selection import cross_val_score\n",
    "\n",
    "log_clf = LogisticRegression(solver=\"lbfgs\", random_state=42)\n",
    "score = cross_val_score(log_clf, X_train_transformed, y_train, cv=3, verbose=3)\n",
    "score.mean()"
   ]
  },
  {
   "cell_type": "markdown",
   "metadata": {},
   "source": [
    "Over 98.7%, not bad for a first try! :) However, remember that we are using the \"easy\" dataset. You can try with the harder datasets, the results won't be so amazing. You would have to try multiple models, select the best ones and fine-tune them using cross-validation, and so on.\n",
    "\n",
    "But you get the picture, so let's stop now, and just print out the precision/recall we get on the test set:"
   ]
  },
  {
   "cell_type": "code",
   "execution_count": 159,
   "metadata": {},
   "outputs": [
    {
     "name": "stdout",
     "output_type": "stream",
     "text": [
      "Precision: 95.88%\n",
      "Recall: 97.89%\n"
     ]
    },
    {
     "name": "stderr",
     "output_type": "stream",
     "text": [
      "/Users/ageron/.virtualenvs/tf2/lib/python3.6/site-packages/sklearn/linear_model/logistic.py:758: ConvergenceWarning: lbfgs failed to converge. Increase the number of iterations.\n",
      "  \"of iterations.\", ConvergenceWarning)\n"
     ]
    }
   ],
   "source": [
    "from sklearn.metrics import precision_score, recall_score\n",
    "\n",
    "X_test_transformed = preprocess_pipeline.transform(X_test)\n",
    "\n",
    "log_clf = LogisticRegression(solver=\"lbfgs\", random_state=42)\n",
    "log_clf.fit(X_train_transformed, y_train)\n",
    "\n",
    "y_pred = log_clf.predict(X_test_transformed)\n",
    "\n",
    "print(\"Precision: {:.2f}%\".format(100 * precision_score(y_test, y_pred)))\n",
    "print(\"Recall: {:.2f}%\".format(100 * recall_score(y_test, y_pred)))"
   ]
  },
  {
   "cell_type": "code",
   "execution_count": null,
   "metadata": {},
   "outputs": [],
   "source": []
  }
 ],
 "metadata": {
  "kernelspec": {
   "name": "python3",
   "display_name": "Python 3.8.6 64-bit ('tf': conda)"
  },
  "language_info": {
   "codemirror_mode": {
    "name": "ipython",
    "version": 3
   },
   "file_extension": ".py",
   "mimetype": "text/x-python",
   "name": "python",
   "nbconvert_exporter": "python",
   "pygments_lexer": "ipython3",
   "version": "3.8.6"
  },
  "nav_menu": {},
  "toc": {
   "navigate_menu": true,
   "number_sections": true,
   "sideBar": true,
   "threshold": 6,
   "toc_cell": false,
   "toc_section_display": "block",
   "toc_window_display": false
  },
  "interpreter": {
   "hash": "4ea0e157563bacde0b7fd8dc93db6051c9678d5eadbd4117abf1a4cecbc8cd1a"
  }
 },
 "nbformat": 4,
 "nbformat_minor": 1
}