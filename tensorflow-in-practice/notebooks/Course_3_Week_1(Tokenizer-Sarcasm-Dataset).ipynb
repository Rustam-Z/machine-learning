{
 "metadata": {
  "language_info": {
   "codemirror_mode": {
    "name": "ipython",
    "version": 3
   },
   "file_extension": ".py",
   "mimetype": "text/x-python",
   "name": "python",
   "nbconvert_exporter": "python",
   "pygments_lexer": "ipython3",
   "version": "3.8.6"
  },
  "orig_nbformat": 2,
  "kernelspec": {
   "name": "python386jvsc74a57bd04ea0e157563bacde0b7fd8dc93db6051c9678d5eadbd4117abf1a4cecbc8cd1a",
   "display_name": "Python 3.8.6 64-bit ('tf': conda)"
  },
  "metadata": {
   "interpreter": {
    "hash": "4ea0e157563bacde0b7fd8dc93db6051c9678d5eadbd4117abf1a4cecbc8cd1a"
   }
  }
 },
 "nbformat": 4,
 "nbformat_minor": 2,
 "cells": [
  {
   "cell_type": "code",
   "execution_count": 2,
   "metadata": {},
   "outputs": [
    {
     "output_type": "stream",
     "name": "stdout",
     "text": [
      "{'<OOV>': 1, 'my': 2, 'love': 3, 'dog': 4, 'i': 5, 'you': 6, 'cat': 7, 'do': 8, 'think': 9, 'is': 10, 'amazing': 11}\n[[5, 3, 2, 4], [5, 3, 2, 7], [6, 3, 2, 4], [8, 6, 9, 2, 4, 10, 11]]\n[[ 5  3  2  4  0  0  0]\n [ 5  3  2  7  0  0  0]\n [ 6  3  2  4  0  0  0]\n [ 8  6  9  2  4 10 11]]\n"
     ]
    }
   ],
   "source": [
    "from tensorflow.keras.preprocessing.text import Tokenizer\n",
    "from tensorflow.keras.preprocessing.sequence import pad_sequences\n",
    "\n",
    "sentences = [\n",
    "    'i love my dog',\n",
    "    'I, love my cat',\n",
    "    'You love my dog!',\n",
    "    'Do you think my dog is amazing?'\n",
    "]\n",
    "\n",
    "tokenizer = Tokenizer(num_words = 100, oov_token=\"<OOV>\")\n",
    "tokenizer.fit_on_texts(sentences) # tokenize the list of sentences\n",
    "word_index = tokenizer.word_index\n",
    "\n",
    "sequences = tokenizer.texts_to_sequences(sentences) # 2 \n",
    "\n",
    "padded = pad_sequences(sequences, padding='post') # maxlen=5, trancating='post' if you want to define the size of sentences, if sentence legth is bigger than maxelen, define from which side cut out of limit words (trancating)\n",
    "# the sentence will be padded if it is short, and trancated if it is long \n",
    "\n",
    "print(word_index)\n",
    "print(sequences)\n",
    "print(padded)"
   ]
  },
  {
   "cell_type": "code",
   "execution_count": 3,
   "metadata": {},
   "outputs": [
    {
     "output_type": "execute_result",
     "data": {
      "text/plain": [
       "<keras_preprocessing.text.Tokenizer at 0x107787190>"
      ]
     },
     "metadata": {},
     "execution_count": 3
    }
   ],
   "source": [
    "tokenizer"
   ]
  },
  {
   "cell_type": "code",
   "execution_count": null,
   "metadata": {},
   "outputs": [],
   "source": [
    "!wget --no-check-certificate \\\n",
    "    https://storage.googleapis.com/laurencemoroney-blog.appspot.com/sarcasm.json \\\n",
    "    -O /Users/rustamz/machine-learning/machine-learning-area/tensorflow-in-practice/notebooks/sarcasm.json"
   ]
  },
  {
   "cell_type": "code",
   "execution_count": 3,
   "metadata": {
    "tags": [
     "outputPrepend"
    ]
   },
   "outputs": [
    {
     "output_type": "stream",
     "name": "stdout",
     "text": [
      "ed': 28594, 'foreshadows': 28595, 'tattered': 28596, 'intuition': 28597, 'deceitful': 28598, 'deviously': 28599, \"'california\": 28600, 'shantytown': 28601, 'balmain': 28602, 'carless': 28603, \"rudy's\": 28604, 'pusha': 28605, \"lohan's\": 28606, 'stint': 28607, 'start—and': 28608, 'nils': 28609, 'hognestad': 28610, 'barbed': 28611, \"'mindhunter'\": 28612, 'frenchman': 28613, 'bataclan': 28614, 'obscurity': 28615, 'maga': 28616, 'supermoon': 28617, \"runner'\": 28618, 'gendiy': 28619, 'tamblyn': 28620, 'newscaster': 28621, 'disastrously': 28622, 'triggering': 28623, 'grisled': 28624, 'polygamy': 28625, 'phalanx': 28626, 'hungrily': 28627, \"resuscitate'\": 28628, 'sodium': 28629, 'outright': 28630, \"nimoy's\": 28631, \"'freeheld\": 28632, \"'extraordinary'\": 28633, 'anguished': 28634, 'perjurer': 28635, 'cairo': 28636, 'embellishing': 28637, 'bugs': 28638, 'infesting': 28639, 'treading': 28640, 'allowable': 28641, 'amperage': 28642, \"detainees'\": 28643, 'testicles': 28644, \"'manipulated'\": 28645, \"'kimmy\": 28646, \"schmidt'\": 28647, 'tituss': 28648, 'burgess': 28649, \"'peeno\": 28650, \"noir'\": 28651, 'loaves': 28652, 'berating': 28653, 'unpredictable': 28654, \"'education'\": 28655, 'pivot': 28656, 'dalai': 28657, 'lama': 28658, 'earrings': 28659, 'tiles': 28660, 'spellbinding': 28661, 'aloof': 28662, 'indifference': 28663, 'merle': 28664, \"'homosexualist'\": 28665, \"'animals\": 28666, \"'implicit\": 28667, \"bias'\": 28668, 'deporters': 28669, 'composite': 28670, 'amazonian': 28671, 'bulldozer': 28672, 'treads': 28673, 'muffins': 28674, \"'prayer\": 28675, \"patrols'\": 28676, 'roaming': 28677, 'mag': 28678, 'hogsmeade': 28679, 'dolly': 28680, 'parton': 28681, 'eiffel': 28682, \"'civic\": 28683, \"eagle'\": 28684, 'fabio': 28685, 'viviani': 28686, 'titanium': 28687, 'nickel': 28688, 'picket': 28689, \"pittsburgh's\": 28690, 'diets': 28691, 'unisex': 28692, 'tingle': 28693, 'webdesign': 28694, 'masses': 28695, 'beautifies': 28696, '64': 28697, 'samira': 28698, \"wiley's\": 28699, 'panhandlers': 28700, \"albuquerque's\": 28701, 'basel': 28702, 'slashing': 28703, 'xylophonist': 28704, 'roddick': 28705, 'golin': 28706, \"usc's\": 28707, 'firebrand': 28708, 'goddamned': 28709, 'fenced': 28710, 'enclosure': 28711, 'farallon': 28712, 'usfws': 28713, \"conservation's\": 28714, 'dredged': 28715, 'memorandum': 28716, 'winchester': 28717, '9mm': 28718, 'guaranteed': 28719, \"pragmatist's\": 28720, \"'prelude\": 28721, \"internment'\": 28722, 'connick': 28723, 'hm': 28724, 'cinco': 28725, 'analyzing': 28726, 'obscenity': 28727, 'koreas': 28728, 'khizr': 28729, \"'moral\": 28730, \"compass'\": 28731, 'prohibit': 28732, 'vacationer': 28733, 'lotions': 28734, \"'debasement\": 28735, \"hills'\": 28736, 'westeros': 28737, 'cascade': 28738, 'balsamic': 28739, 'coupled': 28740, 'closings': 28741, 'economically': 28742, 'implications': 28743, 'dishware': 28744, 'reimpose': 28745, 'gabor': 28746, 'pantomimed': 28747, 'lasso': 28748, \"chemical's\": 28749, 'liveris': 28750, 'sparkle': 28751, 'bayh': 28752, 'lengths': 28753, \"'usa\": 28754, 'murrieta': 28755, 'morrie': 28756, 'renee': 28757, 'silverstein': 28758, 'coy': 28759, \"'dexter'\": 28760, \"'huge\": 28761, \"holes'\": 28762, 'denounced': 28763, 'attachment': 28764, 'indication': 28765, 'ideals': 28766, 'blogs': 28767, \"'cha\": 28768, \"cha'\": 28769, 'upload': 28770, \"hugo's\": 28771, 'les': 28772, 'lunchables': 28773, 'breastfed': 28774, 'assurance': 28775, 'persecution': 28776, 'entomology': 28777, 'edict': 28778, \"phoenix'\": 28779, 'skirts': 28780, 'scrappy': 28781, 'southeastern': 28782, \"'wake\": 28783, 'lamont': 28784, 'consecrated': 28785, 'masterclass': 28786, 'monitored': 28787, 'briskly': 28788, 'broward': 28789, 'dvds': 28790, 'tomm': 28791, 'lasorda': 28792, 'lineman': 28793, 'therapies': 28794, \"'ambushed'\": 28795, 'massed': 28796, \"'don\": 28797, 'electrical': 28798, \"'counterproductive'\": 28799, \"codfather'\": 28800, 'undernutrition': 28801, 'exploration': 28802, 'bashed': 28803, 'kinks': 28804, 'fern': 28805, 'intelligently': 28806, 'ancestry': 28807, 'juggernaut': 28808, 'profitable': 28809, 'immolation': 28810, 'transactions': 28811, 'grasps': 28812, 'senselessness': 28813, 'circumcision': 28814, 'nuggets': 28815, 'commonwealth': 28816, \"'guard'\": 28817, \"'protecting'\": 28818, 'feasible': 28819, 'philosopher': 28820, 'sustainably': 28821, \"'leaking\": 28822, 'sensational': 28823, 'subpoenas': 28824, 'prints': 28825, 'dreary': 28826, 'passionless': 28827, 'habitats': 28828, 'vw': 28829, 'mics': 28830, 'profiteers': 28831, \"union's\": 28832, 'federation': 28833, 'ibm': 28834, 'conveys': 28835, 'easygoing': 28836, \"mingle'\": 28837, 'equestrian': 28838, 'instinctively': 28839, 'logitech': 28840, 'typists': 28841, 'beefy': 28842, \"boggs'\": 28843, 'broderick': 28844, 'wonderfully': 28845, \"'curious'\": 28846, 'shards': 28847, 'admin': 28848, 'bankroll': 28849, 'reformed': 28850, 'naturalized': 28851, 'nibble': 28852, 'putters': 28853, 'pondering': 28854, \"religion's\": 28855, 'sled': 28856, 'polyamorous': 28857, 'triad': 28858, 'gervais': 28859, 'examples': 28860, 'cftc': 28861, \"bloom'\": 28862, 'migrating': 28863, 'waxwork': 28864, \"chain's\": 28865, 'chipmunks': 28866, 'protracted': 28867, 'neckhole': 28868, 'ritz': 28869, \"ii's'\": 28870, 'ousted': 28871, \"'brazen\": 28872, 'diagnosing': 28873, \"seoul's\": 28874, 'incheon': 28875, 'unencumbered': 28876, \"consumer's\": 28877, 'perk': 28878, \"'twilight'\": 28879, 'mytron': 28880, 'illuminati': 28881, 'overlord': 28882, '112': 28883, 'considerable': 28884, 'derulo': 28885, \"'racial\": 28886, \"discrimination'\": 28887, 'trumpets': 28888, 'airliners': 28889, 'waterboarded': 28890, \"bisexual's\": 28891, 'haired': 28892, 'busing': 28893, \"dribble'\": 28894, 'iroquois': 28895, 'inſurgency': 28896, \"gov't\": 28897, 'garry': 28898, \"kasparov's\": 28899, 'loops': 28900, 'spookiest': 28901, 'gothamist': 28902, 'dnainfo': 28903, 'gals': 28904, 'bavarian': 28905, 'vogt': 28906, 'rinkins': 28907, 'cameos': 28908, \"'uniquely\": 28909, \"unsuited'\": 28910, 'austen': 28911, \"'faces\": 28912, 'ob': 28913, 'gyn': 28914, \"kirk's\": 28915, \"trekkie's\": 28916, 'deodorant': 28917, 'browsing': 28918, 'trusts': 28919, 'peek': 28920, 'koechner': 28921, \"'shocked'\": 28922, 'biodegradable': 28923, 'parentheses': 28924, 'mouths': 28925, \"'cherish\": 28926, 'appreciate': 28927, \"undersold'\": 28928, 'unappealing': 28929, 'portrayed': 28930, 'earmark': 28931, 'mediation': 28932, 'dixieland': 28933, 'evicted': 28934, 'sooo': 28935, 'numeric': 28936, 'integers': 28937, '2022': 28938, 'slumped': 28939, 'cane': 28940, 'audiotapes': 28941, 'conclusively': 28942, 'jyothi': 28943, 'rao': 28944, 'threads': 28945, 'boggling': 28946, 'overshoots': 28947, 'raps': 28948, \"'wicked'\": 28949, 'studied': 28950, \"valley's\": 28951, 'coffman': 28952, 'tancredo': 28953, \"'bored'\": 28954, 'jude': 28955, 'maven': 28956, 'backgrounds': 28957, 'flinched': 28958, 'errant': 28959, 'keystroke': 28960, 'ctrl': 28961, \"amc's\": 28962, \"licenses'\": 28963, 'cowards': 28964, 'pseudonym': 28965, 'rockefeller': 28966, \"mechanic's\": 28967, \"guns'\": 28968, 'prohibits': 28969, 'kaleidoscoping': 28970, 'uneven': 28971, 'shopkeeper': 28972, \"max'\": 28973, 'mobiles': 28974, 'talc': 28975, \"'matt\": 28976, 'faris': 28977, '161': 28978, \"armed'\": 28979, 'drugmakers': 28980, 'neurologists': 28981, 'marley': 28982, 'unshakeable': 28983, 'fax': 28984, \"might've\": 28985, '560': 28986, 'scamming': 28987, 'enchiladas': 28988, 'decoding': 28989, \"chang's\": 28990, 'dissenting': 28991, 'snapped': 28992, 'mortgaging': 28993, 'dispenses': 28994, 'kashkari': 28995, '347': 28996, 'feathers': 28997, \"quit'\": 28998, 'ribbons': 28999, 'equivalent': 29000, 'tangled': 29001, \"damn'\": 29002, 'precarious': 29003, 'intellectuals': 29004, 'predatory': 29005, 'itt': 29006, 'midgets': 29007, \"'certainly\": 29008, \"support'\": 29009, 'siren': 29010, \"'gta\": 29011, 'angelique': 29012, 'kerber': 29013, 'dumptruck': 29014, \"'trash\": 29015, \"talking'\": 29016, \"researcher's\": 29017, 'hypothesis': 29018, 'foreheads': 29019, 'ocelot': 29020, 'cheadle': 29021, 'vax': 29022, 'header': 29023, 'candies': 29024, 'longhorn': 29025, 'beetles': 29026, 'peso': 29027, 'basis': 29028, \"couples'\": 29029, \"andreessen's\": 29030, \"'colonialism'\": 29031, 'gyno': 29032, 'transaction': 29033, 'exaggerated': 29034, 'birthing': 29035, 'gambia': 29036, 'boulud': 29037, 'alum': 29038, 'stating': 29039, 'manned': 29040, 'koran': 29041, 'visceral': 29042, 'suspicion': 29043, 'untrustworthy': 29044, 'wasters': 29045, \"troublemakers'\": 29046, 'gregorios': 29047, 'yohanna': 29048, 'ibrahim': 29049, 'boulos': 29050, 'yazigi': 29051, 'cryptographers': 29052, \"'frpx\": 29053, 'k5je': 29054, 'oc4n': 29055, \"e5dn'\": 29056, 'uploading': 29057, 'repairmen': 29058, 'nearing': 29059, 'squid': 29060, 'cebu': 29061, 'simulation': 29062, \"stealin'\": 29063, \"livelihood'\": 29064, \"'heroes'\": 29065, 'intrigue': 29066, 'frustrate': 29067, 'menforchoice': 29068, \"wisconsin's\": 29069, \"horner's\": 29070, 'shale': 29071, 'geopolitics': 29072, 'relinquish': 29073, \"crenna's\": 29074, 'recommending': 29075, 'droops': 29076, 'engaging': 29077, 'preheated': 29078, 'tumble': 29079, 'uncontrollably': 29080, 'snoopy': 29081, \"'rape\": 29082, \"s'\": 29083, \"'boring\": 29084, \"pence'\": 29085, 'storkholders': 29086, 'junger': 29087, 'korengal': 29088, \"'insider'\": 29089, 'galleries': 29090, \"'outsider'\": 29091, 'skee': 29092, 'roxane': 29093, 'divol': 29094, 'svp': 29095, 'symantec': 29096, \"'freeze'\": 29097, 'challengers': 29098, 'purported': 29099, 'clutching': 29100, \"'wonder'\": 29101, 'tenacious': 29102, 'learner': 29103, 'norah': 29104, 'rumpled': 29105, 'polos': 29106, 'cgi': 29107, 'flick': 29108, \"'watcher\": 29109, \"'crazy'\": 29110, 'haddad': 29111, \"trash'\": 29112, \"'loud\": 29113, \"approval'\": 29114, \"rouge's\": 29115, \"'vitamin\": 29116, \"spirit'\": 29117, 'christen': 29118, 'galaxies': 29119, \"'patriots\": 29120, \"'cribs'\": 29121, '43rd': 29122, \"'excessive\": 29123, 'corrosion': 29124, \"'heed\": 29125, 'mitsubishi': 29126, 'postcard': 29127, 'meenakshi': 29128, 'amman': 29129, 'foggy': 29130, \"'chinaperson'\": 29131, 'cemented': 29132, \"shining'\": 29133, 'chickening': 29134, \"cranston's\": 29135, 'morph': 29136, 'twinge': 29137, \"cait'\": 29138, \"representative's\": 29139, 'ranted': 29140, 'stabbings': 29141, \"'clingy'\": 29142, 'gamechanger': 29143, 'kailash': 29144, 'satyarthi': 29145, 'willard': 29146, 'trumped': 29147, 'overpaying': 29148, 'filler': 29149, 'walkouts': 29150, '110': 29151, 'nimoy': 29152, \"'misunderstood\": 29153, 'ballsy': 29154, 'dumbfounding': 29155, 'indecision': 29156, 'mariani': 29157, 'narcan': 29158, 'biplanes': 29159, 'fumigate': 29160, \"bolton's\": 29161, 'militancy': 29162, 'psychiatry': 29163, 'butler': 29164, 'transmutes': 29165, 'ballmer': 29166, 'permafrost': 29167, 'strive': 29168, 'kidman': 29169, 'discredited': 29170, 'judi': 29171, 'dench': 29172, 'liberace': 29173, 'gi': 29174, 'himmler': 29175, 'producing': 29176, \"megadeth's\": 29177, \"'rust\": 29178, 'jenga': 29179, 'ceres': 29180, 'contra': 29181, \"liv's\": 29182, 'rohit': 29183, 'varma': 29184, \"'looking'\": 29185, 'ms804': 29186, 'shawn': 29187, 'mendes': 29188, 'blacker': 29189, 'mayfield': 29190, 'citrix': 29191, 'hardwork': 29192, 'inhale': 29193, \"brazile's\": 29194, \"'disgusting'\": 29195, \"'from\": 29196, \"'dwts'\": 29197, \"voice's\": 29198, 'unfettered': 29199, 'whoring': 29200, 'alana': 29201, \"'naked\": 29202, \"shower'\": 29203, 'geckos': 29204, 'enema': 29205, 'underpaved': 29206, \"'era\": 29207, \"argument'\": 29208, 'blimp': 29209, \"'ahs\": 29210, 'snub': 29211, 'riyadh': 29212, 'admirals': 29213, 'weasley': 29214, \"birthday'\": 29215, 'meekly': 29216, 'pressurization': 29217, 'bedside': 29218, 'wmd': 29219, \"educator's\": 29220, \"'cesarean\": 29221, \"section'\": 29222, \"'aha\": 29223, \"camps'\": 29224, 'exhaustion': 29225, \"bachmann's\": 29226, 'bugaboo': 29227, \"stroller's\": 29228, \"'unrealistic'\": 29229, 'apparel': 29230, 'dru': 29231, 'malta': 29232, 'sometime': 29233, 'gurley': 29234, 'obituaries': 29235, 'sridevi': 29236, 'darla': 29237, 'chunking': 29238, \"tubman's\": 29239, '1970': 29240, 'cosmo': 29241, \"'things\": 29242, \"like'\": 29243, \"'once\": 29244, 'priesthood': 29245, 'combines': 29246, \"'mockingjay'\": 29247, 'vasectomies': 29248, \"'imperfect'\": 29249, 'scholar': 29250, 'sobered': 29251, 'viciously': 29252, 'ayn': 29253, 'sunbathing': 29254, 'wavering': 29255, 'weirdly': 29256, \"purge'\": 29257, 'deshawnda': 29258, 'orban': 29259, 'reza': 29260, \"aslan's\": 29261, \"'tone'\": 29262, \"'fearful'\": 29263, 'wander': 29264, \"mccool's\": 29265, 'araa': 29266, 'kayboard': 29267, 'bustad': 29268, 'derrick': 29269, \"bored'\": 29270, 'expertly': 29271, 'carves': 29272, 'sights': 29273, \"burgers'\": 29274, 'gan': 29275, 'seductive': 29276, 'enda': 29277, 'gopers': 29278, 'defaced': 29279, \"'homophobic'\": 29280, 'flusher': 29281, 'undesignated': 29282, 'thrust': 29283, 'maelstrom': 29284, 'virtually': 29285, 'favreau': 29286, 'coptic': 29287, 'diocese': 29288, 'laypeople': 29289, 'facinelli': 29290, 'jaimie': 29291, 'demons': 29292, \"stein's\": 29293, 'straying': 29294, 'puff': 29295, 'minis': 29296, 'significantly': 29297, \"po'\": 29298, 'sunni': 29299, 'capped': 29300, \"chickadee's\": 29301, 'dues': 29302, \"center's\": 29303, 'hertz': 29304, 'porcupine': 29305, 'handwrite': 29306, 'flotus': 29307, 'norad': 29308, 'femstat': 29309, 'cockatiel': 29310, \"'surfer\": 29311, \"angel'\": 29312, 'batgirl': 29313, '2028': 29314, \"lee's\": 29315, \"watchman'\": 29316, 'boilermakers': 29317, \"purdue's\": 29318, \"janitor's\": 29319, 'heals': 29320, 'biology': 29321, 'grossed': 29322, 'dissect': 29323, 'bengal': 29324, \"tigers'\": 29325, 'jaipur': 29326, 'zappos': 29327, 'navigates': 29328, \"online'\": 29329, '604': 29330, 'mumbles': 29331, 'presenter': 29332, \"tatum's\": 29333, \"'punch'\": 29334, 'ney': 29335, 'anybody': 29336, 'inversions': 29337, 'reaper': 29338, 'equinox': 29339, 'fundamentals': 29340, \"'children's\": 29341, 'shotguns': 29342, 'como': 29343, 'flor': 29344, 'fare': 29345, 'jokingly': 29346, 'noteworthy': 29347, 'cartooning': 29348, 'braille': 29349, 'palmolive': 29350, 'blotting': 29351, 'olin': 29352, 'reserving': 29353, 'yowling': 29354, 'kiwi': 29355, 'astronauts': 29356, \"badger'\": 29357, \"'nightmare'\": 29358, 'winfrey': 29359, \"'o\": 29360, 'kerfuffle': 29361, 'imitate': 29362, 'sgt': 29363, 'recaptured': 29364, 'comptroller': 29365, \"comptroller'\": 29366, \"'alleged'\": 29367, 'slides': 29368, \"'orcs\": 29369, \"'hony'\": 29370, 'sauron': 29371, 'adore': 29372, 'davanzo': 29373, 'inappropriations': 29374, 'sexier': 29375, 'vil': 29376, 'snag': 29377, 'drugstore': 29378, 'comedies': 29379, 'cyndi': 29380, 'lauper': 29381, \"'bum'\": 29382, 'geffen': 29383, 'playhouse': 29384, 'goper': 29385, 'deen': 29386, '77th': 29387, 'warmly': 29388, 'sturgeon': 29389, \"warrior'\": 29390, 'peacekeepers': 29391, 'bosnia': 29392, 'intersectional': 29393, 'gifting': 29394, 'proficient': 29395, 'owing': 29396, 'rahman': 29397, 'supermodels': 29398, 'protectionism': 29399, 'oppressing': 29400, 'widowed': 29401, 'tic': 29402, 'tac': 29403, 'dozes': 29404, 'bacchanalia': 29405, 'decaf': 29406, \"'hut\": 29407, \"swag'\": 29408, 'disclosures': 29409, 'bubba': 29410, 'gump': 29411, 'collaborate': 29412, 'encore': 29413, 'popeye': 29414, \"'dese\": 29415, 'bombinks': 29416, 'disgustipating': 29417, \"jinx'\": 29418, 'milkshake': 29419, 'snowboarders': 29420, 'phat': 29421, 'jncos': 29422, 'boudoir': 29423, 'hazy': 29424, \"epa's\": 29425, 'feasibility': 29426, 'calculate': 29427, 'perfection': 29428, 'suppliers': 29429, 'yothers': 29430, 'yearly': 29431, 'badges': 29432, 'animosity': 29433, 'lifeblood': 29434, 'colt': 29435, 'moviepass': 29436, 'dime': 29437, \"staffer's\": 29438, 'eternally': 29439, 'oft': 29440, 'snorkeling': 29441, \"more'\": 29442, \"'wheel\": 29443, 'vowel': 29444, 'skyrocket': 29445, 'gushes': 29446, \"'voice'\": 29447, \"'gimme\": 29448, 'introvert': 29449, 'militant': 29450, 'mazing': 29451, 'soulless': 29452, 'paddles': 29453, 'stooped': 29454, 'urgency': 29455, \"endorsement'\": 29456, 'menudo': 29457, 'mullets': 29458, 'administrations': 29459, 'unnecessarily': 29460, \"cute'\": 29461, '8x10': 29462, 'danza': 29463, \"portrait'\": 29464, 'afterbirthers': 29465, \"atwood's\": 29466, 'obedient': 29467, 'whipped': 29468, 'housekeeping': 29469, 'malleable': 29470, 'simpletons': 29471, 'fluttering': 29472, 'shuttlecocks': 29473, 'crawlspaces': 29474, 'slut': 29475, 'ayurveda': 29476, 'intrigues': 29477, 'quash': 29478, 'unlawful': 29479, 'naral': 29480, \"kaine's\": 29481, 'lameness': 29482, \"'compete'\": 29483, 'reconsiders': 29484, 'enoch': 29485, \"latinos'\": 29486, \"'coco'\": 29487, 'acne': 29488, 'dizziness': 29489, 'nausea': 29490, 'clotting': 29491, '550': 29492, \"5's\": 29493, 'tumbles': 29494, 'staircase': 29495, 'faucets': 29496, 'transplanting': 29497, 'matterhorn': 29498, \"responsible'\": 29499, 'glistening': 29500, 'commentator': 29501, \"same'\": 29502, 'skiers': 29503, 'marriott': 29504, 'puffer': 29505, 'mailing': 29506, 'crosby': 29507, 'dwarven': 29508, 'blacksmith': 29509, 'digitally': 29510, 'remastered': 29511, 'mealy': 29512, 'sanford': 29513, \"laws'\": 29514, 'breakers': 29515, 'rumspringa': 29516, 'billie': 29517, 'lourd': 29518, \"gender'\": 29519, 'powering': 29520, 'scorchlands': 29521, 'outposts': 29522, '2085': 29523, 'humpbacked': 29524, 'flannel': 29525, 'flicking': 29526, 'disproving': 29527, \"'pee\": 29528, 'sanitation': 29529, 'transplants': 29530, 'erlich': 29531, 'weathering': 29532, 'rollback': 29533, 'foreigners': 29534, 'bookcase': 29535, \"'proud'\": 29536, 'calculators': 29537, 'sesame': 29538, 'referencing': 29539, 'pantene': 29540, \"'demand'\": 29541, 'renominates': 29542, \"'extreme'\": 29543, \"'ungodly'\": 29544, \"ronaldo's\": 29545, 'antihero': 29546, \"central's\": 29547, \"'review'\": 29548, 'homestyle': 29549, \"'sexual\": 29550, \"paranoia'\": 29551, 'northwestern': 29552, 'nuisance': 29553, 'nuance': 29554, 'dumbing': 29555, 'backfire': 29556, 'funkier': 29557, 'howdy': 29558, 'pauly': 29559, 'protested': 29560, 'ohh': 29561, 'swamp': 29562, 'semi': 29563, 'raytheon': 29564, 'aerocar': 29565, 'clogs': 29566, 'troposphere': 29567, 'geodes': 29568, 'janis': 29569, 'cobblestone': 29570, \"'imminent\": 29571, 'coo': 29572, 'herbie': 29573, 'gondola': 29574, 'whitening': 29575, \"'pizzagate'\": 29576, \"innocuous'\": 29577, 'malt': 29578, 'homies': 29579, 'kiev': 29580, 'dasha': 29581, \"sheeran's\": 29582, \"'thinking\": 29583, 'foolishness': 29584, 'feek': 29585, \"'arnold\": 29586, 'swagger': 29587, 'risotto': 29588, 'impeccable': 29589, 'carpe': 29590, 'diem': 29591, \"color'\": 29592, \"'strong'\": 29593, 'mangy': 29594, 'intricacies': 29595, 'fumbles': 29596, 'museveni': 29597, 'crawleys': 29598, 'downton': 29599, 'abbey': 29600, 'jokester': 29601, 'cypriots': 29602, 'monastery': 29603, 'kitchens': 29604, 'hachette': 29605, 'zambia': 29606, 'vegetarians': 29607, \"'force\": 29608, 'binks': 29609, 'caduceus': 29610, \"picture'\": 29611, 'bores': 29612, 'patting': 29613, 'nia': 29614, 'bronco': 29615, 'outliving': 29616, 'thirteenth': 29617, 'demolish': 29618, 'boyhood': 29619, 'outfox': 29620, 'columbia': 29621, 'childish': 29622, 'gambino': 29623, \"'candler\": 29624, 'erin': 29625, 'burnett': 29626, \"reinforcin'\": 29627, \"stereotypes'\": 29628, 'crisper': 29629, 'panhandler': 29630, 'alejandro': 29631, 'nieto': 29632, \"caldwell's\": 29633, 'eel': 29634, 'contributed': 29635, 'manny': 29636, \"'social\": 29637, 'underlined': 29638, 'shithead': 29639, 'opcw': 29640, 'uninvestigated': 29641, 'retreating': 29642, 'massacred': 29643, \"danes'\": 29644, \"readin'\": 29645, \"researchin'\": 29646, \"writin'\": 29647, \"'easy\": 29648, 'drywall': 29649, 'blowhole': 29650, \"zimbabwe's\": 29651, 'gonzalez': 29652, 'breached': 29653, \"'basic'\": 29654, 'hikes': 29655, 'gourmet': 29656, 'foodie': 29657}\n[  308 15115   679  3337  2298    48   382  2576 15116     6  2577  8434\n     0     0     0     0     0     0     0     0     0     0     0     0\n     0     0     0     0     0     0     0     0     0     0     0     0\n     0     0     0     0]\n(26709, 40)\n"
     ]
    }
   ],
   "source": [
    "import json\n",
    "\n",
    "with open(\"sarcasm.json\", 'r') as f:\n",
    "    datastore = json.load(f)\n",
    "\n",
    "sentences = [] \n",
    "labels = []\n",
    "urls = []\n",
    "for item in datastore:\n",
    "    sentences.append(item['headline'])\n",
    "    labels.append(item['is_sarcastic'])\n",
    "    urls.append(item['article_link'])\n",
    "\n",
    "tokenizer = Tokenizer(oov_token=\"<OOV>\")\n",
    "tokenizer.fit_on_texts(sentences)\n",
    "\n",
    "word_index = tokenizer.word_index\n",
    "print(len(word_index))\n",
    "print(word_index)\n",
    "\n",
    "sequences = tokenizer.texts_to_sequences(sentences)\n",
    "padded = pad_sequences(sequences, padding='post')\n",
    "print(padded[0])\n",
    "print(padded.shape)"
   ]
  },
  {
   "cell_type": "code",
   "execution_count": null,
   "metadata": {},
   "outputs": [],
   "source": []
  }
 ]
}