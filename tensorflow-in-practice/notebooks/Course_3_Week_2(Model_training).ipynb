{
 "metadata": {
  "language_info": {
   "codemirror_mode": {
    "name": "ipython",
    "version": 3
   },
   "file_extension": ".py",
   "mimetype": "text/x-python",
   "name": "python",
   "nbconvert_exporter": "python",
   "pygments_lexer": "ipython3",
   "version": "3.8.6"
  },
  "orig_nbformat": 2,
  "kernelspec": {
   "name": "python386jvsc74a57bd04ea0e157563bacde0b7fd8dc93db6051c9678d5eadbd4117abf1a4cecbc8cd1a",
   "display_name": "Python 3.8.6 64-bit ('tf': conda)"
  },
  "metadata": {
   "interpreter": {
    "hash": "4ea0e157563bacde0b7fd8dc93db6051c9678d5eadbd4117abf1a4cecbc8cd1a"
   }
  }
 },
 "nbformat": 4,
 "nbformat_minor": 2,
 "cells": [
  {
   "cell_type": "code",
   "execution_count": 80,
   "metadata": {},
   "outputs": [
    {
     "output_type": "stream",
     "name": "stdout",
     "text": [
      "2.4.0-rc0\n"
     ]
    }
   ],
   "source": [
    "import tensorflow as tf \n",
    "import tensorflow_datasets as tfds\n",
    "from tensorflow.keras.preprocessing.text import Tokenizer\n",
    "from tensorflow.keras.preprocessing.sequence import pad_sequences\n",
    "import numpy as np \n",
    "import io\n",
    "\n",
    "print(tf.__version__)"
   ]
  },
  {
   "cell_type": "code",
   "execution_count": 2,
   "metadata": {},
   "outputs": [
    {
     "output_type": "execute_result",
     "data": {
      "text/plain": [
       "True"
      ]
     },
     "metadata": {},
     "execution_count": 2
    }
   ],
   "source": [
    "tf.executing_eagerly() # if 1.x use `tf.enable_eager_execution()`"
   ]
  },
  {
   "cell_type": "code",
   "execution_count": 4,
   "metadata": {
    "tags": [
     "outputPrepend"
    ]
   },
   "outputs": [
    {
     "output_type": "stream",
     "name": "stdout",
     "text": [
      ":02, 4887.34 examples/s]\u001b[A\n",
      "Generating train examples...:  46%|████▋     | 11601/25000 [00:03<00:02, 4794.36 examples/s]\u001b[A\n",
      "Generating train examples...:  48%|████▊     | 12090/25000 [00:03<00:02, 4820.13 examples/s]\u001b[A\n",
      "Generating train examples...:  50%|█████     | 12573/25000 [00:03<00:02, 4794.66 examples/s]\u001b[A\n",
      "Generating train examples...:  52%|█████▏    | 13055/25000 [00:04<00:02, 4801.49 examples/s]\u001b[A\n",
      "Generating train examples...:  54%|█████▍    | 13542/25000 [00:04<00:02, 4820.70 examples/s]\u001b[A\n",
      "Generating train examples...:  56%|█████▌    | 14030/25000 [00:04<00:02, 4838.28 examples/s]\u001b[A\n",
      "Generating train examples...:  58%|█████▊    | 14516/25000 [00:04<00:02, 4843.29 examples/s]\u001b[A\n",
      "Generating train examples...:  60%|██████    | 15003/25000 [00:04<00:02, 4849.30 examples/s]\u001b[A\n",
      "Generating train examples...:  62%|██████▏   | 15490/25000 [00:04<00:01, 4855.05 examples/s]\u001b[A\n",
      "Generating train examples...:  64%|██████▍   | 15978/25000 [00:04<00:01, 4862.11 examples/s]\u001b[A\n",
      "Generating train examples...:  66%|██████▌   | 16468/25000 [00:04<00:01, 4872.91 examples/s]\u001b[A\n",
      "Generating train examples...:  68%|██████▊   | 16956/25000 [00:04<00:01, 4868.85 examples/s]\u001b[A\n",
      "Generating train examples...:  70%|██████▉   | 17446/25000 [00:04<00:01, 4875.53 examples/s]\u001b[A\n",
      "Generating train examples...:  72%|███████▏  | 17934/25000 [00:05<00:01, 4869.92 examples/s]\u001b[A\n",
      "Generating train examples...:  74%|███████▎  | 18424/25000 [00:05<00:01, 4876.27 examples/s]\u001b[A\n",
      "Generating train examples...:  76%|███████▌  | 18912/25000 [00:05<00:01, 4873.96 examples/s]\u001b[A\n",
      "Generating train examples...:  78%|███████▊  | 19400/25000 [00:05<00:01, 4869.57 examples/s]\u001b[A\n",
      "Generating train examples...:  80%|███████▉  | 19890/25000 [00:05<00:01, 4877.58 examples/s]\u001b[A\n",
      "Generating train examples...:  82%|████████▏ | 20378/25000 [00:05<00:00, 4873.88 examples/s]\u001b[A\n",
      "Generating train examples...:  83%|████████▎ | 20866/25000 [00:05<00:00, 4868.91 examples/s]\u001b[A\n",
      "Generating train examples...:  85%|████████▌ | 21353/25000 [00:05<00:00, 4864.89 examples/s]\u001b[A\n",
      "Generating train examples...:  87%|████████▋ | 21840/25000 [00:05<00:00, 4859.71 examples/s]\u001b[A\n",
      "Generating train examples...:  89%|████████▉ | 22328/25000 [00:05<00:00, 4864.93 examples/s]\u001b[A\n",
      "Generating train examples...:  91%|█████████▏| 22820/25000 [00:06<00:00, 4880.07 examples/s]\u001b[A\n",
      "Generating train examples...:  93%|█████████▎| 23313/25000 [00:06<00:00, 4894.36 examples/s]\u001b[A\n",
      "Generating train examples...:  95%|█████████▌| 23803/25000 [00:06<00:00, 4875.81 examples/s]\u001b[A\n",
      "Generating train examples...:  97%|█████████▋| 24291/25000 [00:06<00:00, 4875.28 examples/s]\u001b[A\n",
      "Generating train examples...:  99%|█████████▉| 24779/25000 [00:06<00:00, 4846.58 examples/s]\u001b[A\n",
      "                                                                                            \u001b[A\n",
      "Shuffling imdb_reviews-train.tfrecord...:   0%|          | 0/25000 [00:00<?, ? examples/s]\u001b[A\n",
      "Shuffling imdb_reviews-train.tfrecord...: 100%|█████████▉| 24908/25000 [00:00<00:00, 249070.14 examples/s]\u001b[A\n",
      "Generating splits...:  33%|███▎      | 1/3 [00:08<00:16,  8.30s/ splits]\n",
      "Generating test examples...:   0%|          | 0/25000 [00:00<?, ? examples/s]\u001b[A\n",
      "Generating test examples...:   0%|          | 1/25000 [00:00<2:22:45,  2.92 examples/s]\u001b[A\n",
      "Generating test examples...:   2%|▏         | 486/25000 [00:00<00:17, 1429.10 examples/s]\u001b[A\n",
      "Generating test examples...:   4%|▍         | 970/25000 [00:00<00:09, 2437.73 examples/s]\u001b[A\n",
      "Generating test examples...:   6%|▌         | 1457/25000 [00:00<00:07, 3158.63 examples/s]\u001b[A\n",
      "Generating test examples...:   8%|▊         | 1948/25000 [00:00<00:06, 3679.10 examples/s]\u001b[A\n",
      "Generating test examples...:  10%|▉         | 2437/25000 [00:00<00:05, 4038.31 examples/s]\u001b[A\n",
      "Generating test examples...:  12%|█▏        | 2897/25000 [00:00<00:05, 4176.18 examples/s]\u001b[A\n",
      "Generating test examples...:  14%|█▎        | 3384/25000 [00:01<00:04, 4382.14 examples/s]\u001b[A\n",
      "Generating test examples...:  15%|█▌        | 3871/25000 [00:01<00:04, 4526.04 examples/s]\u001b[A\n",
      "Generating test examples...:  17%|█▋        | 4361/25000 [00:01<00:04, 4637.08 examples/s]\u001b[A\n",
      "Generating test examples...:  19%|█▉        | 4850/25000 [00:01<00:04, 4710.64 examples/s]\u001b[A\n",
      "Generating test examples...:  21%|██▏       | 5338/25000 [00:01<00:04, 4759.68 examples/s]\u001b[A\n",
      "Generating test examples...:  23%|██▎       | 5826/25000 [00:01<00:03, 4795.28 examples/s]\u001b[A\n",
      "Generating test examples...:  25%|██▌       | 6315/25000 [00:01<00:03, 4821.51 examples/s]\u001b[A\n",
      "Generating test examples...:  27%|██▋       | 6807/25000 [00:01<00:03, 4850.73 examples/s]\u001b[A\n",
      "Generating test examples...:  29%|██▉       | 7296/25000 [00:01<00:03, 4862.44 examples/s]\u001b[A\n",
      "Generating test examples...:  31%|███       | 7784/25000 [00:01<00:03, 4834.49 examples/s]\u001b[A\n",
      "Generating test examples...:  33%|███▎      | 8269/25000 [00:02<00:03, 4828.94 examples/s]\u001b[A\n",
      "Generating test examples...:  35%|███▌      | 8755/25000 [00:02<00:03, 4836.24 examples/s]\u001b[A\n",
      "Generating test examples...:  37%|███▋      | 9244/25000 [00:02<00:03, 4850.30 examples/s]\u001b[A\n",
      "Generating test examples...:  39%|███▉      | 9734/25000 [00:02<00:03, 4862.56 examples/s]\u001b[A\n",
      "Generating test examples...:  41%|████      | 10222/25000 [00:02<00:03, 4867.11 examples/s]\u001b[A\n",
      "Generating test examples...:  43%|████▎     | 10710/25000 [00:02<00:02, 4868.52 examples/s]\u001b[A\n",
      "Generating test examples...:  45%|████▍     | 11198/25000 [00:02<00:02, 4811.65 examples/s]\u001b[A\n",
      "Generating test examples...:  47%|████▋     | 11689/25000 [00:02<00:02, 4839.77 examples/s]\u001b[A\n",
      "Generating test examples...:  49%|████▊     | 12182/25000 [00:02<00:02, 4865.03 examples/s]\u001b[A\n",
      "Generating test examples...:  51%|█████     | 12669/25000 [00:02<00:02, 4862.32 examples/s]\u001b[A\n",
      "Generating test examples...:  53%|█████▎    | 13156/25000 [00:03<00:02, 4814.76 examples/s]\u001b[A\n",
      "Generating test examples...:  55%|█████▍    | 13648/25000 [00:03<00:02, 4843.63 examples/s]\u001b[A\n",
      "Generating test examples...:  57%|█████▋    | 14135/25000 [00:03<00:02, 4850.67 examples/s]\u001b[A\n",
      "Generating test examples...:  58%|█████▊    | 14623/25000 [00:03<00:02, 4859.39 examples/s]\u001b[A\n",
      "Generating test examples...:  60%|██████    | 15112/25000 [00:03<00:02, 4865.97 examples/s]\u001b[A\n",
      "Generating test examples...:  62%|██████▏   | 15603/25000 [00:03<00:01, 4877.19 examples/s]\u001b[A\n",
      "Generating test examples...:  64%|██████▍   | 16091/25000 [00:03<00:01, 4875.55 examples/s]\u001b[A\n",
      "Generating test examples...:  66%|██████▋   | 16579/25000 [00:03<00:01, 4870.95 examples/s]\u001b[A\n",
      "Generating test examples...:  68%|██████▊   | 17067/25000 [00:03<00:01, 4843.85 examples/s]\u001b[A\n",
      "Generating test examples...:  70%|███████   | 17553/25000 [00:03<00:01, 4847.15 examples/s]\u001b[A\n",
      "Generating test examples...:  72%|███████▏  | 18041/25000 [00:04<00:01, 4856.29 examples/s]\u001b[A\n",
      "Generating test examples...:  74%|███████▍  | 18529/25000 [00:04<00:01, 4861.68 examples/s]\u001b[A\n",
      "Generating test examples...:  76%|███████▌  | 19016/25000 [00:04<00:01, 4857.38 examples/s]\u001b[A\n",
      "Generating test examples...:  78%|███████▊  | 19505/25000 [00:04<00:01, 4866.84 examples/s]\u001b[A\n",
      "Generating test examples...:  80%|███████▉  | 19992/25000 [00:04<00:01, 4865.95 examples/s]\u001b[A\n",
      "Generating test examples...:  82%|████████▏ | 20480/25000 [00:04<00:00, 4869.87 examples/s]\u001b[A\n",
      "Generating test examples...:  84%|████████▍ | 20971/25000 [00:04<00:00, 4879.10 examples/s]\u001b[A\n",
      "Generating test examples...:  86%|████████▌ | 21459/25000 [00:04<00:00, 4010.54 examples/s]\u001b[A\n",
      "Generating test examples...:  88%|████████▊ | 21942/25000 [00:04<00:00, 4221.97 examples/s]\u001b[A\n",
      "Generating test examples...:  90%|████████▉ | 22427/25000 [00:05<00:00, 4389.63 examples/s]\u001b[A\n",
      "Generating test examples...:  92%|█████████▏| 22915/25000 [00:05<00:00, 4526.35 examples/s]\u001b[A\n",
      "Generating test examples...:  94%|█████████▎| 23400/25000 [00:05<00:00, 4617.57 examples/s]\u001b[A\n",
      "Generating test examples...:  96%|█████████▌| 23889/25000 [00:05<00:00, 4695.74 examples/s]\u001b[A\n",
      "Generating test examples...:  98%|█████████▊| 24376/25000 [00:05<00:00, 4745.94 examples/s]\u001b[A\n",
      "Generating test examples...:  99%|█████████▉| 24867/25000 [00:05<00:00, 4791.91 examples/s]\u001b[A\n",
      "                                                                                           \u001b[A\n",
      "Shuffling imdb_reviews-test.tfrecord...:   0%|          | 0/25000 [00:00<?, ? examples/s]\u001b[A\n",
      "Shuffling imdb_reviews-test.tfrecord...: 100%|██████████| 25000/25000 [00:00<00:00, 249696.03 examples/s]\u001b[A\n",
      "Generating splits...:  67%|██████▋   | 2/3 [00:16<00:08,  8.27s/ splits]\n",
      "Generating unsupervised examples...:   0%|          | 0/50000 [00:00<?, ? examples/s]\u001b[A\n",
      "Generating unsupervised examples...:   0%|          | 1/50000 [00:02<28:20:36,  2.04s/ examples]\u001b[A\n",
      "Generating unsupervised examples...:   0%|          | 156/50000 [00:02<08:13, 101.08 examples/s]\u001b[A\n",
      "Generating unsupervised examples...:   1%|▏         | 638/50000 [00:02<01:38, 501.52 examples/s]\u001b[A\n",
      "Generating unsupervised examples...:   2%|▏         | 1124/50000 [00:02<00:50, 972.72 examples/s]\u001b[A\n",
      "Generating unsupervised examples...:   3%|▎         | 1608/50000 [00:02<00:32, 1489.82 examples/s]\u001b[A\n",
      "Generating unsupervised examples...:   4%|▍         | 2093/50000 [00:02<00:23, 2028.41 examples/s]\u001b[A\n",
      "Generating unsupervised examples...:   5%|▌         | 2574/50000 [00:02<00:18, 2546.62 examples/s]\u001b[A\n",
      "Generating unsupervised examples...:   6%|▌         | 3059/50000 [00:02<00:15, 3030.84 examples/s]\u001b[A\n",
      "Generating unsupervised examples...:   7%|▋         | 3543/50000 [00:02<00:13, 3447.71 examples/s]\u001b[A\n",
      "Generating unsupervised examples...:   8%|▊         | 4027/50000 [00:02<00:12, 3791.57 examples/s]\u001b[A\n",
      "Generating unsupervised examples...:   9%|▉         | 4510/50000 [00:03<00:11, 4062.16 examples/s]\u001b[A\n",
      "Generating unsupervised examples...:  10%|▉         | 4992/50000 [00:03<00:10, 4266.54 examples/s]\u001b[A\n",
      "Generating unsupervised examples...:  11%|█         | 5477/50000 [00:03<00:10, 4429.07 examples/s]\u001b[A\n",
      "Generating unsupervised examples...:  12%|█▏        | 5960/50000 [00:03<00:09, 4541.29 examples/s]\u001b[A\n",
      "Generating unsupervised examples...:  13%|█▎        | 6445/50000 [00:03<00:09, 4628.87 examples/s]\u001b[A\n",
      "Generating unsupervised examples...:  14%|█▍        | 6930/50000 [00:03<00:09, 4692.60 examples/s]\u001b[A\n",
      "Generating unsupervised examples...:  15%|█▍        | 7413/50000 [00:03<00:09, 4687.41 examples/s]\u001b[A\n",
      "Generating unsupervised examples...:  16%|█▌        | 7896/50000 [00:03<00:08, 4728.55 examples/s]\u001b[A\n",
      "Generating unsupervised examples...:  17%|█▋        | 8384/50000 [00:03<00:08, 4772.02 examples/s]\u001b[A\n",
      "Generating unsupervised examples...:  18%|█▊        | 8867/50000 [00:03<00:08, 4788.46 examples/s]\u001b[A\n",
      "Generating unsupervised examples...:  19%|█▊        | 9350/50000 [00:04<00:08, 4770.48 examples/s]\u001b[A\n",
      "Generating unsupervised examples...:  20%|█▉        | 9833/50000 [00:04<00:08, 4785.51 examples/s]\u001b[A\n",
      "Generating unsupervised examples...:  21%|██        | 10317/50000 [00:04<00:08, 4799.31 examples/s]\u001b[A\n",
      "Generating unsupervised examples...:  22%|██▏       | 10800/50000 [00:04<00:08, 4806.84 examples/s]\u001b[A\n",
      "Generating unsupervised examples...:  23%|██▎       | 11282/50000 [00:04<00:08, 4810.66 examples/s]\u001b[A\n",
      "Generating unsupervised examples...:  24%|██▎       | 11764/50000 [00:04<00:07, 4798.68 examples/s]\u001b[A\n",
      "Generating unsupervised examples...:  24%|██▍       | 12245/50000 [00:04<00:07, 4800.94 examples/s]\u001b[A\n",
      "Generating unsupervised examples...:  25%|██▌       | 12729/50000 [00:04<00:07, 4812.32 examples/s]\u001b[A\n",
      "Generating unsupervised examples...:  26%|██▋       | 13215/50000 [00:04<00:07, 4825.64 examples/s]\u001b[A\n",
      "Generating unsupervised examples...:  27%|██▋       | 13698/50000 [00:04<00:07, 4799.32 examples/s]\u001b[A\n",
      "Generating unsupervised examples...:  28%|██▊       | 14183/50000 [00:05<00:07, 4813.35 examples/s]\u001b[A\n",
      "Generating unsupervised examples...:  29%|██▉       | 14665/50000 [00:05<00:07, 4810.64 examples/s]\u001b[A\n",
      "Generating unsupervised examples...:  30%|███       | 15150/50000 [00:05<00:07, 4821.81 examples/s]\u001b[A\n",
      "Generating unsupervised examples...:  31%|███▏      | 15634/50000 [00:05<00:07, 4825.55 examples/s]\u001b[A\n",
      "Generating unsupervised examples...:  32%|███▏      | 16117/50000 [00:05<00:07, 4824.05 examples/s]\u001b[A\n",
      "Generating unsupervised examples...:  33%|███▎      | 16600/50000 [00:05<00:06, 4814.55 examples/s]\u001b[A\n",
      "Generating unsupervised examples...:  34%|███▍      | 17086/50000 [00:05<00:06, 4825.73 examples/s]\u001b[A\n",
      "Generating unsupervised examples...:  35%|███▌      | 17569/50000 [00:05<00:06, 4793.18 examples/s]\u001b[A\n",
      "Generating unsupervised examples...:  36%|███▌      | 18055/50000 [00:05<00:06, 4812.53 examples/s]\u001b[A\n",
      "Generating unsupervised examples...:  37%|███▋      | 18539/50000 [00:05<00:06, 4819.71 examples/s]\u001b[A\n",
      "Generating unsupervised examples...:  38%|███▊      | 19022/50000 [00:06<00:06, 4810.00 examples/s]\u001b[A\n",
      "Generating unsupervised examples...:  39%|███▉      | 19504/50000 [00:06<00:06, 4799.72 examples/s]\u001b[A\n",
      "Generating unsupervised examples...:  40%|███▉      | 19986/50000 [00:06<00:06, 4804.17 examples/s]\u001b[A\n",
      "Generating unsupervised examples...:  41%|████      | 20469/50000 [00:06<00:06, 4811.24 examples/s]\u001b[A\n",
      "Generating unsupervised examples...:  42%|████▏     | 20951/50000 [00:06<00:06, 4806.96 examples/s]\u001b[A\n",
      "Generating unsupervised examples...:  43%|████▎     | 21435/50000 [00:06<00:05, 4814.66 examples/s]\u001b[A\n",
      "Generating unsupervised examples...:  44%|████▍     | 21917/50000 [00:06<00:05, 4815.94 examples/s]\u001b[A\n",
      "Generating unsupervised examples...:  45%|████▍     | 22399/50000 [00:06<00:05, 4808.92 examples/s]\u001b[A\n",
      "Generating unsupervised examples...:  46%|████▌     | 22883/50000 [00:06<00:05, 4816.40 examples/s]\u001b[A\n",
      "Generating unsupervised examples...:  47%|████▋     | 23365/50000 [00:06<00:05, 4816.71 examples/s]\u001b[A\n",
      "Generating unsupervised examples...:  48%|████▊     | 23847/50000 [00:07<00:05, 4811.58 examples/s]\u001b[A\n",
      "Generating unsupervised examples...:  49%|████▊     | 24330/50000 [00:07<00:05, 4816.48 examples/s]\u001b[A\n",
      "Generating unsupervised examples...:  50%|████▉     | 24812/50000 [00:07<00:05, 4813.17 examples/s]\u001b[A\n",
      "Generating unsupervised examples...:  51%|█████     | 25294/50000 [00:07<00:05, 4785.22 examples/s]\u001b[A\n",
      "Generating unsupervised examples...:  52%|█████▏    | 25773/50000 [00:07<00:05, 4784.85 examples/s]\u001b[A\n",
      "Generating unsupervised examples...:  53%|█████▎    | 26259/50000 [00:07<00:04, 4805.66 examples/s]\u001b[A\n",
      "Generating unsupervised examples...:  53%|█████▎    | 26740/50000 [00:07<00:04, 4800.33 examples/s]\u001b[A\n",
      "Generating unsupervised examples...:  54%|█████▍    | 27221/50000 [00:07<00:04, 4786.30 examples/s]\u001b[A\n",
      "Generating unsupervised examples...:  55%|█████▌    | 27700/50000 [00:07<00:04, 4784.75 examples/s]\u001b[A\n",
      "Generating unsupervised examples...:  56%|█████▋    | 28184/50000 [00:07<00:04, 4798.21 examples/s]\u001b[A\n",
      "Generating unsupervised examples...:  57%|█████▋    | 28666/50000 [00:08<00:04, 4803.49 examples/s]\u001b[A\n",
      "Generating unsupervised examples...:  58%|█████▊    | 29151/50000 [00:08<00:04, 4815.21 examples/s]\u001b[A\n",
      "Generating unsupervised examples...:  59%|█████▉    | 29633/50000 [00:08<00:04, 4808.67 examples/s]\u001b[A\n",
      "Generating unsupervised examples...:  60%|██████    | 30114/50000 [00:08<00:04, 4808.63 examples/s]\u001b[A\n",
      "Generating unsupervised examples...:  61%|██████    | 30596/50000 [00:08<00:04, 4808.45 examples/s]\u001b[A\n",
      "Generating unsupervised examples...:  62%|██████▏   | 31077/50000 [00:08<00:03, 4803.05 examples/s]\u001b[A\n",
      "Generating unsupervised examples...:  63%|██████▎   | 31560/50000 [00:08<00:03, 4807.96 examples/s]\u001b[A\n",
      "Generating unsupervised examples...:  64%|██████▍   | 32043/50000 [00:08<00:03, 4812.18 examples/s]\u001b[A\n",
      "Generating unsupervised examples...:  65%|██████▌   | 32526/50000 [00:08<00:03, 4814.82 examples/s]\u001b[A\n",
      "Generating unsupervised examples...:  66%|██████▌   | 33009/50000 [00:08<00:03, 4819.11 examples/s]\u001b[A\n",
      "Generating unsupervised examples...:  67%|██████▋   | 33491/50000 [00:09<00:03, 4808.24 examples/s]\u001b[A\n",
      "Generating unsupervised examples...:  68%|██████▊   | 33972/50000 [00:09<00:03, 4800.56 examples/s]\u001b[A\n",
      "Generating unsupervised examples...:  69%|██████▉   | 34457/50000 [00:09<00:03, 4813.64 examples/s]\u001b[A\n",
      "Generating unsupervised examples...:  70%|██████▉   | 34939/50000 [00:09<00:03, 4796.12 examples/s]\u001b[A\n",
      "Generating unsupervised examples...:  71%|███████   | 35419/50000 [00:09<00:03, 4730.65 examples/s]\u001b[A\n",
      "Generating unsupervised examples...:  72%|███████▏  | 35899/50000 [00:09<00:02, 4749.68 examples/s]\u001b[A\n",
      "Generating unsupervised examples...:  73%|███████▎  | 36380/50000 [00:09<00:02, 4766.60 examples/s]\u001b[A\n",
      "Generating unsupervised examples...:  74%|███████▎  | 36857/50000 [00:09<00:02, 4751.08 examples/s]\u001b[A\n",
      "Generating unsupervised examples...:  75%|███████▍  | 37336/50000 [00:09<00:02, 4762.30 examples/s]\u001b[A\n",
      "Generating unsupervised examples...:  76%|███████▌  | 37813/50000 [00:09<00:02, 4752.63 examples/s]\u001b[A\n",
      "Generating unsupervised examples...:  77%|███████▋  | 38290/50000 [00:10<00:02, 4755.07 examples/s]\u001b[A\n",
      "Generating unsupervised examples...:  78%|███████▊  | 38772/50000 [00:10<00:02, 4773.24 examples/s]\u001b[A\n",
      "Generating unsupervised examples...:  79%|███████▊  | 39252/50000 [00:10<00:02, 4780.76 examples/s]\u001b[A\n",
      "Generating unsupervised examples...:  79%|███████▉  | 39733/50000 [00:10<00:02, 4789.40 examples/s]\u001b[A\n",
      "Generating unsupervised examples...:  80%|████████  | 40213/50000 [00:10<00:02, 4790.23 examples/s]\u001b[A\n",
      "Generating unsupervised examples...:  81%|████████▏ | 40693/50000 [00:10<00:01, 4791.77 examples/s]\u001b[A\n",
      "Generating unsupervised examples...:  82%|████████▏ | 41173/50000 [00:10<00:01, 4728.80 examples/s]\u001b[A\n",
      "Generating unsupervised examples...:  83%|████████▎ | 41656/50000 [00:10<00:01, 4757.95 examples/s]\u001b[A\n",
      "Generating unsupervised examples...:  84%|████████▍ | 42136/50000 [00:10<00:01, 4768.50 examples/s]\u001b[A\n",
      "Generating unsupervised examples...:  85%|████████▌ | 42617/50000 [00:10<00:01, 4778.81 examples/s]\u001b[A\n",
      "Generating unsupervised examples...:  86%|████████▌ | 43098/50000 [00:11<00:01, 4786.46 examples/s]\u001b[A\n",
      "Generating unsupervised examples...:  87%|████████▋ | 43584/50000 [00:11<00:01, 4806.28 examples/s]\u001b[A\n",
      "Generating unsupervised examples...:  88%|████████▊ | 44065/50000 [00:11<00:01, 4802.06 examples/s]\u001b[A\n",
      "Generating unsupervised examples...:  89%|████████▉ | 44546/50000 [00:11<00:01, 4786.29 examples/s]\u001b[A\n",
      "Generating unsupervised examples...:  90%|█████████ | 45029/50000 [00:11<00:01, 4797.74 examples/s]\u001b[A\n",
      "Generating unsupervised examples...:  91%|█████████ | 45509/50000 [00:11<00:00, 4792.94 examples/s]\u001b[A\n",
      "Generating unsupervised examples...:  92%|█████████▏| 45991/50000 [00:11<00:00, 4800.88 examples/s]\u001b[A\n",
      "Generating unsupervised examples...:  93%|█████████▎| 46472/50000 [00:11<00:00, 4802.26 examples/s]\u001b[A\n",
      "Generating unsupervised examples...:  94%|█████████▍| 46953/50000 [00:11<00:00, 4798.22 examples/s]\u001b[A\n",
      "Generating unsupervised examples...:  95%|█████████▍| 47433/50000 [00:11<00:00, 4794.95 examples/s]\u001b[A\n",
      "Generating unsupervised examples...:  96%|█████████▌| 47913/50000 [00:12<00:00, 4752.71 examples/s]\u001b[A\n",
      "Generating unsupervised examples...:  97%|█████████▋| 48393/50000 [00:12<00:00, 4765.53 examples/s]\u001b[A\n",
      "Generating unsupervised examples...:  98%|█████████▊| 48870/50000 [00:12<00:00, 4752.60 examples/s]\u001b[A\n",
      "Generating unsupervised examples...:  99%|█████████▊| 49350/50000 [00:12<00:00, 4765.77 examples/s]\u001b[A\n",
      "Generating unsupervised examples...: 100%|█████████▉| 49827/50000 [00:12<00:00, 4759.47 examples/s]\u001b[A\n",
      "                                                                                                   \u001b[A\n",
      "Shuffling imdb_reviews-unsupervised.tfrecord...:   0%|          | 0/50000 [00:00<?, ? examples/s]\u001b[A\n",
      "Shuffling imdb_reviews-unsupervised.tfrecord...:  43%|████▎     | 21520/50000 [00:00<00:00, 215182.76 examples/s]\u001b[A\n",
      "Shuffling imdb_reviews-unsupervised.tfrecord...:  98%|█████████▊| 49175/50000 [00:00<00:00, 251266.70 examples/s]\u001b[A\n",
      "                                                                        \u001b[1mDataset imdb_reviews downloaded and prepared to /Users/rustamz/tensorflow_datasets/imdb_reviews/plain_text/1.0.0. Subsequent calls will reuse this data.\u001b[0m\n"
     ]
    }
   ],
   "source": [
    "imdb, info = tfds.load(\"imdb_reviews\", with_info=True, as_supervised=True)"
   ]
  },
  {
   "cell_type": "code",
   "execution_count": null,
   "metadata": {},
   "outputs": [],
   "source": [
    "tfds.list_builders() # the list of all datasets"
   ]
  },
  {
   "cell_type": "code",
   "execution_count": 8,
   "metadata": {},
   "outputs": [],
   "source": [
    "train_data, test_data = imdb['train'], imdb['test']\n",
    "\n",
    "training_sentences = []\n",
    "training_labels = []\n",
    "testing_sentences = []\n",
    "testing_labels = []\n",
    "\n",
    "for sample, label in train_data:\n",
    "    training_sentences.append(sample.numpy().decode('utf8'))\n",
    "    training_labels.append(label.numpy())\n",
    "\n",
    "for sample, label in test_data:\n",
    "    testing_sentences.append(sample.numpy().decode('utf8'))\n",
    "    testing_labels.append(label.numpy())"
   ]
  },
  {
   "cell_type": "code",
   "execution_count": 17,
   "metadata": {},
   "outputs": [
    {
     "output_type": "stream",
     "name": "stdout",
     "text": [
      "I have been known to fall asleep during films, but this is usually due to a combination of things including, really tired, being warm and comfortable on the sette and having just eaten a lot. However on this occasion I fell asleep because the film was rubbish. The plot development was constant. Constantly slow and boring. Things seemed to happen, but with no explanation of what was causing them or why. I admit, I may have missed part of the film, but i watched the majority of it and everything just seemed to happen of its own accord without any real concern for anything else. I cant recommend this film at all.\n>> label 0\n"
     ]
    }
   ],
   "source": [
    "print(training_sentences[1]) \n",
    "print(\">> label\", training_labels[1])"
   ]
  },
  {
   "cell_type": "code",
   "execution_count": 19,
   "metadata": {},
   "outputs": [
    {
     "output_type": "stream",
     "name": "stdout",
     "text": [
      "25000\n25000\n25000\n25000\n"
     ]
    }
   ],
   "source": [
    "print(len(training_sentences))\n",
    "print(len(training_labels))\n",
    "print(len(testing_sentences))\n",
    "print(len(testing_labels))"
   ]
  },
  {
   "cell_type": "code",
   "execution_count": 25,
   "metadata": {},
   "outputs": [],
   "source": [
    "training_labels_final = np.array(training_labels)\n",
    "testing_labels_final = np.array(testing_labels)"
   ]
  },
  {
   "cell_type": "code",
   "execution_count": 29,
   "metadata": {},
   "outputs": [
    {
     "output_type": "execute_result",
     "data": {
      "text/plain": [
       "(25000,)"
      ]
     },
     "metadata": {},
     "execution_count": 29
    }
   ],
   "source": [
    "training_labels_final.shape"
   ]
  },
  {
   "cell_type": "code",
   "execution_count": 59,
   "metadata": {},
   "outputs": [
    {
     "output_type": "execute_result",
     "data": {
      "text/plain": [
       "(25000, 120)"
      ]
     },
     "metadata": {},
     "execution_count": 59
    }
   ],
   "source": [
    "# Preparing data for training by tokenizing\n",
    "\n",
    "vocab_size = 10000\n",
    "embedding_dim = 16\n",
    "max_length = 120\n",
    "trunc_type='post'\n",
    "oov_tok = \"<OOV>\" # out of vocabulary\n",
    "\n",
    "tokenizer = Tokenizer(num_words = vocab_size, oov_token=oov_tok)\n",
    "tokenizer.fit_on_texts(training_sentences)\n",
    "word_index = tokenizer.word_index # all 10000 words with tokens in a dictionary \n",
    "sequences = tokenizer.texts_to_sequences(training_sentences) # all sentences represented only with tokens\n",
    "padded = pad_sequences(sequences, maxlen=max_length, truncating=trunc_type) # make all sentences the same size\n",
    "\n",
    "testing_sequences = tokenizer.texts_to_sequences(testing_sentences)\n",
    "testing_padded = pad_sequences(testing_sequences, maxlen=max_length)\n",
    "\n",
    "padded.shape"
   ]
  },
  {
   "cell_type": "code",
   "execution_count": 89,
   "metadata": {},
   "outputs": [
    {
     "output_type": "stream",
     "name": "stdout",
     "text": [
      "? ? ? ? ? ? ? ? i have been known to fall asleep during films but this is usually due to a combination of things including really tired being warm and comfortable on the <OOV> and having just eaten a lot however on this occasion i fell asleep because the film was rubbish the plot development was constant constantly slow and boring things seemed to happen but with no explanation of what was causing them or why i admit i may have missed part of the film but i watched the majority of it and everything just seemed to happen of its own <OOV> without any real concern for anything else i cant recommend this film at all\n\nI have been known to fall asleep during films, but this is usually due to a combination of things including, really tired, being warm and comfortable on the sette and having just eaten a lot. However on this occasion I fell asleep because the film was rubbish. The plot development was constant. Constantly slow and boring. Things seemed to happen, but with no explanation of what was causing them or why. I admit, I may have missed part of the film, but i watched the majority of it and everything just seemed to happen of its own accord without any real concern for anything else. I cant recommend this film at all.\n"
     ]
    }
   ],
   "source": [
    "reverse_word_index = dict([(value, key) for (key, value) in word_index.items()])\n",
    "\n",
    "def decode_review(text):\n",
    "    return ' '.join([reverse_word_index.get(i, '?') for i in text])\n",
    "\n",
    "print(decode_review(padded[1]))\n",
    "print()\n",
    "print(training_sentences[1])"
   ]
  },
  {
   "cell_type": "code",
   "execution_count": 64,
   "metadata": {},
   "outputs": [
    {
     "output_type": "stream",
     "name": "stdout",
     "text": [
      "I have been known to fall asleep during films, but this is usually due to a combination of things including, really tired, being warm and comfortable on the sette and having just eaten a lot. However on this occasion I fell asleep because the film was rubbish. The plot development was constant. Constantly slow and boring. Things seemed to happen, but with no explanation of what was causing them or why. I admit, I may have missed part of the film, but i watched the majority of it and everything just seemed to happen of its own accord without any real concern for anything else. I cant recommend this film at all.\n>> original length 617\n>> label 0\n\n[11, 26, 75, 571, 6, 805, 2354, 313, 106, 19, 12, 7, 629, 686, 6, 4, 2219, 5, 181, 584, 64, 1454, 110, 2263, 3, 3951, 21, 2, 1, 3, 258, 41, 4677, 4, 174, 188, 21, 12, 4078, 11, 1578, 2354, 86, 2, 20, 14, 1907, 2, 112, 940, 14, 1811, 1340, 548, 3, 355, 181, 466, 6, 591, 19, 17, 55, 1817, 5, 49, 14, 4044, 96, 40, 136, 11, 972, 11, 201, 26, 1046, 171, 5, 2, 20, 19, 11, 294, 2, 2155, 5, 10, 3, 283, 41, 466, 6, 591, 5, 92, 203, 1, 207, 99, 145, 4382, 16, 230, 332, 11, 2486, 384, 12, 20, 31, 30]\n>> sequence lenght 112\n\n[   0    0    0    0    0    0    0    0   11   26   75  571    6  805\n 2354  313  106   19   12    7  629  686    6    4 2219    5  181  584\n   64 1454  110 2263    3 3951   21    2    1    3  258   41 4677    4\n  174  188   21   12 4078   11 1578 2354   86    2   20   14 1907    2\n  112  940   14 1811 1340  548    3  355  181  466    6  591   19   17\n   55 1817    5   49   14 4044   96   40  136   11  972   11  201   26\n 1046  171    5    2   20   19   11  294    2 2155    5   10    3  283\n   41  466    6  591    5   92  203    1  207   99  145 4382   16  230\n  332   11 2486  384   12   20   31   30]\n"
     ]
    },
    {
     "output_type": "execute_result",
     "data": {
      "text/plain": [
       "(120,)"
      ]
     },
     "metadata": {},
     "execution_count": 64
    }
   ],
   "source": [
    "print(training_sentences[1]) \n",
    "print(\">> original length\", len(training_sentences[1]))\n",
    "print(\">> label\", training_labels[1])\n",
    "\n",
    "print()\n",
    "print(sequences[1])\n",
    "print(\">> sequence lenght\", len(sequences[1]))\n",
    "print()\n",
    "print(padded[1])\n",
    "padded[1].shape"
   ]
  },
  {
   "cell_type": "code",
   "execution_count": 56,
   "metadata": {},
   "outputs": [
    {
     "output_type": "execute_result",
     "data": {
      "text/plain": [
       "'bintang'"
      ]
     },
     "metadata": {},
     "execution_count": 56
    }
   ],
   "source": [
    "# len(list(word_index)) # 90000 appr\n",
    "list(word_index)[57565] # even we defined vocab_size = 10000, tensorflow tokenizes all words, but in backed end it will work with 10000 words, \n",
    "# num_words=n parameter specifies the maximum number of words to be tokenized, and picks the most common ‘n’ words"
   ]
  },
  {
   "cell_type": "code",
   "execution_count": 71,
   "metadata": {},
   "outputs": [
    {
     "output_type": "stream",
     "name": "stdout",
     "text": [
      "Model: \"sequential_2\"\n_________________________________________________________________\nLayer (type)                 Output Shape              Param #   \n=================================================================\nembedding_2 (Embedding)      (None, 120, 16)           160000    \n_________________________________________________________________\nflatten_2 (Flatten)          (None, 1920)              0         \n_________________________________________________________________\ndense_4 (Dense)              (None, 6)                 11526     \n_________________________________________________________________\ndense_5 (Dense)              (None, 1)                 7         \n=================================================================\nTotal params: 171,533\nTrainable params: 171,533\nNon-trainable params: 0\n_________________________________________________________________\n"
     ]
    }
   ],
   "source": [
    "model = tf.keras.Sequential([\n",
    "    tf.keras.layers.Embedding(vocab_size, embedding_dim, input_length=max_length),\n",
    "    tf.keras.layers.Flatten(), # GlobalAveragePooling1D()\n",
    "    tf.keras.layers.Dense(6, activation='relu'),\n",
    "    tf.keras.layers.Dense(1, activation='sigmoid')\n",
    "])\n",
    "model.compile(loss='binary_crossentropy', optimizer='adam', metrics=['accuracy'])\n",
    "model.summary()"
   ]
  },
  {
   "cell_type": "code",
   "execution_count": 106,
   "metadata": {},
   "outputs": [
    {
     "output_type": "stream",
     "name": "stdout",
     "text": [
      "Epoch 1/10\n",
      "782/782 [==============================] - 1s 1ms/step - loss: 9.7313e-05 - accuracy: 1.0000 - val_loss: 0.8354 - val_accuracy: 0.8314\n",
      "Epoch 2/10\n",
      "782/782 [==============================] - 1s 1ms/step - loss: 6.0164e-05 - accuracy: 1.0000 - val_loss: 0.8735 - val_accuracy: 0.8308\n",
      "Epoch 3/10\n",
      "782/782 [==============================] - 1s 1ms/step - loss: 3.7304e-05 - accuracy: 1.0000 - val_loss: 0.9050 - val_accuracy: 0.8318\n",
      "Epoch 4/10\n",
      "782/782 [==============================] - 1s 1ms/step - loss: 2.3330e-05 - accuracy: 1.0000 - val_loss: 0.9406 - val_accuracy: 0.8309\n",
      "Epoch 5/10\n",
      "782/782 [==============================] - 1s 1ms/step - loss: 1.5115e-05 - accuracy: 1.0000 - val_loss: 0.9730 - val_accuracy: 0.8313\n",
      "Epoch 6/10\n",
      "782/782 [==============================] - 1s 1ms/step - loss: 9.3207e-06 - accuracy: 1.0000 - val_loss: 1.0077 - val_accuracy: 0.8312\n",
      "Epoch 7/10\n",
      "782/782 [==============================] - 1s 1ms/step - loss: 6.1326e-06 - accuracy: 1.0000 - val_loss: 1.0429 - val_accuracy: 0.8307\n",
      "Epoch 8/10\n",
      "782/782 [==============================] - 1s 1ms/step - loss: 3.8306e-06 - accuracy: 1.0000 - val_loss: 1.0734 - val_accuracy: 0.8310\n",
      "Epoch 9/10\n",
      "782/782 [==============================] - 1s 1ms/step - loss: 2.4845e-06 - accuracy: 1.0000 - val_loss: 1.1086 - val_accuracy: 0.8311\n",
      "Epoch 10/10\n",
      "782/782 [==============================] - 1s 1ms/step - loss: 1.6163e-06 - accuracy: 1.0000 - val_loss: 1.1410 - val_accuracy: 0.8310\n"
     ]
    },
    {
     "output_type": "execute_result",
     "data": {
      "text/plain": [
       "<tensorflow.python.keras.callbacks.History at 0x29b991ee0>"
      ]
     },
     "metadata": {},
     "execution_count": 106
    }
   ],
   "source": [
    "# Training own modelg\n",
    "\n",
    "num_epochs = 10\n",
    "model.fit(padded, training_labels_final, epochs=num_epochs, validation_data=(testing_padded, testing_labels_final))"
   ]
  },
  {
   "cell_type": "code",
   "execution_count": 76,
   "metadata": {},
   "outputs": [
    {
     "output_type": "execute_result",
     "data": {
      "text/plain": [
       "[<tensorflow.python.keras.layers.embeddings.Embedding at 0x29bb18880>,\n",
       " <tensorflow.python.keras.layers.core.Flatten at 0x29bb18460>,\n",
       " <tensorflow.python.keras.layers.core.Dense at 0x29bb18070>,\n",
       " <tensorflow.python.keras.layers.core.Dense at 0x29bb20370>]"
      ]
     },
     "metadata": {},
     "execution_count": 76
    }
   ],
   "source": [
    "e = model.layers\n",
    "e"
   ]
  },
  {
   "cell_type": "code",
   "execution_count": 79,
   "metadata": {},
   "outputs": [
    {
     "output_type": "stream",
     "name": "stdout",
     "text": [
      "(10000, 16)\n"
     ]
    }
   ],
   "source": [
    "e = model.layers[0]\n",
    "weights = e.get_weights()[0]\n",
    "print(weights.shape) # shape: (vocab_size, embedding_dim)"
   ]
  },
  {
   "cell_type": "code",
   "execution_count": 87,
   "metadata": {},
   "outputs": [
    {
     "output_type": "execute_result",
     "data": {
      "text/plain": [
       "array([-0.08942658,  0.00486923, -0.05935808, -0.06226563, -0.04867279,\n",
       "        0.04237117,  0.04769849,  0.03356505, -0.03730453,  0.00785854,\n",
       "        0.03105144,  0.0776749 ,  0.05284716,  0.025134  , -0.03554538,\n",
       "       -0.04298926], dtype=float32)"
      ]
     },
     "metadata": {},
     "execution_count": 87
    }
   ],
   "source": [
    "weights[1] # each word has its own weight"
   ]
  },
  {
   "cell_type": "code",
   "execution_count": 86,
   "metadata": {
    "tags": []
   },
   "outputs": [
    {
     "output_type": "stream",
     "name": "stdout",
     "text": [
      ">> word 1 <OOV>\n>> embeddings [-0.08942658  0.00486923 -0.05935808 -0.06226563 -0.04867279  0.04237117\n  0.04769849  0.03356505 -0.03730453  0.00785854  0.03105144  0.0776749\n  0.05284716  0.025134   -0.03554538 -0.04298926]\n>> word 2 the\n>> embeddings [-0.08670148  0.01641071 -0.02393427 -0.07146466  0.01603186  0.06126428\n  0.06148115  0.00766911  0.04187395  0.05556076  0.01930173  0.0744463\n  0.01907398  0.01339489  0.00941497 -0.0138381 ]\n>> word 3 and\n>> embeddings [ 0.01113727 -0.03538265 -0.05725451 -0.01636735 -0.00596739 -0.00635358\n  0.03053617  0.05559737  0.0871934   0.04494542  0.02274616  0.07229666\n  0.01994341  0.01223046 -0.05789011 -0.04256919]\n>> word 4 a\n>> embeddings [-0.05104827 -0.01813413 -0.04630557 -0.02343593 -0.03323779  0.06510878\n -0.00737528  0.02424134  0.0825871   0.00570629 -0.01472468  0.12047923\n  0.01702527 -0.04734353 -0.05681538 -0.06954415]\n"
     ]
    }
   ],
   "source": [
    "out_v = io.open('vecs.tsv', 'w', encoding='utf-8')\n",
    "out_m = io.open('meta.tsv', 'w', encoding='utf-8')\n",
    "\n",
    "for word_num in range(1, vocab_size):\n",
    "  word = reverse_word_index[word_num]\n",
    "  embeddings = weights[word_num]\n",
    "  \n",
    "  if word_num < 5:\n",
    "    print(f\">> word {word_num}\", word)\n",
    "    print(\">> embeddings\", embeddings)\n",
    "\n",
    "  out_m.write(word + \"\\n\")\n",
    "  out_v.write('\\t'.join([str(x) for x in embeddings]) + \"\\n\")\n",
    "out_v.close()\n",
    "out_m.close()"
   ]
  },
  {
   "cell_type": "code",
   "execution_count": 99,
   "metadata": {},
   "outputs": [
    {
     "output_type": "stream",
     "name": "stdout",
     "text": [
      "Please install GPU version of TF\n"
     ]
    }
   ],
   "source": [
    "if tf.test.gpu_device_name(): \n",
    "    print('Default GPU Device:'.format(tf.test.gpu_device_name()))\n",
    "else:\n",
    "   print(\"Please install GPU version of TF\")"
   ]
  },
  {
   "cell_type": "code",
   "execution_count": 102,
   "metadata": {},
   "outputs": [
    {
     "output_type": "stream",
     "name": "stdout",
     "text": [
      "[]\n"
     ]
    },
    {
     "output_type": "execute_result",
     "data": {
      "text/plain": [
       "[PhysicalDevice(name='/physical_device:CPU:0', device_type='CPU')]"
      ]
     },
     "metadata": {},
     "execution_count": 102
    }
   ],
   "source": [
    "print(tf.config.list_physical_devices('GPU'))\n",
    "tf.config.list_physical_devices()"
   ]
  }
 ]
}