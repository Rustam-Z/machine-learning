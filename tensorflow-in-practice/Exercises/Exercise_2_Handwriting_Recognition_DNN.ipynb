{
  "nbformat": 4,
  "nbformat_minor": 0,
  "metadata": {
    "colab": {
      "name": "Exercise2-Question.ipynb",
      "provenance": [],
      "collapsed_sections": [],
      "toc_visible": true
    },
    "kernelspec": {
      "name": "python386jvsc74a57bd04ea0e157563bacde0b7fd8dc93db6051c9678d5eadbd4117abf1a4cecbc8cd1a",
      "display_name": "Python 3.8.6 64-bit ('tf': conda)"
    },
    "metadata": {
      "interpreter": {
        "hash": "4ea0e157563bacde0b7fd8dc93db6051c9678d5eadbd4117abf1a4cecbc8cd1a"
      }
    }
  },
  "cells": [
    {
      "cell_type": "code",
      "execution_count": null,
      "metadata": {},
      "outputs": [],
      "source": [
        "# Rustam-Z"
      ]
    },
    {
      "cell_type": "code",
      "metadata": {
        "colab": {
          "base_uri": "https://localhost:8080/"
        },
        "id": "9rvXQGAA0ssC",
        "outputId": "60861935-7551-475e-e8c4-507b43cc6de7"
      },
      "source": [
        "import tensorflow as tf\n",
        "\n",
        "class myCallback(tf.keras.callbacks.Callback):\n",
        "  def on_epoch_end(self, epoch, logs={}):\n",
        "    if(logs.get('accuracy')>0.99):\n",
        "      print( \"Reached 99% accuracy so cancelling training!\")\n",
        "      self.model.stop_training = True\n",
        "\n",
        "\n",
        "mnist = tf.keras.datasets.mnist\n",
        "(x_train, y_train),(x_test, y_test) = mnist.load_data()\n",
        "x_train, x_test = x_train / 255.0, x_test / 255.0\n",
        "\n",
        "callbacks = myCallback()\n",
        "\n",
        "model = tf.keras.models.Sequential([\n",
        "  tf.keras.layers.Flatten(input_shape=(28, 28)),\n",
        "  tf.keras.layers.Dense(512, activation=\"relu\"),\n",
        "  tf.keras.layers.Dense(10, activation=\"softmax\")\n",
        "])\n",
        "\n",
        "model.compile(optimizer='adam',\n",
        "              loss='sparse_categorical_crossentropy',\n",
        "              metrics=['accuracy'])\n",
        "\n",
        "model.fit(x_train, y_train,  epochs=5, callbacks=[callbacks])"
      ],
      "execution_count": 1,
      "outputs": [
        {
          "output_type": "stream",
          "name": "stdout",
          "text": [
            "Epoch 1/5\n",
            "1875/1875 [==============================] - 1s 656us/step - loss: 0.3419 - accuracy: 0.9011\n",
            "Epoch 2/5\n",
            "1875/1875 [==============================] - 1s 649us/step - loss: 0.0835 - accuracy: 0.9749\n",
            "Epoch 3/5\n",
            "1875/1875 [==============================] - 1s 653us/step - loss: 0.0527 - accuracy: 0.9835\n",
            "Epoch 4/5\n",
            "1875/1875 [==============================] - 1s 655us/step - loss: 0.0366 - accuracy: 0.9877\n",
            "Epoch 5/5\n",
            "1875/1875 [==============================] - 1s 653us/step - loss: 0.0248 - accuracy: 0.9925\n",
            "Reached 99% accuracy so cancelling training!\n"
          ]
        },
        {
          "output_type": "execute_result",
          "data": {
            "text/plain": [
              "<tensorflow.python.keras.callbacks.History at 0x2b53ebc10>"
            ]
          },
          "metadata": {},
          "execution_count": 1
        }
      ]
    },
    {
      "cell_type": "code",
      "metadata": {
        "id": "qErwFEW0mz0H",
        "outputId": "3d8ba790-8c5e-4a55-c824-ecd92a00352c",
        "colab": {
          "base_uri": "https://localhost:8080/"
        }
      },
      "source": [
        "import tensorflow as tf\n",
        "\n",
        "print(tf.nn.relu)"
      ],
      "execution_count": 2,
      "outputs": [
        {
          "output_type": "stream",
          "name": "stdout",
          "text": [
            "<function relu at 0x132576790>\n"
          ]
        }
      ]
    },
    {
      "cell_type": "code",
      "metadata": {
        "id": "18I-y7X-q84V",
        "outputId": "e9478496-2bc1-4ce9-ee62-82af2df4a8df",
        "colab": {
          "base_uri": "https://localhost:8080/"
        }
      },
      "source": [
        "model.evaluate(x_test, y_test)"
      ],
      "execution_count": 3,
      "outputs": [
        {
          "output_type": "stream",
          "name": "stdout",
          "text": [
            "313/313 [==============================] - 0s 293us/step - loss: 0.0637 - accuracy: 0.9809\n"
          ]
        },
        {
          "output_type": "execute_result",
          "data": {
            "text/plain": [
              "[0.06370978057384491, 0.98089998960495]"
            ]
          },
          "metadata": {},
          "execution_count": 3
        }
      ]
    }
  ]
}