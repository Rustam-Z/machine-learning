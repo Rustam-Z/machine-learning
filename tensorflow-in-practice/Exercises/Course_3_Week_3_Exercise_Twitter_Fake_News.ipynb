{
  "nbformat": 4,
  "nbformat_minor": 0,
  "metadata": {
    "colab": {
      "name": "NLP Course - Week 3 Exercise Question.ipynb",
      "provenance": []
    },
    "kernelspec": {
      "display_name": "Python 3",
      "name": "python3"
    },
    "accelerator": "TPU"
  },
  "cells": [
    {
      "cell_type": "code",
      "metadata": {
        "id": "zX4Kg8DUTKWO"
      },
      "source": [
        "#@title Licensed under the Apache License, Version 2.0 (the \"License\");\n",
        "# you may not use this file except in compliance with the License.\n",
        "# You may obtain a copy of the License at\n",
        "#\n",
        "# https://www.apache.org/licenses/LICENSE-2.0\n",
        "#\n",
        "# Unless required by applicable law or agreed to in writing, software\n",
        "# distributed under the License is distributed on an \"AS IS\" BASIS,\n",
        "# WITHOUT WARRANTIES OR CONDITIONS OF ANY KIND, either express or implied.\n",
        "# See the License for the specific language governing permissions and\n",
        "# limitations under the License."
      ],
      "execution_count": null,
      "outputs": []
    },
    {
      "cell_type": "code",
      "metadata": {
        "id": "hmA6EzkQJ5jt"
      },
      "source": [
        "import json\n",
        "import tensorflow as tf\n",
        "import csv\n",
        "import random\n",
        "import numpy as np\n",
        "import pandas as pd\n",
        "\n",
        "from tensorflow.keras.preprocessing.text import Tokenizer\n",
        "from tensorflow.keras.preprocessing.sequence import pad_sequences\n",
        "from tensorflow.keras.utils import to_categorical\n",
        "from tensorflow.keras import regularizers\n",
        "\n",
        "\n",
        "embedding_dim = 100\n",
        "max_length = 16\n",
        "trunc_type='post'\n",
        "padding_type='post'\n",
        "oov_tok = \"<OOV>\"\n",
        "training_size=160000\n",
        "test_portion=.1\n",
        "\n",
        "corpus = []\n"
      ],
      "execution_count": 2,
      "outputs": []
    },
    {
      "cell_type": "code",
      "metadata": {
        "id": "T9x3yfJWPXB7",
        "outputId": "cb9a8eaa-8966-4184-9c8b-01f116654174",
        "colab": {
          "base_uri": "https://localhost:8080/"
        }
      },
      "source": [
        "!wget --no-check-certificate \\\n",
        "    https://storage.googleapis.com/laurencemoroney-blog.appspot.com/training_cleaned.csv \\\n",
        "    -O /tmp/training_cleaned.csv\n"
      ],
      "execution_count": 3,
      "outputs": [
        {
          "output_type": "stream",
          "text": [
            "--2021-06-13 03:37:29--  https://storage.googleapis.com/laurencemoroney-blog.appspot.com/training_cleaned.csv\n",
            "Resolving storage.googleapis.com (storage.googleapis.com)... 173.194.192.128, 209.85.145.128, 172.217.219.128, ...\n",
            "Connecting to storage.googleapis.com (storage.googleapis.com)|173.194.192.128|:443... connected.\n",
            "HTTP request sent, awaiting response... 200 OK\n",
            "Length: 238942690 (228M) [application/octet-stream]\n",
            "Saving to: ‘/tmp/training_cleaned.csv’\n",
            "\n",
            "/tmp/training_clean 100%[===================>] 227.87M   148MB/s    in 1.5s    \n",
            "\n",
            "2021-06-13 03:37:31 (148 MB/s) - ‘/tmp/training_cleaned.csv’ saved [238942690/238942690]\n",
            "\n"
          ],
          "name": "stdout"
        }
      ]
    },
    {
      "cell_type": "code",
      "metadata": {
        "colab": {
          "base_uri": "https://localhost:8080/",
          "height": 323
        },
        "id": "bM0l_dORKqE0",
        "outputId": "b5f5fb15-3a81-43d2-c16a-2c982fb22f47"
      },
      "source": [
        "# Note that I cleaned the Stanford dataset to remove LATIN1 encoding to make it easier for Python CSV reader\n",
        "# You can do that yourself with:\n",
        "# iconv -f LATIN1 -t UTF8 training.1600000.processed.noemoticon.csv -o training_cleaned.csv\n",
        "# I then hosted it on my site to make it easier to use in this notebook\n",
        "\n",
        "num_sentences = 0\n",
        "\n",
        "corpus = pd.read_csv(\"/tmp/training_cleaned.csv\")\n",
        "corpus.head()\n",
        "# with open(\"/tmp/training_cleaned.csv\") as csvfile:\n",
        "#     reader = csv.reader(csvfile, delimiter=',')\n",
        "#     for row in reader:\n",
        "#       # Your Code here. Create list items where the first item is the text, found in row[5], and the second is the label. Note that the label is a '0' or a '4' in the text. When it's the former, make\n",
        "#       # your label to be 0, otherwise 1. Keep a count of the number of sentences in num_sentences\n",
        "#         list_item=[]\n",
        "#         # YOUR CODE HERE\n",
        "#         num_sentences = num_sentences + 1\n",
        "#         corpus.append(list_item)\n",
        "\n"
      ],
      "execution_count": 4,
      "outputs": [
        {
          "output_type": "execute_result",
          "data": {
            "text/html": [
              "<div>\n",
              "<style scoped>\n",
              "    .dataframe tbody tr th:only-of-type {\n",
              "        vertical-align: middle;\n",
              "    }\n",
              "\n",
              "    .dataframe tbody tr th {\n",
              "        vertical-align: top;\n",
              "    }\n",
              "\n",
              "    .dataframe thead th {\n",
              "        text-align: right;\n",
              "    }\n",
              "</style>\n",
              "<table border=\"1\" class=\"dataframe\">\n",
              "  <thead>\n",
              "    <tr style=\"text-align: right;\">\n",
              "      <th></th>\n",
              "      <th>0</th>\n",
              "      <th>1467810369</th>\n",
              "      <th>Mon Apr 06 22:19:45 PDT 2009</th>\n",
              "      <th>NO_QUERY</th>\n",
              "      <th>_TheSpecialOne_</th>\n",
              "      <th>@switchfoot http://twitpic.com/2y1zl - Awww, that's a bummer.  You shoulda got David Carr of Third Day to do it. ;D</th>\n",
              "    </tr>\n",
              "  </thead>\n",
              "  <tbody>\n",
              "    <tr>\n",
              "      <th>0</th>\n",
              "      <td>0</td>\n",
              "      <td>1467810672</td>\n",
              "      <td>Mon Apr 06 22:19:49 PDT 2009</td>\n",
              "      <td>NO_QUERY</td>\n",
              "      <td>scotthamilton</td>\n",
              "      <td>is upset that he can't update his Facebook by ...</td>\n",
              "    </tr>\n",
              "    <tr>\n",
              "      <th>1</th>\n",
              "      <td>0</td>\n",
              "      <td>1467810917</td>\n",
              "      <td>Mon Apr 06 22:19:53 PDT 2009</td>\n",
              "      <td>NO_QUERY</td>\n",
              "      <td>mattycus</td>\n",
              "      <td>@Kenichan I dived many times for the ball. Man...</td>\n",
              "    </tr>\n",
              "    <tr>\n",
              "      <th>2</th>\n",
              "      <td>0</td>\n",
              "      <td>1467811184</td>\n",
              "      <td>Mon Apr 06 22:19:57 PDT 2009</td>\n",
              "      <td>NO_QUERY</td>\n",
              "      <td>ElleCTF</td>\n",
              "      <td>my whole body feels itchy and like its on fire</td>\n",
              "    </tr>\n",
              "    <tr>\n",
              "      <th>3</th>\n",
              "      <td>0</td>\n",
              "      <td>1467811193</td>\n",
              "      <td>Mon Apr 06 22:19:57 PDT 2009</td>\n",
              "      <td>NO_QUERY</td>\n",
              "      <td>Karoli</td>\n",
              "      <td>@nationwideclass no, it's not behaving at all....</td>\n",
              "    </tr>\n",
              "    <tr>\n",
              "      <th>4</th>\n",
              "      <td>0</td>\n",
              "      <td>1467811372</td>\n",
              "      <td>Mon Apr 06 22:20:00 PDT 2009</td>\n",
              "      <td>NO_QUERY</td>\n",
              "      <td>joy_wolf</td>\n",
              "      <td>@Kwesidei not the whole crew</td>\n",
              "    </tr>\n",
              "  </tbody>\n",
              "</table>\n",
              "</div>"
            ],
            "text/plain": [
              "   0  ...  @switchfoot http://twitpic.com/2y1zl - Awww, that's a bummer.  You shoulda got David Carr of Third Day to do it. ;D\n",
              "0  0  ...  is upset that he can't update his Facebook by ...                                                                  \n",
              "1  0  ...  @Kenichan I dived many times for the ball. Man...                                                                  \n",
              "2  0  ...    my whole body feels itchy and like its on fire                                                                   \n",
              "3  0  ...  @nationwideclass no, it's not behaving at all....                                                                  \n",
              "4  0  ...                      @Kwesidei not the whole crew                                                                   \n",
              "\n",
              "[5 rows x 6 columns]"
            ]
          },
          "metadata": {
            "tags": []
          },
          "execution_count": 4
        }
      ]
    },
    {
      "cell_type": "code",
      "metadata": {
        "id": "gb4C3Ob1I8J5",
        "outputId": "cb787a37-108c-4dea-81a5-3c6840b7ca16",
        "colab": {
          "base_uri": "https://localhost:8080/"
        }
      },
      "source": [
        "corpus.columns"
      ],
      "execution_count": 5,
      "outputs": [
        {
          "output_type": "execute_result",
          "data": {
            "text/plain": [
              "Index(['0', '1467810369', 'Mon Apr 06 22:19:45 PDT 2009', 'NO_QUERY',\n",
              "       '_TheSpecialOne_',\n",
              "       '@switchfoot http://twitpic.com/2y1zl - Awww, that's a bummer.  You shoulda got David Carr of Third Day to do it. ;D'],\n",
              "      dtype='object')"
            ]
          },
          "metadata": {
            "tags": []
          },
          "execution_count": 5
        }
      ]
    },
    {
      "cell_type": "code",
      "metadata": {
        "id": "hnTmZZSWJSQP"
      },
      "source": [
        "corpus.rename(columns={\"_TheSpecialOne_\": \"username\", \"Mon Apr 06 22:19:45 PDT 2009\": \"date\", list(corpus)[5]: \"text\"}, inplace=True)"
      ],
      "execution_count": 6,
      "outputs": []
    },
    {
      "cell_type": "code",
      "metadata": {
        "id": "VCB4k7VvMYy5",
        "outputId": "e4c31935-3321-47b2-e3be-d40499e917ee",
        "colab": {
          "base_uri": "https://localhost:8080/",
          "height": 204
        }
      },
      "source": [
        "corpus.head()"
      ],
      "execution_count": 7,
      "outputs": [
        {
          "output_type": "execute_result",
          "data": {
            "text/html": [
              "<div>\n",
              "<style scoped>\n",
              "    .dataframe tbody tr th:only-of-type {\n",
              "        vertical-align: middle;\n",
              "    }\n",
              "\n",
              "    .dataframe tbody tr th {\n",
              "        vertical-align: top;\n",
              "    }\n",
              "\n",
              "    .dataframe thead th {\n",
              "        text-align: right;\n",
              "    }\n",
              "</style>\n",
              "<table border=\"1\" class=\"dataframe\">\n",
              "  <thead>\n",
              "    <tr style=\"text-align: right;\">\n",
              "      <th></th>\n",
              "      <th>0</th>\n",
              "      <th>1467810369</th>\n",
              "      <th>date</th>\n",
              "      <th>NO_QUERY</th>\n",
              "      <th>username</th>\n",
              "      <th>text</th>\n",
              "    </tr>\n",
              "  </thead>\n",
              "  <tbody>\n",
              "    <tr>\n",
              "      <th>0</th>\n",
              "      <td>0</td>\n",
              "      <td>1467810672</td>\n",
              "      <td>Mon Apr 06 22:19:49 PDT 2009</td>\n",
              "      <td>NO_QUERY</td>\n",
              "      <td>scotthamilton</td>\n",
              "      <td>is upset that he can't update his Facebook by ...</td>\n",
              "    </tr>\n",
              "    <tr>\n",
              "      <th>1</th>\n",
              "      <td>0</td>\n",
              "      <td>1467810917</td>\n",
              "      <td>Mon Apr 06 22:19:53 PDT 2009</td>\n",
              "      <td>NO_QUERY</td>\n",
              "      <td>mattycus</td>\n",
              "      <td>@Kenichan I dived many times for the ball. Man...</td>\n",
              "    </tr>\n",
              "    <tr>\n",
              "      <th>2</th>\n",
              "      <td>0</td>\n",
              "      <td>1467811184</td>\n",
              "      <td>Mon Apr 06 22:19:57 PDT 2009</td>\n",
              "      <td>NO_QUERY</td>\n",
              "      <td>ElleCTF</td>\n",
              "      <td>my whole body feels itchy and like its on fire</td>\n",
              "    </tr>\n",
              "    <tr>\n",
              "      <th>3</th>\n",
              "      <td>0</td>\n",
              "      <td>1467811193</td>\n",
              "      <td>Mon Apr 06 22:19:57 PDT 2009</td>\n",
              "      <td>NO_QUERY</td>\n",
              "      <td>Karoli</td>\n",
              "      <td>@nationwideclass no, it's not behaving at all....</td>\n",
              "    </tr>\n",
              "    <tr>\n",
              "      <th>4</th>\n",
              "      <td>0</td>\n",
              "      <td>1467811372</td>\n",
              "      <td>Mon Apr 06 22:20:00 PDT 2009</td>\n",
              "      <td>NO_QUERY</td>\n",
              "      <td>joy_wolf</td>\n",
              "      <td>@Kwesidei not the whole crew</td>\n",
              "    </tr>\n",
              "  </tbody>\n",
              "</table>\n",
              "</div>"
            ],
            "text/plain": [
              "   0  ...                                               text\n",
              "0  0  ...  is upset that he can't update his Facebook by ...\n",
              "1  0  ...  @Kenichan I dived many times for the ball. Man...\n",
              "2  0  ...    my whole body feels itchy and like its on fire \n",
              "3  0  ...  @nationwideclass no, it's not behaving at all....\n",
              "4  0  ...                      @Kwesidei not the whole crew \n",
              "\n",
              "[5 rows x 6 columns]"
            ]
          },
          "metadata": {
            "tags": []
          },
          "execution_count": 7
        }
      ]
    },
    {
      "cell_type": "code",
      "metadata": {
        "id": "J-TNWJebMlZN",
        "outputId": "1a5b8028-08ca-4292-9227-8fc8741b6a8b",
        "colab": {
          "base_uri": "https://localhost:8080/",
          "height": 282
        }
      },
      "source": [
        "corpus[\"0\"].hist()"
      ],
      "execution_count": 8,
      "outputs": [
        {
          "output_type": "execute_result",
          "data": {
            "text/plain": [
              "<matplotlib.axes._subplots.AxesSubplot at 0x7fc302633910>"
            ]
          },
          "metadata": {
            "tags": []
          },
          "execution_count": 8
        },
        {
          "output_type": "display_data",
          "data": {
            "image/png": "[encoded data removed]",
            "text/plain": [
              "<Figure size 432x288 with 1 Axes>"
            ]
          },
          "metadata": {
            "tags": [],
            "needs_background": "light"
          }
        }
      ]
    },
    {
      "cell_type": "code",
      "metadata": {
        "id": "w4j_022mNbht",
        "outputId": "d4113c92-8245-4ceb-e7ff-3a41cf7424ed",
        "colab": {
          "base_uri": "https://localhost:8080/",
          "height": 204
        }
      },
      "source": [
        "# I think I need to change 4s into 1s in dataset\n",
        "# corpus[corpus[\"0\"]!=0]\n",
        "\n",
        "corpus['0'].replace([4], 1, inplace=True)\n",
        "\n",
        "corpus.tail()"
      ],
      "execution_count": 9,
      "outputs": [
        {
          "output_type": "execute_result",
          "data": {
            "text/html": [
              "<div>\n",
              "<style scoped>\n",
              "    .dataframe tbody tr th:only-of-type {\n",
              "        vertical-align: middle;\n",
              "    }\n",
              "\n",
              "    .dataframe tbody tr th {\n",
              "        vertical-align: top;\n",
              "    }\n",
              "\n",
              "    .dataframe thead th {\n",
              "        text-align: right;\n",
              "    }\n",
              "</style>\n",
              "<table border=\"1\" class=\"dataframe\">\n",
              "  <thead>\n",
              "    <tr style=\"text-align: right;\">\n",
              "      <th></th>\n",
              "      <th>0</th>\n",
              "      <th>1467810369</th>\n",
              "      <th>date</th>\n",
              "      <th>NO_QUERY</th>\n",
              "      <th>username</th>\n",
              "      <th>text</th>\n",
              "    </tr>\n",
              "  </thead>\n",
              "  <tbody>\n",
              "    <tr>\n",
              "      <th>1599994</th>\n",
              "      <td>1</td>\n",
              "      <td>2193601966</td>\n",
              "      <td>Tue Jun 16 08:40:49 PDT 2009</td>\n",
              "      <td>NO_QUERY</td>\n",
              "      <td>AmandaMarie1028</td>\n",
              "      <td>Just woke up. Having no school is the best fee...</td>\n",
              "    </tr>\n",
              "    <tr>\n",
              "      <th>1599995</th>\n",
              "      <td>1</td>\n",
              "      <td>2193601969</td>\n",
              "      <td>Tue Jun 16 08:40:49 PDT 2009</td>\n",
              "      <td>NO_QUERY</td>\n",
              "      <td>TheWDBoards</td>\n",
              "      <td>TheWDB.com - Very cool to hear old Walt interv...</td>\n",
              "    </tr>\n",
              "    <tr>\n",
              "      <th>1599996</th>\n",
              "      <td>1</td>\n",
              "      <td>2193601991</td>\n",
              "      <td>Tue Jun 16 08:40:49 PDT 2009</td>\n",
              "      <td>NO_QUERY</td>\n",
              "      <td>bpbabe</td>\n",
              "      <td>Are you ready for your MoJo Makeover? Ask me f...</td>\n",
              "    </tr>\n",
              "    <tr>\n",
              "      <th>1599997</th>\n",
              "      <td>1</td>\n",
              "      <td>2193602064</td>\n",
              "      <td>Tue Jun 16 08:40:49 PDT 2009</td>\n",
              "      <td>NO_QUERY</td>\n",
              "      <td>tinydiamondz</td>\n",
              "      <td>Happy 38th Birthday to my boo of alll time!!! ...</td>\n",
              "    </tr>\n",
              "    <tr>\n",
              "      <th>1599998</th>\n",
              "      <td>1</td>\n",
              "      <td>2193602129</td>\n",
              "      <td>Tue Jun 16 08:40:50 PDT 2009</td>\n",
              "      <td>NO_QUERY</td>\n",
              "      <td>RyanTrevMorris</td>\n",
              "      <td>happy #charitytuesday @theNSPCC @SparksCharity...</td>\n",
              "    </tr>\n",
              "  </tbody>\n",
              "</table>\n",
              "</div>"
            ],
            "text/plain": [
              "         0  ...                                               text\n",
              "1599994  1  ...  Just woke up. Having no school is the best fee...\n",
              "1599995  1  ...  TheWDB.com - Very cool to hear old Walt interv...\n",
              "1599996  1  ...  Are you ready for your MoJo Makeover? Ask me f...\n",
              "1599997  1  ...  Happy 38th Birthday to my boo of alll time!!! ...\n",
              "1599998  1  ...  happy #charitytuesday @theNSPCC @SparksCharity...\n",
              "\n",
              "[5 rows x 6 columns]"
            ]
          },
          "metadata": {
            "tags": []
          },
          "execution_count": 9
        }
      ]
    },
    {
      "cell_type": "code",
      "metadata": {
        "id": "JF6XxYjmPL0M",
        "outputId": "e138536e-d7a9-4574-e06a-9d2048be2ac6",
        "colab": {
          "base_uri": "https://localhost:8080/",
          "height": 282
        }
      },
      "source": [
        "corpus[\"0\"].hist()"
      ],
      "execution_count": 10,
      "outputs": [
        {
          "output_type": "execute_result",
          "data": {
            "text/plain": [
              "<matplotlib.axes._subplots.AxesSubplot at 0x7fc302597350>"
            ]
          },
          "metadata": {
            "tags": []
          },
          "execution_count": 10
        },
        {
          "output_type": "display_data",
          "data": {
            "image/png": "[encoded data removed]",
            "text/plain": [
              "<Figure size 432x288 with 1 Axes>"
            ]
          },
          "metadata": {
            "tags": [],
            "needs_background": "light"
          }
        }
      ]
    },
    {
      "cell_type": "code",
      "metadata": {
        "id": "hyaKQnasQAuv",
        "outputId": "fa4f3caa-a51a-46cf-cb51-984db545fc8d",
        "colab": {
          "base_uri": "https://localhost:8080/"
        }
      },
      "source": [
        "partition1 = corpus[\"0\"].iloc[:160000]\n",
        "partition1\n",
        "partition1.isin([1]) # need to shuffle first i think"
      ],
      "execution_count": 11,
      "outputs": [
        {
          "output_type": "execute_result",
          "data": {
            "text/plain": [
              "0         False\n",
              "1         False\n",
              "2         False\n",
              "3         False\n",
              "4         False\n",
              "          ...  \n",
              "159995    False\n",
              "159996    False\n",
              "159997    False\n",
              "159998    False\n",
              "159999    False\n",
              "Name: 0, Length: 160000, dtype: bool"
            ]
          },
          "metadata": {
            "tags": []
          },
          "execution_count": 11
        }
      ]
    },
    {
      "cell_type": "code",
      "metadata": {
        "id": "H1QsoT-aRX8v",
        "outputId": "11ed5660-7055-4e61-94b3-3b94285ae182",
        "colab": {
          "base_uri": "https://localhost:8080/"
        }
      },
      "source": [
        "df = corpus.sample(frac=1, random_state=42).reset_index(drop=True) # shuffling the dataset\n",
        "df.head()\n",
        "df[\"0\"].iloc[:160000].isin([1])"
      ],
      "execution_count": 12,
      "outputs": [
        {
          "output_type": "execute_result",
          "data": {
            "text/plain": [
              "0         False\n",
              "1         False\n",
              "2         False\n",
              "3         False\n",
              "4         False\n",
              "          ...  \n",
              "159995     True\n",
              "159996    False\n",
              "159997     True\n",
              "159998    False\n",
              "159999    False\n",
              "Name: 0, Length: 160000, dtype: bool"
            ]
          },
          "metadata": {
            "tags": []
          },
          "execution_count": 12
        }
      ]
    },
    {
      "cell_type": "code",
      "metadata": {
        "colab": {
          "base_uri": "https://localhost:8080/"
        },
        "id": "3kxblBUjEUX-",
        "outputId": "32fa890d-8d02-4b78-c7fb-aeafc8455e09"
      },
      "source": [
        "print(num_sentences)\n",
        "print(len(corpus))\n",
        "print(corpus[\"text\"][0])\n",
        "\n",
        "# Expected Output:\n",
        "# 1600000\n",
        "# 1600000\n",
        "# [\"is upset that he can't update his Facebook by texting it... and might cry as a result  School today also. Blah!\", 0]"
      ],
      "execution_count": 13,
      "outputs": [
        {
          "output_type": "stream",
          "text": [
            "0\n",
            "1599999\n",
            "is upset that he can't update his Facebook by texting it... and might cry as a result  School today also. Blah!\n"
          ],
          "name": "stdout"
        }
      ]
    },
    {
      "cell_type": "code",
      "metadata": {
        "id": "x5L-kPpYP5KG"
      },
      "source": [
        "sentences=df[\"text\"].iloc[:training_size]\n",
        "labels=df[\"0\"].iloc[:training_size]\n"
      ],
      "execution_count": 14,
      "outputs": []
    },
    {
      "cell_type": "code",
      "metadata": {
        "id": "yHzlWMLpSJiz",
        "outputId": "16b68d0a-a510-4545-b65b-5b519acc92e3",
        "colab": {
          "base_uri": "https://localhost:8080/"
        }
      },
      "source": [
        "sentences"
      ],
      "execution_count": 15,
      "outputs": [
        {
          "output_type": "execute_result",
          "data": {
            "text/plain": [
              "0         @Nkluvr4eva My poor little dumpling  In Holmde...\n",
              "1         I'm off too bed. I gotta wake up hella early t...\n",
              "2         I havent been able to listen to it yet  My spe...\n",
              "3         now remembers why solving a relatively big equ...\n",
              "4                                  Ate too much, feel sick \n",
              "                                ...                        \n",
              "159995                            @willjonz thank you Will \n",
              "159996    Michelle is watching the mini marathon on TV a...\n",
              "159997    @samhouston Will see you there tomorrow at the...\n",
              "159998    found out about the passing of an old friend..   \n",
              "159999    @jennysunphoto yes it's sad no one tweet about...\n",
              "Name: text, Length: 160000, dtype: object"
            ]
          },
          "metadata": {
            "tags": []
          },
          "execution_count": 15
        }
      ]
    },
    {
      "cell_type": "code",
      "metadata": {
        "id": "IMOo5IWySLMV",
        "outputId": "fda4086c-67a4-4978-96b9-793c8dd3f25f",
        "colab": {
          "base_uri": "https://localhost:8080/"
        }
      },
      "source": [
        "labels"
      ],
      "execution_count": 16,
      "outputs": [
        {
          "output_type": "execute_result",
          "data": {
            "text/plain": [
              "0         0\n",
              "1         0\n",
              "2         0\n",
              "3         0\n",
              "4         0\n",
              "         ..\n",
              "159995    1\n",
              "159996    0\n",
              "159997    1\n",
              "159998    0\n",
              "159999    0\n",
              "Name: 0, Length: 160000, dtype: int64"
            ]
          },
          "metadata": {
            "tags": []
          },
          "execution_count": 16
        }
      ]
    },
    {
      "cell_type": "code",
      "metadata": {
        "colab": {
          "base_uri": "https://localhost:8080/"
        },
        "id": "ohOGz24lsNAD",
        "outputId": "8cd057eb-17ab-4dfc-cba5-64350b6e7730"
      },
      "source": [
        "# for x in range(training_size):\n",
        "#     sentences.append()\n",
        "#     labels.append(# YOUR CODE HERE)\n",
        "\n",
        "\n",
        "tokenizer = Tokenizer()\n",
        "tokenizer.fit_on_texts(sentences)\n",
        "\n",
        "word_index = tokenizer.word_index\n",
        "vocab_size=len(word_index)\n",
        "\n",
        "sequences = tokenizer.texts_to_sequences(sentences)\n",
        "padded = pad_sequences(sequences, maxlen=max_length, padding=padding_type, truncating=trunc_type)\n",
        "\n",
        "split = int(test_portion * training_size)\n",
        "\n",
        "print(split)\n",
        "test_sequences = padded[0:split]\n",
        "training_sequences = padded[split:training_size]\n",
        "\n",
        "test_labels = labels[0:split]\n",
        "training_labels = labels[split:training_size]"
      ],
      "execution_count": 17,
      "outputs": [
        {
          "output_type": "stream",
          "text": [
            "16000\n"
          ],
          "name": "stdout"
        }
      ]
    },
    {
      "cell_type": "code",
      "metadata": {
        "colab": {
          "base_uri": "https://localhost:8080/"
        },
        "id": "gIrtRem1En3N",
        "outputId": "a5b8fcde-4ba6-4068-a58b-f55370c4515d"
      },
      "source": [
        "print(vocab_size)\n",
        "print(word_index['i'])\n",
        "# Expected Output\n",
        "# 138858\n",
        "# 1"
      ],
      "execution_count": 18,
      "outputs": [
        {
          "output_type": "stream",
          "text": [
            "138754\n",
            "1\n"
          ],
          "name": "stdout"
        }
      ]
    },
    {
      "cell_type": "code",
      "metadata": {
        "id": "1Pfx2ugSaiYM",
        "outputId": "64cb2f97-c668-49ce-d82d-dfd3bf8d4804",
        "colab": {
          "base_uri": "https://localhost:8080/"
        }
      },
      "source": [
        "!wget http://nlp.stanford.edu/data/glove.6B.zip\n",
        "!unzip glove*.zip"
      ],
      "execution_count": 19,
      "outputs": [
        {
          "output_type": "stream",
          "text": [
            "--2021-06-13 03:37:45--  http://nlp.stanford.edu/data/glove.6B.zip\n",
            "Resolving nlp.stanford.edu (nlp.stanford.edu)... 171.64.67.140\n",
            "Connecting to nlp.stanford.edu (nlp.stanford.edu)|171.64.67.140|:80... connected.\n",
            "HTTP request sent, awaiting response... 302 Found\n",
            "Location: https://nlp.stanford.edu/data/glove.6B.zip [following]\n",
            "--2021-06-13 03:37:46--  https://nlp.stanford.edu/data/glove.6B.zip\n",
            "Connecting to nlp.stanford.edu (nlp.stanford.edu)|171.64.67.140|:443... connected.\n",
            "HTTP request sent, awaiting response... 301 Moved Permanently\n",
            "Location: http://downloads.cs.stanford.edu/nlp/data/glove.6B.zip [following]\n",
            "--2021-06-13 03:37:46--  http://downloads.cs.stanford.edu/nlp/data/glove.6B.zip\n",
            "Resolving downloads.cs.stanford.edu (downloads.cs.stanford.edu)... 171.64.64.22\n",
            "Connecting to downloads.cs.stanford.edu (downloads.cs.stanford.edu)|171.64.64.22|:80... connected.\n",
            "HTTP request sent, awaiting response... 200 OK\n",
            "Length: 862182613 (822M) [application/zip]\n",
            "Saving to: ‘glove.6B.zip’\n",
            "\n",
            "glove.6B.zip        100%[===================>] 822.24M  5.07MB/s    in 2m 40s  \n",
            "\n",
            "2021-06-13 03:40:26 (5.14 MB/s) - ‘glove.6B.zip’ saved [862182613/862182613]\n",
            "\n",
            "Archive:  glove.6B.zip\n",
            "  inflating: glove.6B.50d.txt        \n",
            "  inflating: glove.6B.100d.txt       \n",
            "  inflating: glove.6B.200d.txt       \n",
            "  inflating: glove.6B.300d.txt       \n"
          ],
          "name": "stdout"
        }
      ]
    },
    {
      "cell_type": "code",
      "metadata": {
        "id": "C1zdgJkusRh0"
      },
      "source": [
        "# Note this is the 100 dimension version of GloVe from Stanford\n",
        "# I unzipped and hosted it on my site to make this notebook easier\n",
        "# !wget --no-check-certificate \\\n",
        "#     https://storage.googleapis.com/laurencemoroney-blog.appspot.com/glove.6B.100d.txt \\\n",
        "#     -O /tmp/glove.6B.100d.txt\n",
        "\n",
        "embeddings_index = {}\n",
        "with open('glove.6B.100d.txt') as f:\n",
        "    for line in f:\n",
        "        values = line.split()\n",
        "        word = values[0]\n",
        "        coefs = np.asarray(values[1:], dtype='float32')\n",
        "        embeddings_index[word] = coefs\n",
        "\n",
        "embeddings_matrix = np.zeros((vocab_size+1, embedding_dim))\n",
        "for word, i in word_index.items():\n",
        "    embedding_vector = embeddings_index.get(word)\n",
        "    if embedding_vector is not None:\n",
        "        embeddings_matrix[i] = embedding_vector"
      ],
      "execution_count": 20,
      "outputs": []
    },
    {
      "cell_type": "code",
      "metadata": {
        "id": "j3A4G43Rb8SQ",
        "outputId": "9ffc4ea5-c927-4179-e71d-ca9e1e4f51a0",
        "colab": {
          "base_uri": "https://localhost:8080/"
        }
      },
      "source": [
        "embeddings_matrix"
      ],
      "execution_count": 21,
      "outputs": [
        {
          "output_type": "execute_result",
          "data": {
            "text/plain": [
              "array([[ 0.        ,  0.        ,  0.        , ...,  0.        ,\n",
              "         0.        ,  0.        ],\n",
              "       [-0.046539  ,  0.61966002,  0.56647003, ..., -0.37616   ,\n",
              "        -0.032502  ,  0.80620003],\n",
              "       [-0.18970001,  0.050024  ,  0.19084001, ..., -0.39804   ,\n",
              "         0.47646999, -0.15983   ],\n",
              "       ...,\n",
              "       [ 0.        ,  0.        ,  0.        , ...,  0.        ,\n",
              "         0.        ,  0.        ],\n",
              "       [ 0.        ,  0.        ,  0.        , ...,  0.        ,\n",
              "         0.        ,  0.        ],\n",
              "       [ 0.        ,  0.        ,  0.        , ...,  0.        ,\n",
              "         0.        ,  0.        ]])"
            ]
          },
          "metadata": {
            "tags": []
          },
          "execution_count": 21
        }
      ]
    },
    {
      "cell_type": "code",
      "metadata": {
        "id": "YdY2Phi7cKcO",
        "outputId": "68aad8cb-39ef-488d-c1f2-705eb7615bd8",
        "colab": {
          "base_uri": "https://localhost:8080/"
        }
      },
      "source": [
        "embeddings_matrix.shape"
      ],
      "execution_count": 22,
      "outputs": [
        {
          "output_type": "execute_result",
          "data": {
            "text/plain": [
              "(138755, 100)"
            ]
          },
          "metadata": {
            "tags": []
          },
          "execution_count": 22
        }
      ]
    },
    {
      "cell_type": "code",
      "metadata": {
        "colab": {
          "base_uri": "https://localhost:8080/"
        },
        "id": "71NLk_lpFLNt",
        "outputId": "1e1f2bbe-0973-463b-ee56-37773e813362"
      },
      "source": [
        "print(len(embeddings_matrix))\n",
        "# Expected Output\n",
        "# 138859"
      ],
      "execution_count": 23,
      "outputs": [
        {
          "output_type": "stream",
          "text": [
            "138755\n"
          ],
          "name": "stdout"
        }
      ]
    },
    {
      "cell_type": "code",
      "metadata": {
        "colab": {
          "base_uri": "https://localhost:8080/"
        },
        "id": "iKKvbuEBOGFz",
        "outputId": "ba4550dd-6246-4e57-9da4-857421744605"
      },
      "source": [
        "model = tf.keras.Sequential([\n",
        "    tf.keras.layers.Embedding(vocab_size+1, embedding_dim, input_length=max_length, weights=[embeddings_matrix], trainable=False),\n",
        "    tf.keras.layers.Conv1D(128, 5, activation='relu'),\n",
        "    tf.keras.layers.GlobalAveragePooling1D(),\n",
        "    tf.keras.layers.Dense(64, activation='relu'),\n",
        "    tf.keras.layers.Dense(1, activation='sigmoid')\n",
        "])\n",
        "model.compile(loss='binary_crossentropy',optimizer='adam',metrics=['accuracy'])\n",
        "model.summary()\n",
        "\n",
        "num_epochs = 50\n",
        "history = model.fit(training_sequences, training_labels, epochs=num_epochs, validation_data=(test_sequences, test_labels), verbose=2)\n",
        "\n",
        "print(\"Training Complete\")\n"
      ],
      "execution_count": 24,
      "outputs": [
        {
          "output_type": "stream",
          "text": [
            "Model: \"sequential\"\n",
            "_________________________________________________________________\n",
            "Layer (type)                 Output Shape              Param #   \n",
            "=================================================================\n",
            "embedding (Embedding)        (None, 16, 100)           13875500  \n",
            "_________________________________________________________________\n",
            "conv1d (Conv1D)              (None, 12, 128)           64128     \n",
            "_________________________________________________________________\n",
            "global_average_pooling1d (Gl (None, 128)               0         \n",
            "_________________________________________________________________\n",
            "dense (Dense)                (None, 64)                8256      \n",
            "_________________________________________________________________\n",
            "dense_1 (Dense)              (None, 1)                 65        \n",
            "=================================================================\n",
            "Total params: 13,947,949\n",
            "Trainable params: 72,449\n",
            "Non-trainable params: 13,875,500\n",
            "_________________________________________________________________\n",
            "Epoch 1/50\n",
            "4500/4500 - 23s - loss: 0.5549 - accuracy: 0.7135 - val_loss: 0.5363 - val_accuracy: 0.7279\n",
            "Epoch 2/50\n",
            "4500/4500 - 22s - loss: 0.5067 - accuracy: 0.7471 - val_loss: 0.5167 - val_accuracy: 0.7389\n",
            "Epoch 3/50\n",
            "4500/4500 - 22s - loss: 0.4800 - accuracy: 0.7663 - val_loss: 0.5082 - val_accuracy: 0.7456\n",
            "Epoch 4/50\n",
            "4500/4500 - 21s - loss: 0.4571 - accuracy: 0.7797 - val_loss: 0.5119 - val_accuracy: 0.7489\n",
            "Epoch 5/50\n",
            "4500/4500 - 21s - loss: 0.4363 - accuracy: 0.7929 - val_loss: 0.5154 - val_accuracy: 0.7456\n",
            "Epoch 6/50\n",
            "4500/4500 - 21s - loss: 0.4155 - accuracy: 0.8040 - val_loss: 0.5278 - val_accuracy: 0.7434\n",
            "Epoch 7/50\n",
            "4500/4500 - 20s - loss: 0.3968 - accuracy: 0.8150 - val_loss: 0.5546 - val_accuracy: 0.7421\n",
            "Epoch 8/50\n",
            "4500/4500 - 20s - loss: 0.3790 - accuracy: 0.8245 - val_loss: 0.5803 - val_accuracy: 0.7414\n",
            "Epoch 9/50\n",
            "4500/4500 - 20s - loss: 0.3626 - accuracy: 0.8332 - val_loss: 0.5902 - val_accuracy: 0.7342\n",
            "Epoch 10/50\n",
            "4500/4500 - 20s - loss: 0.3459 - accuracy: 0.8422 - val_loss: 0.6060 - val_accuracy: 0.7306\n",
            "Epoch 11/50\n",
            "4500/4500 - 21s - loss: 0.3314 - accuracy: 0.8493 - val_loss: 0.6355 - val_accuracy: 0.7309\n",
            "Epoch 12/50\n",
            "4500/4500 - 21s - loss: 0.3182 - accuracy: 0.8565 - val_loss: 0.6707 - val_accuracy: 0.7246\n",
            "Epoch 13/50\n",
            "4500/4500 - 21s - loss: 0.3057 - accuracy: 0.8623 - val_loss: 0.6858 - val_accuracy: 0.7308\n",
            "Epoch 14/50\n",
            "4500/4500 - 20s - loss: 0.2939 - accuracy: 0.8688 - val_loss: 0.7363 - val_accuracy: 0.7259\n",
            "Epoch 15/50\n",
            "4500/4500 - 20s - loss: 0.2828 - accuracy: 0.8737 - val_loss: 0.7603 - val_accuracy: 0.7198\n",
            "Epoch 16/50\n",
            "4500/4500 - 20s - loss: 0.2719 - accuracy: 0.8784 - val_loss: 0.7855 - val_accuracy: 0.7217\n",
            "Epoch 17/50\n",
            "4500/4500 - 21s - loss: 0.2625 - accuracy: 0.8835 - val_loss: 0.8400 - val_accuracy: 0.7251\n",
            "Epoch 18/50\n",
            "4500/4500 - 20s - loss: 0.2544 - accuracy: 0.8876 - val_loss: 0.8702 - val_accuracy: 0.7143\n",
            "Epoch 19/50\n",
            "4500/4500 - 20s - loss: 0.2460 - accuracy: 0.8923 - val_loss: 0.8604 - val_accuracy: 0.7176\n",
            "Epoch 20/50\n",
            "4500/4500 - 20s - loss: 0.2368 - accuracy: 0.8959 - val_loss: 0.9208 - val_accuracy: 0.7144\n",
            "Epoch 21/50\n",
            "4500/4500 - 23s - loss: 0.2283 - accuracy: 0.9010 - val_loss: 0.9540 - val_accuracy: 0.7158\n",
            "Epoch 22/50\n",
            "4500/4500 - 20s - loss: 0.2233 - accuracy: 0.9032 - val_loss: 0.9662 - val_accuracy: 0.7169\n",
            "Epoch 23/50\n",
            "4500/4500 - 21s - loss: 0.2159 - accuracy: 0.9060 - val_loss: 1.0163 - val_accuracy: 0.7164\n",
            "Epoch 24/50\n",
            "4500/4500 - 21s - loss: 0.2096 - accuracy: 0.9091 - val_loss: 1.1091 - val_accuracy: 0.7164\n",
            "Epoch 25/50\n",
            "4500/4500 - 21s - loss: 0.2036 - accuracy: 0.9122 - val_loss: 1.0898 - val_accuracy: 0.7158\n",
            "Epoch 26/50\n",
            "4500/4500 - 20s - loss: 0.1980 - accuracy: 0.9147 - val_loss: 1.1055 - val_accuracy: 0.7161\n",
            "Epoch 27/50\n",
            "4500/4500 - 20s - loss: 0.1918 - accuracy: 0.9177 - val_loss: 1.1659 - val_accuracy: 0.7120\n",
            "Epoch 28/50\n",
            "4500/4500 - 21s - loss: 0.1865 - accuracy: 0.9205 - val_loss: 1.1988 - val_accuracy: 0.7142\n",
            "Epoch 29/50\n",
            "4500/4500 - 21s - loss: 0.1824 - accuracy: 0.9215 - val_loss: 1.2317 - val_accuracy: 0.7144\n",
            "Epoch 30/50\n",
            "4500/4500 - 21s - loss: 0.1777 - accuracy: 0.9237 - val_loss: 1.2455 - val_accuracy: 0.7091\n",
            "Epoch 31/50\n",
            "4500/4500 - 21s - loss: 0.1730 - accuracy: 0.9262 - val_loss: 1.3025 - val_accuracy: 0.7061\n",
            "Epoch 32/50\n",
            "4500/4500 - 21s - loss: 0.1674 - accuracy: 0.9292 - val_loss: 1.4232 - val_accuracy: 0.7203\n",
            "Epoch 33/50\n",
            "4500/4500 - 21s - loss: 0.1646 - accuracy: 0.9307 - val_loss: 1.4291 - val_accuracy: 0.7102\n",
            "Epoch 34/50\n",
            "4500/4500 - 21s - loss: 0.1597 - accuracy: 0.9321 - val_loss: 1.4237 - val_accuracy: 0.7108\n",
            "Epoch 35/50\n",
            "4500/4500 - 20s - loss: 0.1560 - accuracy: 0.9348 - val_loss: 1.4853 - val_accuracy: 0.7106\n",
            "Epoch 36/50\n",
            "4500/4500 - 20s - loss: 0.1521 - accuracy: 0.9360 - val_loss: 1.4811 - val_accuracy: 0.7067\n",
            "Epoch 37/50\n",
            "4500/4500 - 21s - loss: 0.1482 - accuracy: 0.9384 - val_loss: 1.5902 - val_accuracy: 0.7101\n",
            "Epoch 38/50\n",
            "4500/4500 - 20s - loss: 0.1458 - accuracy: 0.9388 - val_loss: 1.4983 - val_accuracy: 0.7048\n",
            "Epoch 39/50\n",
            "4500/4500 - 20s - loss: 0.1412 - accuracy: 0.9411 - val_loss: 1.5871 - val_accuracy: 0.7030\n",
            "Epoch 40/50\n",
            "4500/4500 - 20s - loss: 0.1400 - accuracy: 0.9413 - val_loss: 1.6438 - val_accuracy: 0.7014\n",
            "Epoch 41/50\n",
            "4500/4500 - 20s - loss: 0.1360 - accuracy: 0.9438 - val_loss: 1.6853 - val_accuracy: 0.7089\n",
            "Epoch 42/50\n",
            "4500/4500 - 21s - loss: 0.1320 - accuracy: 0.9452 - val_loss: 1.8002 - val_accuracy: 0.7086\n",
            "Epoch 43/50\n",
            "4500/4500 - 21s - loss: 0.1321 - accuracy: 0.9452 - val_loss: 1.8165 - val_accuracy: 0.7097\n",
            "Epoch 44/50\n",
            "4500/4500 - 21s - loss: 0.1275 - accuracy: 0.9478 - val_loss: 1.7809 - val_accuracy: 0.7061\n",
            "Epoch 45/50\n",
            "4500/4500 - 20s - loss: 0.1249 - accuracy: 0.9483 - val_loss: 1.8994 - val_accuracy: 0.7049\n",
            "Epoch 46/50\n",
            "4500/4500 - 20s - loss: 0.1217 - accuracy: 0.9501 - val_loss: 1.8292 - val_accuracy: 0.7063\n",
            "Epoch 47/50\n",
            "4500/4500 - 20s - loss: 0.1194 - accuracy: 0.9511 - val_loss: 1.9703 - val_accuracy: 0.7101\n",
            "Epoch 48/50\n",
            "4500/4500 - 21s - loss: 0.1184 - accuracy: 0.9512 - val_loss: 1.9523 - val_accuracy: 0.7081\n",
            "Epoch 49/50\n",
            "4500/4500 - 21s - loss: 0.1155 - accuracy: 0.9530 - val_loss: 1.9665 - val_accuracy: 0.7089\n",
            "Epoch 50/50\n",
            "4500/4500 - 20s - loss: 0.1146 - accuracy: 0.9531 - val_loss: 2.0682 - val_accuracy: 0.7067\n",
            "Training Complete\n"
          ],
          "name": "stdout"
        }
      ]
    },
    {
      "cell_type": "code",
      "metadata": {
        "colab": {
          "base_uri": "https://localhost:8080/",
          "height": 607
        },
        "id": "qxju4ItJKO8F",
        "outputId": "e95ad4cb-cf07-4347-ecbb-160ab7be1ed6"
      },
      "source": [
        "import matplotlib.image  as mpimg\n",
        "import matplotlib.pyplot as plt\n",
        "\n",
        "#-----------------------------------------------------------\n",
        "# Retrieve a list of list results on training and test data\n",
        "# sets for each training epoch\n",
        "#-----------------------------------------------------------\n",
        "acc=history.history['accuracy']\n",
        "val_acc=history.history['val_accuracy']\n",
        "loss=history.history['loss']\n",
        "val_loss=history.history['val_loss']\n",
        "\n",
        "epochs=range(len(acc)) # Get number of epochs\n",
        "\n",
        "#------------------------------------------------\n",
        "# Plot training and validation accuracy per epoch\n",
        "#------------------------------------------------\n",
        "plt.plot(epochs, acc, 'r')\n",
        "plt.plot(epochs, val_acc, 'b')\n",
        "plt.title('Training and validation accuracy')\n",
        "plt.xlabel(\"Epochs\")\n",
        "plt.ylabel(\"Accuracy\")\n",
        "plt.legend([\"Accuracy\", \"Validation Accuracy\"])\n",
        "\n",
        "plt.figure()\n",
        "\n",
        "#------------------------------------------------\n",
        "# Plot training and validation loss per epoch\n",
        "#------------------------------------------------\n",
        "plt.plot(epochs, loss, 'r')\n",
        "plt.plot(epochs, val_loss, 'b')\n",
        "plt.title('Training and validation loss')\n",
        "plt.xlabel(\"Epochs\")\n",
        "plt.ylabel(\"Loss\")\n",
        "plt.legend([\"Loss\", \"Validation Loss\"])\n",
        "\n",
        "plt.figure()\n",
        "\n",
        "\n",
        "# Expected Output\n",
        "# A chart where the validation loss does not increase sharply!"
      ],
      "execution_count": 26,
      "outputs": [
        {
          "output_type": "execute_result",
          "data": {
            "text/plain": [
              "<Figure size 432x288 with 0 Axes>"
            ]
          },
          "metadata": {
            "tags": []
          },
          "execution_count": 26
        },
        {
          "output_type": "display_data",
          "data": {
            "image/png": "[encoded data removed]",
            "text/plain": [
              "<Figure size 432x288 with 1 Axes>"
            ]
          },
          "metadata": {
            "tags": [],
            "needs_background": "light"
          }
        },
        {
          "output_type": "display_data",
          "data": {
            "image/png": "[encoded data removed]",
            "text/plain": [
              "<Figure size 432x288 with 1 Axes>"
            ]
          },
          "metadata": {
            "tags": [],
            "needs_background": "light"
          }
        },
        {
          "output_type": "display_data",
          "data": {
            "text/plain": [
              "<Figure size 432x288 with 0 Axes>"
            ]
          },
          "metadata": {
            "tags": []
          }
        }
      ]
    },
    {
      "cell_type": "code",
      "metadata": {
        "id": "fEWJgRDBYKWs"
      },
      "source": [
        ""
      ],
      "execution_count": 25,
      "outputs": []
    }
  ]
}